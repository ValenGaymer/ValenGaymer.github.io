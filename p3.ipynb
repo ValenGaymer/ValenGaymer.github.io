{
 "cells": [
  {
   "cell_type": "markdown",
   "metadata": {},
   "source": [
    "Modelos de Clasificación (1.0 puntos). Considere el conjunto de datos NeurIPS 2024 - Predict\n",
    "New Medicines with BELKA. Implemente la versión de clasificación para cada uno de los modelos\n",
    "estudiados en clases, esto es Regresión Logística y KNN. Construir una tabla de error que contenga\n",
    "las métricas usuales de clasificación: precission, recall, f1-score, AUC. Además, agregue matrices de\n",
    "confusión (ver confusion_matrix) y curvas ROC (ver plot_roc). Puede utilizar la librería GridSearchCV\n",
    "y Pipeline para evaluar cada modelo. Verifique que la validación cruzada seleccionada es la adecuada,\n",
    "y justifíquelo.Utilice la métrica AUC, para seleccionar el mejor modelo de clasificación (maximizar\n",
    "AUC). Los resultados deben estar registrados en una tabla de error (ver Tabla 1) que resuma cada score\n",
    "obtenido por modelo implementado.\n"
   ]
  }
 ],
 "metadata": {
  "language_info": {
   "name": "python"
  }
 },
 "nbformat": 4,
 "nbformat_minor": 2
}
