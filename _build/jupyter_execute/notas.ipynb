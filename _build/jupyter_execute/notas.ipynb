{
 "cells": [
  {
   "cell_type": "markdown",
   "metadata": {},
   "source": [
    "# Breast Cancer y Boston Housing\n",
    "Ejercicio Notas de Clase (1.0 puntos). Considere los ejemplos vistos en clase, en los que se analizó la\n",
    "implementación de los modelos: k-nn, regresión lineal, regresión logística. Realice hiperparametrización\n",
    "y validación cruzada usando (i) GridSearchCV y Pipeline vs (ii) Manualmente, sin usar GridSearchCV\n",
    "y Pipeline (Use ciclos FOR, WHILE, etc,. . . ). Verifique que los scores obtenidos en los ítems (i)-(ii)\n",
    "son los mismos. Los ejercicios son los siguientes:\n",
    "Breast Cancer: (KNN, LogisticRegression) Decida cual es la métrica de mayor importancia en la\n",
    "aplicación de detección de cancer (métrica de negocio). Utilice esta métrica para la evaluación\n",
    "y selección del modelo y justifique su respuesta. Los resultados deben ser presentados usando\n",
    "el Cuadro 1. El estudiante que obtenga el mejor score con esta métrica, será premiado con una\n",
    "décima para el corte. Los datos deben ser cargados mediante el siguiente par de líneas:\n",
    "• from sklearn.datasets import load_breast_cancer\n",
    "• cancer = load_breast_cancer()\n",
    "Boston Housing: (LinearRegression, KNN). Utilice la métrica R2 y RMSE durante la evaluación y\n",
    "selección del modelo. Los resultados deben ser presentados usando el Cuadro 2. Realice un gráfico\n",
    "en el que muestre en los conjuntos de entrenamiento y test, el precio original y el predicho. El\n",
    "estudiante que obtenga el mejor score con esta métrica, será premiado con una décima para el\n",
    "corte. Los datos deben ser cargados mediante el siguiente par de líneas:\n",
    "• import mglearn\n",
    "• X, y = mglearn.datasets.load_extended_boston()"
   ]
  }
 ],
 "metadata": {
  "language_info": {
   "codemirror_mode": {
    "name": "ipython",
    "version": 3
   },
   "file_extension": ".py",
   "mimetype": "text/x-python",
   "name": "python",
   "nbconvert_exporter": "python",
   "pygments_lexer": "ipython3",
   "version": "3.9.19"
  }
 },
 "nbformat": 4,
 "nbformat_minor": 2
}