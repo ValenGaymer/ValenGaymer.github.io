{
 "cells": [
  {
   "cell_type": "markdown",
   "metadata": {},
   "source": [
    "# EDA: NeurIPS 2024 - Predict New Medicines with BELKA"
   ]
  },
  {
   "cell_type": "markdown",
   "metadata": {},
   "source": [
    "## Librerías"
   ]
  },
  {
   "cell_type": "code",
   "execution_count": 2,
   "metadata": {},
   "outputs": [],
   "source": [
    "import numpy as np\n",
    "import warnings\n",
    "import mglearn\n",
    "import pandas as pd\n",
    "import seaborn as sns\n",
    "import matplotlib.pyplot as plt\n",
    "from sklearn.model_selection import train_test_split\n",
    "from sklearn.preprocessing import OneHotEncoder\n",
    "from sklearn.feature_selection import SelectKBest,chi2\n",
    "warnings.filterwarnings(\"ignore\")"
   ]
  },
  {
   "cell_type": "markdown",
   "metadata": {},
   "source": [
    "## Análisis exploratorio de la base de datos"
   ]
  },
  {
   "cell_type": "markdown",
   "metadata": {},
   "source": [
    "Los medicamentos con moléculas reducidas son compuestos químicos que interactúan con las proteínas celulares. Estos regulan la actividad de las proteínas al inhibir su función, lo cual puede minimizar significativamente el impacto patológico de estas. En la actualidad, la identificación de moléculas candidatas necesita un enfoque bastante complejo, ya que requiere llevar a cabo una síntesis individual seguida de pruebas para confirmar su interacción con la proteína objetivo.  "
   ]
  },
  {
   "cell_type": "markdown",
   "metadata": {},
   "source": [
    "Aunque `la Administración de Alimentos y Medicamentos de Estados Unidos (FDA)` ha autorizado aproximadamente 2000 nuevas entidades moleculares, el número potencial de moléculas con propiedades farmacológicas efectivas es extremadamente alto, estimado en aproximadamente 10^60. Esta magnitud presenta un desafío considerable, ya que el proceso físico de búsqueda resulta prácticamente inviable para explorar todo este vasto espacio químico. \n",
    "\n"
   ]
  },
  {
   "cell_type": "markdown",
   "metadata": {},
   "source": [
    "En esta ocasión, trabajaremos con datos proporcionados por `Leash Biosciences`, los cuales están representados mediante una clasificación binaria que indica si una molécula pequeña es un aglutinante de una de las tres proteínas o no. Estos datos se recopilaron utilizando la tecnología de la  biblioteca química codificada por ADN (DEL), generando así el conjunto de datos `Big Encoded Library for Chemical Assessment (BELKA)`."
   ]
  },
  {
   "cell_type": "markdown",
   "metadata": {},
   "source": [
    "Para este ejercicio, vamos a trabajar con dos bases de datos: `train` y `test` relacionadas con el problema a predecir.\n",
    "\n",
    "Contamos con diferentes tipos de moléculas que vamos a estudiar con el fin de saber si esta está adherida o no a los 3 tipos de proteína de interés. Estas son:"
   ]
  },
  {
   "cell_type": "markdown",
   "metadata": {},
   "source": [
    "* `EPHX2 (sEH)`: **epóxido hidrolasa 2 (EPHX2)**, cuyo producto proteico es conocido como **epóxido hidrolasa soluble (sEH)**, es un objetivo farmacológico prometedor para tratar la hipertensión arterial y frenar la progresión de la diabetes.\n"
   ]
  },
  {
   "cell_type": "markdown",
   "metadata": {},
   "source": [
    "* `BRD4`: **bromodomain 4 (BRD4)**, codificado por el locus BRD4, produce una proteína que se une a histonas, proteínas en el núcleo que regulan la transcripción del ADN. Al influir en la expresión genética, juegan un papel clave en la progresión del cáncer, y se han desarrollado varios fármacos que inhiben su actividad."
   ]
  },
  {
   "cell_type": "markdown",
   "metadata": {},
   "source": [
    "* `ALB (HSA)`: `albúmina sérica (ALB)`, codificada por el locus ALB y también conocida como `HSA (albúmina sérica humana)`, es la proteína más abundante en la sangre. Su función principal es mantener la presión osmótica y transportar diversos ligandos, como hormonas y ácidos grasos."
   ]
  },
  {
   "cell_type": "markdown",
   "metadata": {},
   "source": [
    "Veamos una descripción de las variables con las que estamos trabajando:\n",
    "\n",
    "* `id`: identificador único.\n",
    "* `buildingblock1_smiles `: la estructura, en SMILES, del primer bloque de construcción.\n",
    "* `buildingblock2_smiles`: la estructura, en SMILES, del segundo bloque de construcción.\n",
    "* `buildingblock3_smiles`: la estructura, en SMILES, del tercer bloque de construcción.\n",
    "* `molecule_smiles`: la estructura de la molécula completamente ensamblada, en SMILES. Esto incluye los tres bloques de construcción y el núcleo de triazina. Es el ID de la molécula.\n",
    "* `binds`: unión molécula-proteína. 0 - No, 1 - Sí"
   ]
  },
  {
   "cell_type": "markdown",
   "metadata": {},
   "source": [
    "## Base de datos de entrenamiento"
   ]
  },
  {
   "cell_type": "code",
   "execution_count": 4,
   "metadata": {},
   "outputs": [],
   "source": [
    "data_train = pd.read_csv(\"C:/Users/valcd/Downloads/leash-BELKA/train.csv\")"
   ]
  },
  {
   "cell_type": "markdown",
   "metadata": {},
   "source": [
    "El conjunto de datos de entrenamiento, `train`, cuenta con un total de 295246830 observaciones y con 7 variables, las cuales ya fueron descritas.\n"
   ]
  },
  {
   "cell_type": "code",
   "execution_count": 4,
   "metadata": {},
   "outputs": [
    {
     "data": {
      "text/plain": [
       "(295246830, 7)"
      ]
     },
     "execution_count": 4,
     "metadata": {},
     "output_type": "execute_result"
    }
   ],
   "source": [
    "data_train.shape"
   ]
  },
  {
   "cell_type": "code",
   "execution_count": 4,
   "metadata": {},
   "outputs": [
    {
     "data": {
      "text/html": [
       "<div>\n",
       "<style scoped>\n",
       "    .dataframe tbody tr th:only-of-type {\n",
       "        vertical-align: middle;\n",
       "    }\n",
       "\n",
       "    .dataframe tbody tr th {\n",
       "        vertical-align: top;\n",
       "    }\n",
       "\n",
       "    .dataframe thead th {\n",
       "        text-align: right;\n",
       "    }\n",
       "</style>\n",
       "<table border=\"1\" class=\"dataframe\">\n",
       "  <thead>\n",
       "    <tr style=\"text-align: right;\">\n",
       "      <th></th>\n",
       "      <th>id</th>\n",
       "      <th>buildingblock1_smiles</th>\n",
       "      <th>buildingblock2_smiles</th>\n",
       "      <th>buildingblock3_smiles</th>\n",
       "      <th>molecule_smiles</th>\n",
       "      <th>protein_name</th>\n",
       "      <th>binds</th>\n",
       "    </tr>\n",
       "  </thead>\n",
       "  <tbody>\n",
       "    <tr>\n",
       "      <th>0</th>\n",
       "      <td>0</td>\n",
       "      <td>C#CC[C@@H](CC(=O)O)NC(=O)OCC1c2ccccc2-c2ccccc21</td>\n",
       "      <td>C#CCOc1ccc(CN)cc1.Cl</td>\n",
       "      <td>Br.Br.NCC1CCCN1c1cccnn1</td>\n",
       "      <td>C#CCOc1ccc(CNc2nc(NCC3CCCN3c3cccnn3)nc(N[C@@H]...</td>\n",
       "      <td>BRD4</td>\n",
       "      <td>0</td>\n",
       "    </tr>\n",
       "    <tr>\n",
       "      <th>1</th>\n",
       "      <td>1</td>\n",
       "      <td>C#CC[C@@H](CC(=O)O)NC(=O)OCC1c2ccccc2-c2ccccc21</td>\n",
       "      <td>C#CCOc1ccc(CN)cc1.Cl</td>\n",
       "      <td>Br.Br.NCC1CCCN1c1cccnn1</td>\n",
       "      <td>C#CCOc1ccc(CNc2nc(NCC3CCCN3c3cccnn3)nc(N[C@@H]...</td>\n",
       "      <td>HSA</td>\n",
       "      <td>0</td>\n",
       "    </tr>\n",
       "    <tr>\n",
       "      <th>2</th>\n",
       "      <td>2</td>\n",
       "      <td>C#CC[C@@H](CC(=O)O)NC(=O)OCC1c2ccccc2-c2ccccc21</td>\n",
       "      <td>C#CCOc1ccc(CN)cc1.Cl</td>\n",
       "      <td>Br.Br.NCC1CCCN1c1cccnn1</td>\n",
       "      <td>C#CCOc1ccc(CNc2nc(NCC3CCCN3c3cccnn3)nc(N[C@@H]...</td>\n",
       "      <td>sEH</td>\n",
       "      <td>0</td>\n",
       "    </tr>\n",
       "    <tr>\n",
       "      <th>3</th>\n",
       "      <td>3</td>\n",
       "      <td>C#CC[C@@H](CC(=O)O)NC(=O)OCC1c2ccccc2-c2ccccc21</td>\n",
       "      <td>C#CCOc1ccc(CN)cc1.Cl</td>\n",
       "      <td>Br.NCc1cccc(Br)n1</td>\n",
       "      <td>C#CCOc1ccc(CNc2nc(NCc3cccc(Br)n3)nc(N[C@@H](CC...</td>\n",
       "      <td>BRD4</td>\n",
       "      <td>0</td>\n",
       "    </tr>\n",
       "    <tr>\n",
       "      <th>4</th>\n",
       "      <td>4</td>\n",
       "      <td>C#CC[C@@H](CC(=O)O)NC(=O)OCC1c2ccccc2-c2ccccc21</td>\n",
       "      <td>C#CCOc1ccc(CN)cc1.Cl</td>\n",
       "      <td>Br.NCc1cccc(Br)n1</td>\n",
       "      <td>C#CCOc1ccc(CNc2nc(NCc3cccc(Br)n3)nc(N[C@@H](CC...</td>\n",
       "      <td>HSA</td>\n",
       "      <td>0</td>\n",
       "    </tr>\n",
       "    <tr>\n",
       "      <th>5</th>\n",
       "      <td>5</td>\n",
       "      <td>C#CC[C@@H](CC(=O)O)NC(=O)OCC1c2ccccc2-c2ccccc21</td>\n",
       "      <td>C#CCOc1ccc(CN)cc1.Cl</td>\n",
       "      <td>Br.NCc1cccc(Br)n1</td>\n",
       "      <td>C#CCOc1ccc(CNc2nc(NCc3cccc(Br)n3)nc(N[C@@H](CC...</td>\n",
       "      <td>sEH</td>\n",
       "      <td>0</td>\n",
       "    </tr>\n",
       "    <tr>\n",
       "      <th>6</th>\n",
       "      <td>6</td>\n",
       "      <td>C#CC[C@@H](CC(=O)O)NC(=O)OCC1c2ccccc2-c2ccccc21</td>\n",
       "      <td>C#CCOc1ccc(CN)cc1.Cl</td>\n",
       "      <td>C#CCOc1ccc(CN)cc1.Cl</td>\n",
       "      <td>C#CCOc1ccc(CNc2nc(NCc3ccc(OCC#C)cc3)nc(N[C@@H]...</td>\n",
       "      <td>BRD4</td>\n",
       "      <td>0</td>\n",
       "    </tr>\n",
       "    <tr>\n",
       "      <th>7</th>\n",
       "      <td>7</td>\n",
       "      <td>C#CC[C@@H](CC(=O)O)NC(=O)OCC1c2ccccc2-c2ccccc21</td>\n",
       "      <td>C#CCOc1ccc(CN)cc1.Cl</td>\n",
       "      <td>C#CCOc1ccc(CN)cc1.Cl</td>\n",
       "      <td>C#CCOc1ccc(CNc2nc(NCc3ccc(OCC#C)cc3)nc(N[C@@H]...</td>\n",
       "      <td>HSA</td>\n",
       "      <td>0</td>\n",
       "    </tr>\n",
       "    <tr>\n",
       "      <th>8</th>\n",
       "      <td>8</td>\n",
       "      <td>C#CC[C@@H](CC(=O)O)NC(=O)OCC1c2ccccc2-c2ccccc21</td>\n",
       "      <td>C#CCOc1ccc(CN)cc1.Cl</td>\n",
       "      <td>C#CCOc1ccc(CN)cc1.Cl</td>\n",
       "      <td>C#CCOc1ccc(CNc2nc(NCc3ccc(OCC#C)cc3)nc(N[C@@H]...</td>\n",
       "      <td>sEH</td>\n",
       "      <td>0</td>\n",
       "    </tr>\n",
       "    <tr>\n",
       "      <th>9</th>\n",
       "      <td>9</td>\n",
       "      <td>C#CC[C@@H](CC(=O)O)NC(=O)OCC1c2ccccc2-c2ccccc21</td>\n",
       "      <td>C#CCOc1ccc(CN)cc1.Cl</td>\n",
       "      <td>C=C(C)C(=O)NCCN.Cl</td>\n",
       "      <td>C#CCOc1ccc(CNc2nc(NCCNC(=O)C(=C)C)nc(N[C@@H](C...</td>\n",
       "      <td>BRD4</td>\n",
       "      <td>0</td>\n",
       "    </tr>\n",
       "    <tr>\n",
       "      <th>10</th>\n",
       "      <td>10</td>\n",
       "      <td>C#CC[C@@H](CC(=O)O)NC(=O)OCC1c2ccccc2-c2ccccc21</td>\n",
       "      <td>C#CCOc1ccc(CN)cc1.Cl</td>\n",
       "      <td>C=C(C)C(=O)NCCN.Cl</td>\n",
       "      <td>C#CCOc1ccc(CNc2nc(NCCNC(=O)C(=C)C)nc(N[C@@H](C...</td>\n",
       "      <td>HSA</td>\n",
       "      <td>0</td>\n",
       "    </tr>\n",
       "    <tr>\n",
       "      <th>11</th>\n",
       "      <td>11</td>\n",
       "      <td>C#CC[C@@H](CC(=O)O)NC(=O)OCC1c2ccccc2-c2ccccc21</td>\n",
       "      <td>C#CCOc1ccc(CN)cc1.Cl</td>\n",
       "      <td>C=C(C)C(=O)NCCN.Cl</td>\n",
       "      <td>C#CCOc1ccc(CNc2nc(NCCNC(=O)C(=C)C)nc(N[C@@H](C...</td>\n",
       "      <td>sEH</td>\n",
       "      <td>0</td>\n",
       "    </tr>\n",
       "    <tr>\n",
       "      <th>12</th>\n",
       "      <td>12</td>\n",
       "      <td>C#CC[C@@H](CC(=O)O)NC(=O)OCC1c2ccccc2-c2ccccc21</td>\n",
       "      <td>C#CCOc1ccc(CN)cc1.Cl</td>\n",
       "      <td>C=CCNC(=O)CN.Cl</td>\n",
       "      <td>C#CCOc1ccc(CNc2nc(NCC(=O)NCC=C)nc(N[C@@H](CC#C...</td>\n",
       "      <td>BRD4</td>\n",
       "      <td>0</td>\n",
       "    </tr>\n",
       "    <tr>\n",
       "      <th>13</th>\n",
       "      <td>13</td>\n",
       "      <td>C#CC[C@@H](CC(=O)O)NC(=O)OCC1c2ccccc2-c2ccccc21</td>\n",
       "      <td>C#CCOc1ccc(CN)cc1.Cl</td>\n",
       "      <td>C=CCNC(=O)CN.Cl</td>\n",
       "      <td>C#CCOc1ccc(CNc2nc(NCC(=O)NCC=C)nc(N[C@@H](CC#C...</td>\n",
       "      <td>HSA</td>\n",
       "      <td>0</td>\n",
       "    </tr>\n",
       "    <tr>\n",
       "      <th>14</th>\n",
       "      <td>14</td>\n",
       "      <td>C#CC[C@@H](CC(=O)O)NC(=O)OCC1c2ccccc2-c2ccccc21</td>\n",
       "      <td>C#CCOc1ccc(CN)cc1.Cl</td>\n",
       "      <td>C=CCNC(=O)CN.Cl</td>\n",
       "      <td>C#CCOc1ccc(CNc2nc(NCC(=O)NCC=C)nc(N[C@@H](CC#C...</td>\n",
       "      <td>sEH</td>\n",
       "      <td>0</td>\n",
       "    </tr>\n",
       "  </tbody>\n",
       "</table>\n",
       "</div>"
      ],
      "text/plain": [
       "    id                            buildingblock1_smiles buildingblock2_smiles  \\\n",
       "0    0  C#CC[C@@H](CC(=O)O)NC(=O)OCC1c2ccccc2-c2ccccc21  C#CCOc1ccc(CN)cc1.Cl   \n",
       "1    1  C#CC[C@@H](CC(=O)O)NC(=O)OCC1c2ccccc2-c2ccccc21  C#CCOc1ccc(CN)cc1.Cl   \n",
       "2    2  C#CC[C@@H](CC(=O)O)NC(=O)OCC1c2ccccc2-c2ccccc21  C#CCOc1ccc(CN)cc1.Cl   \n",
       "3    3  C#CC[C@@H](CC(=O)O)NC(=O)OCC1c2ccccc2-c2ccccc21  C#CCOc1ccc(CN)cc1.Cl   \n",
       "4    4  C#CC[C@@H](CC(=O)O)NC(=O)OCC1c2ccccc2-c2ccccc21  C#CCOc1ccc(CN)cc1.Cl   \n",
       "5    5  C#CC[C@@H](CC(=O)O)NC(=O)OCC1c2ccccc2-c2ccccc21  C#CCOc1ccc(CN)cc1.Cl   \n",
       "6    6  C#CC[C@@H](CC(=O)O)NC(=O)OCC1c2ccccc2-c2ccccc21  C#CCOc1ccc(CN)cc1.Cl   \n",
       "7    7  C#CC[C@@H](CC(=O)O)NC(=O)OCC1c2ccccc2-c2ccccc21  C#CCOc1ccc(CN)cc1.Cl   \n",
       "8    8  C#CC[C@@H](CC(=O)O)NC(=O)OCC1c2ccccc2-c2ccccc21  C#CCOc1ccc(CN)cc1.Cl   \n",
       "9    9  C#CC[C@@H](CC(=O)O)NC(=O)OCC1c2ccccc2-c2ccccc21  C#CCOc1ccc(CN)cc1.Cl   \n",
       "10  10  C#CC[C@@H](CC(=O)O)NC(=O)OCC1c2ccccc2-c2ccccc21  C#CCOc1ccc(CN)cc1.Cl   \n",
       "11  11  C#CC[C@@H](CC(=O)O)NC(=O)OCC1c2ccccc2-c2ccccc21  C#CCOc1ccc(CN)cc1.Cl   \n",
       "12  12  C#CC[C@@H](CC(=O)O)NC(=O)OCC1c2ccccc2-c2ccccc21  C#CCOc1ccc(CN)cc1.Cl   \n",
       "13  13  C#CC[C@@H](CC(=O)O)NC(=O)OCC1c2ccccc2-c2ccccc21  C#CCOc1ccc(CN)cc1.Cl   \n",
       "14  14  C#CC[C@@H](CC(=O)O)NC(=O)OCC1c2ccccc2-c2ccccc21  C#CCOc1ccc(CN)cc1.Cl   \n",
       "\n",
       "      buildingblock3_smiles  \\\n",
       "0   Br.Br.NCC1CCCN1c1cccnn1   \n",
       "1   Br.Br.NCC1CCCN1c1cccnn1   \n",
       "2   Br.Br.NCC1CCCN1c1cccnn1   \n",
       "3         Br.NCc1cccc(Br)n1   \n",
       "4         Br.NCc1cccc(Br)n1   \n",
       "5         Br.NCc1cccc(Br)n1   \n",
       "6      C#CCOc1ccc(CN)cc1.Cl   \n",
       "7      C#CCOc1ccc(CN)cc1.Cl   \n",
       "8      C#CCOc1ccc(CN)cc1.Cl   \n",
       "9        C=C(C)C(=O)NCCN.Cl   \n",
       "10       C=C(C)C(=O)NCCN.Cl   \n",
       "11       C=C(C)C(=O)NCCN.Cl   \n",
       "12          C=CCNC(=O)CN.Cl   \n",
       "13          C=CCNC(=O)CN.Cl   \n",
       "14          C=CCNC(=O)CN.Cl   \n",
       "\n",
       "                                      molecule_smiles protein_name  binds  \n",
       "0   C#CCOc1ccc(CNc2nc(NCC3CCCN3c3cccnn3)nc(N[C@@H]...         BRD4      0  \n",
       "1   C#CCOc1ccc(CNc2nc(NCC3CCCN3c3cccnn3)nc(N[C@@H]...          HSA      0  \n",
       "2   C#CCOc1ccc(CNc2nc(NCC3CCCN3c3cccnn3)nc(N[C@@H]...          sEH      0  \n",
       "3   C#CCOc1ccc(CNc2nc(NCc3cccc(Br)n3)nc(N[C@@H](CC...         BRD4      0  \n",
       "4   C#CCOc1ccc(CNc2nc(NCc3cccc(Br)n3)nc(N[C@@H](CC...          HSA      0  \n",
       "5   C#CCOc1ccc(CNc2nc(NCc3cccc(Br)n3)nc(N[C@@H](CC...          sEH      0  \n",
       "6   C#CCOc1ccc(CNc2nc(NCc3ccc(OCC#C)cc3)nc(N[C@@H]...         BRD4      0  \n",
       "7   C#CCOc1ccc(CNc2nc(NCc3ccc(OCC#C)cc3)nc(N[C@@H]...          HSA      0  \n",
       "8   C#CCOc1ccc(CNc2nc(NCc3ccc(OCC#C)cc3)nc(N[C@@H]...          sEH      0  \n",
       "9   C#CCOc1ccc(CNc2nc(NCCNC(=O)C(=C)C)nc(N[C@@H](C...         BRD4      0  \n",
       "10  C#CCOc1ccc(CNc2nc(NCCNC(=O)C(=C)C)nc(N[C@@H](C...          HSA      0  \n",
       "11  C#CCOc1ccc(CNc2nc(NCCNC(=O)C(=C)C)nc(N[C@@H](C...          sEH      0  \n",
       "12  C#CCOc1ccc(CNc2nc(NCC(=O)NCC=C)nc(N[C@@H](CC#C...         BRD4      0  \n",
       "13  C#CCOc1ccc(CNc2nc(NCC(=O)NCC=C)nc(N[C@@H](CC#C...          HSA      0  \n",
       "14  C#CCOc1ccc(CNc2nc(NCC(=O)NCC=C)nc(N[C@@H](CC#C...          sEH      0  "
      ]
     },
     "execution_count": 4,
     "metadata": {},
     "output_type": "execute_result"
    }
   ],
   "source": [
    "data_train.head(15)"
   ]
  },
  {
   "cell_type": "code",
   "execution_count": 6,
   "metadata": {},
   "outputs": [
    {
     "data": {
      "text/html": [
       "<div>\n",
       "<style scoped>\n",
       "    .dataframe tbody tr th:only-of-type {\n",
       "        vertical-align: middle;\n",
       "    }\n",
       "\n",
       "    .dataframe tbody tr th {\n",
       "        vertical-align: top;\n",
       "    }\n",
       "\n",
       "    .dataframe thead th {\n",
       "        text-align: right;\n",
       "    }\n",
       "</style>\n",
       "<table border=\"1\" class=\"dataframe\">\n",
       "  <thead>\n",
       "    <tr style=\"text-align: right;\">\n",
       "      <th></th>\n",
       "      <th>id</th>\n",
       "      <th>buildingblock1_smiles</th>\n",
       "      <th>buildingblock2_smiles</th>\n",
       "      <th>buildingblock3_smiles</th>\n",
       "      <th>molecule_smiles</th>\n",
       "      <th>protein_name</th>\n",
       "      <th>binds</th>\n",
       "    </tr>\n",
       "  </thead>\n",
       "  <tbody>\n",
       "    <tr>\n",
       "      <th>295246815</th>\n",
       "      <td>295246815</td>\n",
       "      <td>[N-]=[N+]=NCCC[C@H](NC(=O)OCC1c2ccccc2-c2ccccc...</td>\n",
       "      <td>Nc1noc2ccc(F)cc12</td>\n",
       "      <td>Nc1ncnc2c1ncn2C1CCCCO1</td>\n",
       "      <td>[N-]=[N+]=NCCC[C@H](Nc1nc(Nc2noc3ccc(F)cc23)nc...</td>\n",
       "      <td>BRD4</td>\n",
       "      <td>0</td>\n",
       "    </tr>\n",
       "    <tr>\n",
       "      <th>295246816</th>\n",
       "      <td>295246816</td>\n",
       "      <td>[N-]=[N+]=NCCC[C@H](NC(=O)OCC1c2ccccc2-c2ccccc...</td>\n",
       "      <td>Nc1noc2ccc(F)cc12</td>\n",
       "      <td>Nc1ncnc2c1ncn2C1CCCCO1</td>\n",
       "      <td>[N-]=[N+]=NCCC[C@H](Nc1nc(Nc2noc3ccc(F)cc23)nc...</td>\n",
       "      <td>HSA</td>\n",
       "      <td>0</td>\n",
       "    </tr>\n",
       "    <tr>\n",
       "      <th>295246817</th>\n",
       "      <td>295246817</td>\n",
       "      <td>[N-]=[N+]=NCCC[C@H](NC(=O)OCC1c2ccccc2-c2ccccc...</td>\n",
       "      <td>Nc1noc2ccc(F)cc12</td>\n",
       "      <td>Nc1ncnc2c1ncn2C1CCCCO1</td>\n",
       "      <td>[N-]=[N+]=NCCC[C@H](Nc1nc(Nc2noc3ccc(F)cc23)nc...</td>\n",
       "      <td>sEH</td>\n",
       "      <td>0</td>\n",
       "    </tr>\n",
       "    <tr>\n",
       "      <th>295246818</th>\n",
       "      <td>295246818</td>\n",
       "      <td>[N-]=[N+]=NCCC[C@H](NC(=O)OCC1c2ccccc2-c2ccccc...</td>\n",
       "      <td>Nc1noc2ccc(F)cc12</td>\n",
       "      <td>Nc1nnc(S)s1</td>\n",
       "      <td>[N-]=[N+]=NCCC[C@H](Nc1nc(Nc2nnc(S)s2)nc(Nc2no...</td>\n",
       "      <td>BRD4</td>\n",
       "      <td>0</td>\n",
       "    </tr>\n",
       "    <tr>\n",
       "      <th>295246819</th>\n",
       "      <td>295246819</td>\n",
       "      <td>[N-]=[N+]=NCCC[C@H](NC(=O)OCC1c2ccccc2-c2ccccc...</td>\n",
       "      <td>Nc1noc2ccc(F)cc12</td>\n",
       "      <td>Nc1nnc(S)s1</td>\n",
       "      <td>[N-]=[N+]=NCCC[C@H](Nc1nc(Nc2nnc(S)s2)nc(Nc2no...</td>\n",
       "      <td>HSA</td>\n",
       "      <td>0</td>\n",
       "    </tr>\n",
       "    <tr>\n",
       "      <th>295246820</th>\n",
       "      <td>295246820</td>\n",
       "      <td>[N-]=[N+]=NCCC[C@H](NC(=O)OCC1c2ccccc2-c2ccccc...</td>\n",
       "      <td>Nc1noc2ccc(F)cc12</td>\n",
       "      <td>Nc1nnc(S)s1</td>\n",
       "      <td>[N-]=[N+]=NCCC[C@H](Nc1nc(Nc2nnc(S)s2)nc(Nc2no...</td>\n",
       "      <td>sEH</td>\n",
       "      <td>0</td>\n",
       "    </tr>\n",
       "    <tr>\n",
       "      <th>295246821</th>\n",
       "      <td>295246821</td>\n",
       "      <td>[N-]=[N+]=NCCC[C@H](NC(=O)OCC1c2ccccc2-c2ccccc...</td>\n",
       "      <td>Nc1noc2ccc(F)cc12</td>\n",
       "      <td>Nc1nncs1</td>\n",
       "      <td>[N-]=[N+]=NCCC[C@H](Nc1nc(Nc2nncs2)nc(Nc2noc3c...</td>\n",
       "      <td>BRD4</td>\n",
       "      <td>0</td>\n",
       "    </tr>\n",
       "    <tr>\n",
       "      <th>295246822</th>\n",
       "      <td>295246822</td>\n",
       "      <td>[N-]=[N+]=NCCC[C@H](NC(=O)OCC1c2ccccc2-c2ccccc...</td>\n",
       "      <td>Nc1noc2ccc(F)cc12</td>\n",
       "      <td>Nc1nncs1</td>\n",
       "      <td>[N-]=[N+]=NCCC[C@H](Nc1nc(Nc2nncs2)nc(Nc2noc3c...</td>\n",
       "      <td>HSA</td>\n",
       "      <td>0</td>\n",
       "    </tr>\n",
       "    <tr>\n",
       "      <th>295246823</th>\n",
       "      <td>295246823</td>\n",
       "      <td>[N-]=[N+]=NCCC[C@H](NC(=O)OCC1c2ccccc2-c2ccccc...</td>\n",
       "      <td>Nc1noc2ccc(F)cc12</td>\n",
       "      <td>Nc1nncs1</td>\n",
       "      <td>[N-]=[N+]=NCCC[C@H](Nc1nc(Nc2nncs2)nc(Nc2noc3c...</td>\n",
       "      <td>sEH</td>\n",
       "      <td>0</td>\n",
       "    </tr>\n",
       "    <tr>\n",
       "      <th>295246824</th>\n",
       "      <td>295246824</td>\n",
       "      <td>[N-]=[N+]=NCCC[C@H](NC(=O)OCC1c2ccccc2-c2ccccc...</td>\n",
       "      <td>Nc1noc2ccc(F)cc12</td>\n",
       "      <td>Nc1nnn[nH]1</td>\n",
       "      <td>[N-]=[N+]=NCCC[C@H](Nc1nc(Nc2nnn[nH]2)nc(Nc2no...</td>\n",
       "      <td>BRD4</td>\n",
       "      <td>0</td>\n",
       "    </tr>\n",
       "    <tr>\n",
       "      <th>295246825</th>\n",
       "      <td>295246825</td>\n",
       "      <td>[N-]=[N+]=NCCC[C@H](NC(=O)OCC1c2ccccc2-c2ccccc...</td>\n",
       "      <td>Nc1noc2ccc(F)cc12</td>\n",
       "      <td>Nc1nnn[nH]1</td>\n",
       "      <td>[N-]=[N+]=NCCC[C@H](Nc1nc(Nc2nnn[nH]2)nc(Nc2no...</td>\n",
       "      <td>HSA</td>\n",
       "      <td>0</td>\n",
       "    </tr>\n",
       "    <tr>\n",
       "      <th>295246826</th>\n",
       "      <td>295246826</td>\n",
       "      <td>[N-]=[N+]=NCCC[C@H](NC(=O)OCC1c2ccccc2-c2ccccc...</td>\n",
       "      <td>Nc1noc2ccc(F)cc12</td>\n",
       "      <td>Nc1nnn[nH]1</td>\n",
       "      <td>[N-]=[N+]=NCCC[C@H](Nc1nc(Nc2nnn[nH]2)nc(Nc2no...</td>\n",
       "      <td>sEH</td>\n",
       "      <td>0</td>\n",
       "    </tr>\n",
       "    <tr>\n",
       "      <th>295246827</th>\n",
       "      <td>295246827</td>\n",
       "      <td>[N-]=[N+]=NCCC[C@H](NC(=O)OCC1c2ccccc2-c2ccccc...</td>\n",
       "      <td>Nc1noc2ccc(F)cc12</td>\n",
       "      <td>Nc1noc2ccc(F)cc12</td>\n",
       "      <td>[N-]=[N+]=NCCC[C@H](Nc1nc(Nc2noc3ccc(F)cc23)nc...</td>\n",
       "      <td>BRD4</td>\n",
       "      <td>0</td>\n",
       "    </tr>\n",
       "    <tr>\n",
       "      <th>295246828</th>\n",
       "      <td>295246828</td>\n",
       "      <td>[N-]=[N+]=NCCC[C@H](NC(=O)OCC1c2ccccc2-c2ccccc...</td>\n",
       "      <td>Nc1noc2ccc(F)cc12</td>\n",
       "      <td>Nc1noc2ccc(F)cc12</td>\n",
       "      <td>[N-]=[N+]=NCCC[C@H](Nc1nc(Nc2noc3ccc(F)cc23)nc...</td>\n",
       "      <td>HSA</td>\n",
       "      <td>0</td>\n",
       "    </tr>\n",
       "    <tr>\n",
       "      <th>295246829</th>\n",
       "      <td>295246829</td>\n",
       "      <td>[N-]=[N+]=NCCC[C@H](NC(=O)OCC1c2ccccc2-c2ccccc...</td>\n",
       "      <td>Nc1noc2ccc(F)cc12</td>\n",
       "      <td>Nc1noc2ccc(F)cc12</td>\n",
       "      <td>[N-]=[N+]=NCCC[C@H](Nc1nc(Nc2noc3ccc(F)cc23)nc...</td>\n",
       "      <td>sEH</td>\n",
       "      <td>0</td>\n",
       "    </tr>\n",
       "  </tbody>\n",
       "</table>\n",
       "</div>"
      ],
      "text/plain": [
       "                  id                              buildingblock1_smiles  \\\n",
       "295246815  295246815  [N-]=[N+]=NCCC[C@H](NC(=O)OCC1c2ccccc2-c2ccccc...   \n",
       "295246816  295246816  [N-]=[N+]=NCCC[C@H](NC(=O)OCC1c2ccccc2-c2ccccc...   \n",
       "295246817  295246817  [N-]=[N+]=NCCC[C@H](NC(=O)OCC1c2ccccc2-c2ccccc...   \n",
       "295246818  295246818  [N-]=[N+]=NCCC[C@H](NC(=O)OCC1c2ccccc2-c2ccccc...   \n",
       "295246819  295246819  [N-]=[N+]=NCCC[C@H](NC(=O)OCC1c2ccccc2-c2ccccc...   \n",
       "295246820  295246820  [N-]=[N+]=NCCC[C@H](NC(=O)OCC1c2ccccc2-c2ccccc...   \n",
       "295246821  295246821  [N-]=[N+]=NCCC[C@H](NC(=O)OCC1c2ccccc2-c2ccccc...   \n",
       "295246822  295246822  [N-]=[N+]=NCCC[C@H](NC(=O)OCC1c2ccccc2-c2ccccc...   \n",
       "295246823  295246823  [N-]=[N+]=NCCC[C@H](NC(=O)OCC1c2ccccc2-c2ccccc...   \n",
       "295246824  295246824  [N-]=[N+]=NCCC[C@H](NC(=O)OCC1c2ccccc2-c2ccccc...   \n",
       "295246825  295246825  [N-]=[N+]=NCCC[C@H](NC(=O)OCC1c2ccccc2-c2ccccc...   \n",
       "295246826  295246826  [N-]=[N+]=NCCC[C@H](NC(=O)OCC1c2ccccc2-c2ccccc...   \n",
       "295246827  295246827  [N-]=[N+]=NCCC[C@H](NC(=O)OCC1c2ccccc2-c2ccccc...   \n",
       "295246828  295246828  [N-]=[N+]=NCCC[C@H](NC(=O)OCC1c2ccccc2-c2ccccc...   \n",
       "295246829  295246829  [N-]=[N+]=NCCC[C@H](NC(=O)OCC1c2ccccc2-c2ccccc...   \n",
       "\n",
       "          buildingblock2_smiles   buildingblock3_smiles  \\\n",
       "295246815     Nc1noc2ccc(F)cc12  Nc1ncnc2c1ncn2C1CCCCO1   \n",
       "295246816     Nc1noc2ccc(F)cc12  Nc1ncnc2c1ncn2C1CCCCO1   \n",
       "295246817     Nc1noc2ccc(F)cc12  Nc1ncnc2c1ncn2C1CCCCO1   \n",
       "295246818     Nc1noc2ccc(F)cc12             Nc1nnc(S)s1   \n",
       "295246819     Nc1noc2ccc(F)cc12             Nc1nnc(S)s1   \n",
       "295246820     Nc1noc2ccc(F)cc12             Nc1nnc(S)s1   \n",
       "295246821     Nc1noc2ccc(F)cc12                Nc1nncs1   \n",
       "295246822     Nc1noc2ccc(F)cc12                Nc1nncs1   \n",
       "295246823     Nc1noc2ccc(F)cc12                Nc1nncs1   \n",
       "295246824     Nc1noc2ccc(F)cc12             Nc1nnn[nH]1   \n",
       "295246825     Nc1noc2ccc(F)cc12             Nc1nnn[nH]1   \n",
       "295246826     Nc1noc2ccc(F)cc12             Nc1nnn[nH]1   \n",
       "295246827     Nc1noc2ccc(F)cc12       Nc1noc2ccc(F)cc12   \n",
       "295246828     Nc1noc2ccc(F)cc12       Nc1noc2ccc(F)cc12   \n",
       "295246829     Nc1noc2ccc(F)cc12       Nc1noc2ccc(F)cc12   \n",
       "\n",
       "                                             molecule_smiles protein_name  \\\n",
       "295246815  [N-]=[N+]=NCCC[C@H](Nc1nc(Nc2noc3ccc(F)cc23)nc...         BRD4   \n",
       "295246816  [N-]=[N+]=NCCC[C@H](Nc1nc(Nc2noc3ccc(F)cc23)nc...          HSA   \n",
       "295246817  [N-]=[N+]=NCCC[C@H](Nc1nc(Nc2noc3ccc(F)cc23)nc...          sEH   \n",
       "295246818  [N-]=[N+]=NCCC[C@H](Nc1nc(Nc2nnc(S)s2)nc(Nc2no...         BRD4   \n",
       "295246819  [N-]=[N+]=NCCC[C@H](Nc1nc(Nc2nnc(S)s2)nc(Nc2no...          HSA   \n",
       "295246820  [N-]=[N+]=NCCC[C@H](Nc1nc(Nc2nnc(S)s2)nc(Nc2no...          sEH   \n",
       "295246821  [N-]=[N+]=NCCC[C@H](Nc1nc(Nc2nncs2)nc(Nc2noc3c...         BRD4   \n",
       "295246822  [N-]=[N+]=NCCC[C@H](Nc1nc(Nc2nncs2)nc(Nc2noc3c...          HSA   \n",
       "295246823  [N-]=[N+]=NCCC[C@H](Nc1nc(Nc2nncs2)nc(Nc2noc3c...          sEH   \n",
       "295246824  [N-]=[N+]=NCCC[C@H](Nc1nc(Nc2nnn[nH]2)nc(Nc2no...         BRD4   \n",
       "295246825  [N-]=[N+]=NCCC[C@H](Nc1nc(Nc2nnn[nH]2)nc(Nc2no...          HSA   \n",
       "295246826  [N-]=[N+]=NCCC[C@H](Nc1nc(Nc2nnn[nH]2)nc(Nc2no...          sEH   \n",
       "295246827  [N-]=[N+]=NCCC[C@H](Nc1nc(Nc2noc3ccc(F)cc23)nc...         BRD4   \n",
       "295246828  [N-]=[N+]=NCCC[C@H](Nc1nc(Nc2noc3ccc(F)cc23)nc...          HSA   \n",
       "295246829  [N-]=[N+]=NCCC[C@H](Nc1nc(Nc2noc3ccc(F)cc23)nc...          sEH   \n",
       "\n",
       "           binds  \n",
       "295246815      0  \n",
       "295246816      0  \n",
       "295246817      0  \n",
       "295246818      0  \n",
       "295246819      0  \n",
       "295246820      0  \n",
       "295246821      0  \n",
       "295246822      0  \n",
       "295246823      0  \n",
       "295246824      0  \n",
       "295246825      0  \n",
       "295246826      0  \n",
       "295246827      0  \n",
       "295246828      0  \n",
       "295246829      0  "
      ]
     },
     "execution_count": 6,
     "metadata": {},
     "output_type": "execute_result"
    }
   ],
   "source": [
    "data_train.tail(15)"
   ]
  },
  {
   "cell_type": "markdown",
   "metadata": {},
   "source": [
    "Al visualizar las primeras y últimas 15 observaciones, respectivamente, podemos darnos cuenta de que se sigue un patrón en cuanto a los bloques y las moléculas. Dicho patrón es que el valor de estas 4 variables, se repite 3 veces dado que se realiza la comparación con cada una de las 3 proteínas."
   ]
  },
  {
   "cell_type": "markdown",
   "metadata": {},
   "source": [
    "Ahora, analicemos más de cerca las variables de nuestro conjunto de datos."
   ]
  },
  {
   "cell_type": "markdown",
   "metadata": {},
   "source": [
    "Primero, estudiemos la distribución de nuestra variable objetivo `binds`, la cual como ya se mencionó, indica si la molécula se adhirió o no a la proteína."
   ]
  },
  {
   "cell_type": "code",
   "execution_count": 4,
   "metadata": {},
   "outputs": [
    {
     "data": {
      "text/plain": [
       "binds\n",
       "0    293656924\n",
       "1      1589906\n",
       "Name: count, dtype: int64"
      ]
     },
     "execution_count": 4,
     "metadata": {},
     "output_type": "execute_result"
    }
   ],
   "source": [
    "labels = (data_train['binds'].value_counts())\n",
    "labels"
   ]
  },
  {
   "cell_type": "code",
   "execution_count": 8,
   "metadata": {},
   "outputs": [
    {
     "data": {
      "text/plain": [
       "binds\n",
       "0    99.461499\n",
       "1     0.538501\n",
       "Name: proportion, dtype: float64"
      ]
     },
     "execution_count": 8,
     "metadata": {},
     "output_type": "execute_result"
    }
   ],
   "source": [
    "prctj = data_train['binds'].value_counts(normalize=True) * 100\n",
    "prctj"
   ]
  },
  {
   "cell_type": "code",
   "execution_count": 9,
   "metadata": {},
   "outputs": [],
   "source": [
    "proteinas = data_train.groupby('protein_name')['binds'].value_counts(normalize=True).unstack().reset_index(drop=True)"
   ]
  },
  {
   "cell_type": "code",
   "execution_count": 10,
   "metadata": {},
   "outputs": [
    {
     "data": {
      "text/html": [
       "<div>\n",
       "<style scoped>\n",
       "    .dataframe tbody tr th:only-of-type {\n",
       "        vertical-align: middle;\n",
       "    }\n",
       "\n",
       "    .dataframe tbody tr th {\n",
       "        vertical-align: top;\n",
       "    }\n",
       "\n",
       "    .dataframe thead th {\n",
       "        text-align: right;\n",
       "    }\n",
       "</style>\n",
       "<table border=\"1\" class=\"dataframe\">\n",
       "  <thead>\n",
       "    <tr style=\"text-align: right;\">\n",
       "      <th>binds</th>\n",
       "      <th>0</th>\n",
       "      <th>1</th>\n",
       "    </tr>\n",
       "  </thead>\n",
       "  <tbody>\n",
       "    <tr>\n",
       "      <th>0</th>\n",
       "      <td>0.995357</td>\n",
       "      <td>0.004643</td>\n",
       "    </tr>\n",
       "    <tr>\n",
       "      <th>1</th>\n",
       "      <td>0.995850</td>\n",
       "      <td>0.004150</td>\n",
       "    </tr>\n",
       "    <tr>\n",
       "      <th>2</th>\n",
       "      <td>0.992638</td>\n",
       "      <td>0.007362</td>\n",
       "    </tr>\n",
       "  </tbody>\n",
       "</table>\n",
       "</div>"
      ],
      "text/plain": [
       "binds         0         1\n",
       "0      0.995357  0.004643\n",
       "1      0.995850  0.004150\n",
       "2      0.992638  0.007362"
      ]
     },
     "execution_count": 10,
     "metadata": {},
     "output_type": "execute_result"
    }
   ],
   "source": [
    "proteinas"
   ]
  },
  {
   "cell_type": "markdown",
   "metadata": {},
   "source": [
    "Nada más con estos cálculos podemos afirmar que la base de datos está **muy** desbalanceada.\n",
    "\n",
    "Veamos esto gráficamente."
   ]
  },
  {
   "cell_type": "code",
   "execution_count": 5,
   "metadata": {},
   "outputs": [
    {
     "data": {
      "image/png": "[encoded data removed]",
      "text/plain": [
       "<Figure size 640x480 with 1 Axes>"
      ]
     },
     "metadata": {},
     "output_type": "display_data"
    }
   ],
   "source": [
    "ax = sns.countplot(x = 'binds', data = data_train, palette=[\"#3f3e6fd1\", \"#85c6a9\"])\n",
    "plt.xticks(np.arange(2), ['no aglutinante', 'aglutinante'])\n",
    "plt.title('Unión molécula-proteína',fontsize= 14)\n",
    "plt.xlabel('Relación entre molécula y variable')\n",
    "plt.ylabel('')\n",
    "\n",
    "for i, v in enumerate(labels):\n",
    "    ax.text(i, v-40, str(v), horizontalalignment = 'center', size = 14, color = 'b', fontweight = 'bold')"
   ]
  },
  {
   "cell_type": "markdown",
   "metadata": {},
   "source": [
    "En efecto, el gráfico coincide con los valores obtenidos, mostrando que la frecuencia de moléculas **no aglutinantes** es significativamente superior a la de las **aglutinantes**, pues el primer grupo representa el 99% de las observaciones, mientras que el segundo solo un 0.05%.\n",
    "\n",
    "Es evidente el desequilibrio significativo de `binds`. Con esto se confirma que la mayoría de las observaciones corresponden a moléculas que no están unidas a una proteína."
   ]
  },
  {
   "cell_type": "markdown",
   "metadata": {},
   "source": [
    "Continuemos con las demás variables. \n",
    "\n",
    "Para estas vamos a calcular la cantidad de valores únicos que hay en cada columna."
   ]
  },
  {
   "cell_type": "markdown",
   "metadata": {},
   "source": [
    "* buildingblock1_smiles\t"
   ]
  },
  {
   "cell_type": "code",
   "execution_count": 12,
   "metadata": {},
   "outputs": [
    {
     "data": {
      "text/plain": [
       "271"
      ]
     },
     "execution_count": 12,
     "metadata": {},
     "output_type": "execute_result"
    }
   ],
   "source": [
    "bloque1 = data_train['buildingblock1_smiles'].nunique()\n",
    "bloque1"
   ]
  },
  {
   "cell_type": "markdown",
   "metadata": {},
   "source": [
    "* buildingblock2_smiles\t"
   ]
  },
  {
   "cell_type": "code",
   "execution_count": 13,
   "metadata": {},
   "outputs": [
    {
     "data": {
      "text/plain": [
       "693"
      ]
     },
     "execution_count": 13,
     "metadata": {},
     "output_type": "execute_result"
    }
   ],
   "source": [
    "bloque2 = data_train['buildingblock2_smiles'].nunique()\n",
    "bloque2"
   ]
  },
  {
   "cell_type": "markdown",
   "metadata": {},
   "source": [
    "* buildingblock3_smiles"
   ]
  },
  {
   "cell_type": "code",
   "execution_count": 14,
   "metadata": {},
   "outputs": [
    {
     "data": {
      "text/plain": [
       "872"
      ]
     },
     "execution_count": 14,
     "metadata": {},
     "output_type": "execute_result"
    }
   ],
   "source": [
    "bloque3 = data_train['buildingblock3_smiles'].nunique()\n",
    "bloque3"
   ]
  },
  {
   "cell_type": "markdown",
   "metadata": {},
   "source": [
    "* molecule_smiles"
   ]
  },
  {
   "cell_type": "code",
   "execution_count": 15,
   "metadata": {},
   "outputs": [
    {
     "data": {
      "text/plain": [
       "98415610"
      ]
     },
     "execution_count": 15,
     "metadata": {},
     "output_type": "execute_result"
    }
   ],
   "source": [
    "moleculas = data_train['molecule_smiles'].nunique()\n",
    "moleculas"
   ]
  },
  {
   "cell_type": "code",
   "execution_count": 16,
   "metadata": {},
   "outputs": [
    {
     "data": {
      "application/vnd.plotly.v1+json": {
       "config": {
        "plotlyServerURL": "https://plot.ly"
       },
       "data": [
        {
         "cells": {
          "values": [
           [
            271
           ],
           [
            693
           ],
           [
            872
           ],
           [
            98415610
           ]
          ]
         },
         "header": {
          "values": [
           "buildingblock1_smiles",
           "buildingblock2_smiles",
           "buildingblock3_smiles",
           "molecule_smiles"
          ]
         },
         "type": "table"
        }
       ],
       "layout": {
        "template": {
         "data": {
          "bar": [
           {
            "error_x": {
             "color": "#2a3f5f"
            },
            "error_y": {
             "color": "#2a3f5f"
            },
            "marker": {
             "line": {
              "color": "#E5ECF6",
              "width": 0.5
             },
             "pattern": {
              "fillmode": "overlay",
              "size": 10,
              "solidity": 0.2
             }
            },
            "type": "bar"
           }
          ],
          "barpolar": [
           {
            "marker": {
             "line": {
              "color": "#E5ECF6",
              "width": 0.5
             },
             "pattern": {
              "fillmode": "overlay",
              "size": 10,
              "solidity": 0.2
             }
            },
            "type": "barpolar"
           }
          ],
          "carpet": [
           {
            "aaxis": {
             "endlinecolor": "#2a3f5f",
             "gridcolor": "white",
             "linecolor": "white",
             "minorgridcolor": "white",
             "startlinecolor": "#2a3f5f"
            },
            "baxis": {
             "endlinecolor": "#2a3f5f",
             "gridcolor": "white",
             "linecolor": "white",
             "minorgridcolor": "white",
             "startlinecolor": "#2a3f5f"
            },
            "type": "carpet"
           }
          ],
          "choropleth": [
           {
            "colorbar": {
             "outlinewidth": 0,
             "ticks": ""
            },
            "type": "choropleth"
           }
          ],
          "contour": [
           {
            "colorbar": {
             "outlinewidth": 0,
             "ticks": ""
            },
            "colorscale": [
             [
              0,
              "#0d0887"
             ],
             [
              0.1111111111111111,
              "#46039f"
             ],
             [
              0.2222222222222222,
              "#7201a8"
             ],
             [
              0.3333333333333333,
              "#9c179e"
             ],
             [
              0.4444444444444444,
              "#bd3786"
             ],
             [
              0.5555555555555556,
              "#d8576b"
             ],
             [
              0.6666666666666666,
              "#ed7953"
             ],
             [
              0.7777777777777778,
              "#fb9f3a"
             ],
             [
              0.8888888888888888,
              "#fdca26"
             ],
             [
              1,
              "#f0f921"
             ]
            ],
            "type": "contour"
           }
          ],
          "contourcarpet": [
           {
            "colorbar": {
             "outlinewidth": 0,
             "ticks": ""
            },
            "type": "contourcarpet"
           }
          ],
          "heatmap": [
           {
            "colorbar": {
             "outlinewidth": 0,
             "ticks": ""
            },
            "colorscale": [
             [
              0,
              "#0d0887"
             ],
             [
              0.1111111111111111,
              "#46039f"
             ],
             [
              0.2222222222222222,
              "#7201a8"
             ],
             [
              0.3333333333333333,
              "#9c179e"
             ],
             [
              0.4444444444444444,
              "#bd3786"
             ],
             [
              0.5555555555555556,
              "#d8576b"
             ],
             [
              0.6666666666666666,
              "#ed7953"
             ],
             [
              0.7777777777777778,
              "#fb9f3a"
             ],
             [
              0.8888888888888888,
              "#fdca26"
             ],
             [
              1,
              "#f0f921"
             ]
            ],
            "type": "heatmap"
           }
          ],
          "heatmapgl": [
           {
            "colorbar": {
             "outlinewidth": 0,
             "ticks": ""
            },
            "colorscale": [
             [
              0,
              "#0d0887"
             ],
             [
              0.1111111111111111,
              "#46039f"
             ],
             [
              0.2222222222222222,
              "#7201a8"
             ],
             [
              0.3333333333333333,
              "#9c179e"
             ],
             [
              0.4444444444444444,
              "#bd3786"
             ],
             [
              0.5555555555555556,
              "#d8576b"
             ],
             [
              0.6666666666666666,
              "#ed7953"
             ],
             [
              0.7777777777777778,
              "#fb9f3a"
             ],
             [
              0.8888888888888888,
              "#fdca26"
             ],
             [
              1,
              "#f0f921"
             ]
            ],
            "type": "heatmapgl"
           }
          ],
          "histogram": [
           {
            "marker": {
             "pattern": {
              "fillmode": "overlay",
              "size": 10,
              "solidity": 0.2
             }
            },
            "type": "histogram"
           }
          ],
          "histogram2d": [
           {
            "colorbar": {
             "outlinewidth": 0,
             "ticks": ""
            },
            "colorscale": [
             [
              0,
              "#0d0887"
             ],
             [
              0.1111111111111111,
              "#46039f"
             ],
             [
              0.2222222222222222,
              "#7201a8"
             ],
             [
              0.3333333333333333,
              "#9c179e"
             ],
             [
              0.4444444444444444,
              "#bd3786"
             ],
             [
              0.5555555555555556,
              "#d8576b"
             ],
             [
              0.6666666666666666,
              "#ed7953"
             ],
             [
              0.7777777777777778,
              "#fb9f3a"
             ],
             [
              0.8888888888888888,
              "#fdca26"
             ],
             [
              1,
              "#f0f921"
             ]
            ],
            "type": "histogram2d"
           }
          ],
          "histogram2dcontour": [
           {
            "colorbar": {
             "outlinewidth": 0,
             "ticks": ""
            },
            "colorscale": [
             [
              0,
              "#0d0887"
             ],
             [
              0.1111111111111111,
              "#46039f"
             ],
             [
              0.2222222222222222,
              "#7201a8"
             ],
             [
              0.3333333333333333,
              "#9c179e"
             ],
             [
              0.4444444444444444,
              "#bd3786"
             ],
             [
              0.5555555555555556,
              "#d8576b"
             ],
             [
              0.6666666666666666,
              "#ed7953"
             ],
             [
              0.7777777777777778,
              "#fb9f3a"
             ],
             [
              0.8888888888888888,
              "#fdca26"
             ],
             [
              1,
              "#f0f921"
             ]
            ],
            "type": "histogram2dcontour"
           }
          ],
          "mesh3d": [
           {
            "colorbar": {
             "outlinewidth": 0,
             "ticks": ""
            },
            "type": "mesh3d"
           }
          ],
          "parcoords": [
           {
            "line": {
             "colorbar": {
              "outlinewidth": 0,
              "ticks": ""
             }
            },
            "type": "parcoords"
           }
          ],
          "pie": [
           {
            "automargin": true,
            "type": "pie"
           }
          ],
          "scatter": [
           {
            "fillpattern": {
             "fillmode": "overlay",
             "size": 10,
             "solidity": 0.2
            },
            "type": "scatter"
           }
          ],
          "scatter3d": [
           {
            "line": {
             "colorbar": {
              "outlinewidth": 0,
              "ticks": ""
             }
            },
            "marker": {
             "colorbar": {
              "outlinewidth": 0,
              "ticks": ""
             }
            },
            "type": "scatter3d"
           }
          ],
          "scattercarpet": [
           {
            "marker": {
             "colorbar": {
              "outlinewidth": 0,
              "ticks": ""
             }
            },
            "type": "scattercarpet"
           }
          ],
          "scattergeo": [
           {
            "marker": {
             "colorbar": {
              "outlinewidth": 0,
              "ticks": ""
             }
            },
            "type": "scattergeo"
           }
          ],
          "scattergl": [
           {
            "marker": {
             "colorbar": {
              "outlinewidth": 0,
              "ticks": ""
             }
            },
            "type": "scattergl"
           }
          ],
          "scattermapbox": [
           {
            "marker": {
             "colorbar": {
              "outlinewidth": 0,
              "ticks": ""
             }
            },
            "type": "scattermapbox"
           }
          ],
          "scatterpolar": [
           {
            "marker": {
             "colorbar": {
              "outlinewidth": 0,
              "ticks": ""
             }
            },
            "type": "scatterpolar"
           }
          ],
          "scatterpolargl": [
           {
            "marker": {
             "colorbar": {
              "outlinewidth": 0,
              "ticks": ""
             }
            },
            "type": "scatterpolargl"
           }
          ],
          "scatterternary": [
           {
            "marker": {
             "colorbar": {
              "outlinewidth": 0,
              "ticks": ""
             }
            },
            "type": "scatterternary"
           }
          ],
          "surface": [
           {
            "colorbar": {
             "outlinewidth": 0,
             "ticks": ""
            },
            "colorscale": [
             [
              0,
              "#0d0887"
             ],
             [
              0.1111111111111111,
              "#46039f"
             ],
             [
              0.2222222222222222,
              "#7201a8"
             ],
             [
              0.3333333333333333,
              "#9c179e"
             ],
             [
              0.4444444444444444,
              "#bd3786"
             ],
             [
              0.5555555555555556,
              "#d8576b"
             ],
             [
              0.6666666666666666,
              "#ed7953"
             ],
             [
              0.7777777777777778,
              "#fb9f3a"
             ],
             [
              0.8888888888888888,
              "#fdca26"
             ],
             [
              1,
              "#f0f921"
             ]
            ],
            "type": "surface"
           }
          ],
          "table": [
           {
            "cells": {
             "fill": {
              "color": "#EBF0F8"
             },
             "line": {
              "color": "white"
             }
            },
            "header": {
             "fill": {
              "color": "#C8D4E3"
             },
             "line": {
              "color": "white"
             }
            },
            "type": "table"
           }
          ]
         },
         "layout": {
          "annotationdefaults": {
           "arrowcolor": "#2a3f5f",
           "arrowhead": 0,
           "arrowwidth": 1
          },
          "autotypenumbers": "strict",
          "coloraxis": {
           "colorbar": {
            "outlinewidth": 0,
            "ticks": ""
           }
          },
          "colorscale": {
           "diverging": [
            [
             0,
             "#8e0152"
            ],
            [
             0.1,
             "#c51b7d"
            ],
            [
             0.2,
             "#de77ae"
            ],
            [
             0.3,
             "#f1b6da"
            ],
            [
             0.4,
             "#fde0ef"
            ],
            [
             0.5,
             "#f7f7f7"
            ],
            [
             0.6,
             "#e6f5d0"
            ],
            [
             0.7,
             "#b8e186"
            ],
            [
             0.8,
             "#7fbc41"
            ],
            [
             0.9,
             "#4d9221"
            ],
            [
             1,
             "#276419"
            ]
           ],
           "sequential": [
            [
             0,
             "#0d0887"
            ],
            [
             0.1111111111111111,
             "#46039f"
            ],
            [
             0.2222222222222222,
             "#7201a8"
            ],
            [
             0.3333333333333333,
             "#9c179e"
            ],
            [
             0.4444444444444444,
             "#bd3786"
            ],
            [
             0.5555555555555556,
             "#d8576b"
            ],
            [
             0.6666666666666666,
             "#ed7953"
            ],
            [
             0.7777777777777778,
             "#fb9f3a"
            ],
            [
             0.8888888888888888,
             "#fdca26"
            ],
            [
             1,
             "#f0f921"
            ]
           ],
           "sequentialminus": [
            [
             0,
             "#0d0887"
            ],
            [
             0.1111111111111111,
             "#46039f"
            ],
            [
             0.2222222222222222,
             "#7201a8"
            ],
            [
             0.3333333333333333,
             "#9c179e"
            ],
            [
             0.4444444444444444,
             "#bd3786"
            ],
            [
             0.5555555555555556,
             "#d8576b"
            ],
            [
             0.6666666666666666,
             "#ed7953"
            ],
            [
             0.7777777777777778,
             "#fb9f3a"
            ],
            [
             0.8888888888888888,
             "#fdca26"
            ],
            [
             1,
             "#f0f921"
            ]
           ]
          },
          "colorway": [
           "#636efa",
           "#EF553B",
           "#00cc96",
           "#ab63fa",
           "#FFA15A",
           "#19d3f3",
           "#FF6692",
           "#B6E880",
           "#FF97FF",
           "#FECB52"
          ],
          "font": {
           "color": "#2a3f5f"
          },
          "geo": {
           "bgcolor": "white",
           "lakecolor": "white",
           "landcolor": "#E5ECF6",
           "showlakes": true,
           "showland": true,
           "subunitcolor": "white"
          },
          "hoverlabel": {
           "align": "left"
          },
          "hovermode": "closest",
          "mapbox": {
           "style": "light"
          },
          "paper_bgcolor": "white",
          "plot_bgcolor": "#E5ECF6",
          "polar": {
           "angularaxis": {
            "gridcolor": "white",
            "linecolor": "white",
            "ticks": ""
           },
           "bgcolor": "#E5ECF6",
           "radialaxis": {
            "gridcolor": "white",
            "linecolor": "white",
            "ticks": ""
           }
          },
          "scene": {
           "xaxis": {
            "backgroundcolor": "#E5ECF6",
            "gridcolor": "white",
            "gridwidth": 2,
            "linecolor": "white",
            "showbackground": true,
            "ticks": "",
            "zerolinecolor": "white"
           },
           "yaxis": {
            "backgroundcolor": "#E5ECF6",
            "gridcolor": "white",
            "gridwidth": 2,
            "linecolor": "white",
            "showbackground": true,
            "ticks": "",
            "zerolinecolor": "white"
           },
           "zaxis": {
            "backgroundcolor": "#E5ECF6",
            "gridcolor": "white",
            "gridwidth": 2,
            "linecolor": "white",
            "showbackground": true,
            "ticks": "",
            "zerolinecolor": "white"
           }
          },
          "shapedefaults": {
           "line": {
            "color": "#2a3f5f"
           }
          },
          "ternary": {
           "aaxis": {
            "gridcolor": "white",
            "linecolor": "white",
            "ticks": ""
           },
           "baxis": {
            "gridcolor": "white",
            "linecolor": "white",
            "ticks": ""
           },
           "bgcolor": "#E5ECF6",
           "caxis": {
            "gridcolor": "white",
            "linecolor": "white",
            "ticks": ""
           }
          },
          "title": {
           "x": 0.05
          },
          "xaxis": {
           "automargin": true,
           "gridcolor": "white",
           "linecolor": "white",
           "ticks": "",
           "title": {
            "standoff": 15
           },
           "zerolinecolor": "white",
           "zerolinewidth": 2
          },
          "yaxis": {
           "automargin": true,
           "gridcolor": "white",
           "linecolor": "white",
           "ticks": "",
           "title": {
            "standoff": 15
           },
           "zerolinecolor": "white",
           "zerolinewidth": 2
          }
         }
        }
       }
      }
     },
     "metadata": {},
     "output_type": "display_data"
    }
   ],
   "source": [
    "import plotly\n",
    "import plotly.graph_objects as go\n",
    "\n",
    "# Datos de las variables\n",
    "header = ['buildingblock1_smiles', 'buildingblock2_smiles', 'buildingblock3_smiles', 'molecule_smiles']\n",
    "values = [[bloque1], [bloque2], [bloque3], [moleculas]]\n",
    "\n",
    "# Crear tabla con plotly\n",
    "fig = go.Figure(data=[go.Table(header=dict(values=header),\n",
    "                               cells=dict(values=values))])\n",
    "\n",
    "# Mostrar la tabla\n",
    "fig.show()"
   ]
  },
  {
   "cell_type": "markdown",
   "metadata": {},
   "source": [
    "Podemos observar que la cantidad de moléculas con las que trabajamos es bastante superior comparado con la cantidad de valores únicos total de bloques, esto quiere decir que existen muchos más tipos de moléculas diferentes entre sí que de bloques."
   ]
  },
  {
   "cell_type": "markdown",
   "metadata": {},
   "source": [
    "Ahora, veamos si existen valores faltantes en este conjunto de datos."
   ]
  },
  {
   "cell_type": "code",
   "execution_count": 25,
   "metadata": {},
   "outputs": [
    {
     "name": "stdout",
     "output_type": "stream",
     "text": [
      "id: 0 NA's\n",
      "buildingblock1_smiles: 0 NA's\n",
      "buildingblock2_smiles: 0 NA's\n",
      "buildingblock3_smiles: 0 NA's\n",
      "molecule_smiles: 0 NA's\n",
      "protein_name: 0 NA's\n",
      "binds: 0 NA's\n"
     ]
    }
   ],
   "source": [
    "cantidad_na = data_train.isna().sum()\n",
    "\n",
    "for columna in cantidad_na.index:\n",
    "    print(f\"{columna}: {cantidad_na[columna]} NA's\")"
   ]
  },
  {
   "cell_type": "code",
   "execution_count": 18,
   "metadata": {},
   "outputs": [
    {
     "data": {
      "text/plain": [
       "id                       0.00 %\n",
       "buildingblock1_smiles    0.00 %\n",
       "buildingblock2_smiles    0.00 %\n",
       "buildingblock3_smiles    0.00 %\n",
       "molecule_smiles          0.00 %\n",
       "protein_name             0.00 %\n",
       "binds                    0.00 %\n",
       "dtype: object"
      ]
     },
     "execution_count": 18,
     "metadata": {},
     "output_type": "execute_result"
    }
   ],
   "source": [
    "(data_train.isnull().sum() * 100 /len(data_train)).map('{:.2f} %'.format)"
   ]
  },
  {
   "cell_type": "code",
   "execution_count": 19,
   "metadata": {},
   "outputs": [
    {
     "data": {
      "image/png": "[encoded data removed]",
      "text/plain": [
       "<Figure size 1000x800 with 1 Axes>"
      ]
     },
     "metadata": {},
     "output_type": "display_data"
    }
   ],
   "source": [
    "porcentaje_NA = data_train.isna().mean() * 100\n",
    "\n",
    "data_faltante = pd.DataFrame({'column': porcentaje_NA.index, 'percent_missing': porcentaje_NA.values})\n",
    "\n",
    "data_faltante = data_faltante.sort_values(by='percent_missing')\n",
    "\n",
    "plt.figure(figsize=(10, 8))\n",
    "plt.barh(data_faltante['column'], data_faltante['percent_missing'], color='lightblue')\n",
    "plt.xlabel('Porcentaje de datos faltantes')\n",
    "plt.title('Porcentaje de datos faltantes por variable')\n",
    "plt.show()"
   ]
  },
  {
   "cell_type": "markdown",
   "metadata": {},
   "source": [
    "Es decir, `train` no cuenta con observaciones de tipo NA. \n",
    "Esto es beneficioso para predecir de manera más precisa nuestro modelo."
   ]
  },
  {
   "cell_type": "markdown",
   "metadata": {},
   "source": [
    "\n",
    "Antes de seguir con el ejercicio, se va a realizar la siguiente aclaración:\n",
    "\n",
    "Como ya se mencionó con anterioridad, esta base de datos contiene más de 200M de observaciones. En un principio, se intentó de diferentes maneras trabajar con este total, sin embargo, fue bastante complejo pues nuestra computadora con RAM de 16gb no soportaba en muchas ocasiones el peso de esta base de datos y de los diferentes procesos gastando mucho tiempo computacional y espacio de la RAM, lo cual terminaba relentizando y, a su vez, haciendo mucho más compleja la realización de esta actividad. Como primera solución, compramos Google Colab Pro, no obstante, esto no nos funcionó porque la RAM tampoco era suficiente para este conjunto.\n",
    "\n",
    "Es por esta razón, que decidimos trabajar con la base de datos, filtrándola según el tipo de proteína y, además, reduciendo el número de observaciones a 100000 dado que por las circunstancias, se nos imposibilitaba trabajar con la base original.\n"
   ]
  },
  {
   "cell_type": "markdown",
   "metadata": {},
   "source": [
    "En este orden de ideas, realizaremos las respectivas filtraciones trabajando cada conjunto de manera independiente para realizar sus respectivas predicciones."
   ]
  },
  {
   "cell_type": "code",
   "execution_count": 7,
   "metadata": {},
   "outputs": [],
   "source": [
    "data_sEH = data_train[data_train['protein_name'] == 'sEH']"
   ]
  },
  {
   "cell_type": "code",
   "execution_count": 3,
   "metadata": {},
   "outputs": [],
   "source": [
    "data_BRD4 = data_train[data_train['protein_name'] == 'BRD4']"
   ]
  },
  {
   "cell_type": "code",
   "execution_count": 5,
   "metadata": {},
   "outputs": [],
   "source": [
    "data_HSA = data_train[data_train['protein_name'] == 'HSA']"
   ]
  },
  {
   "cell_type": "markdown",
   "metadata": {},
   "source": [
    "### Filtración: proteína EPHX2 - (sEH)"
   ]
  },
  {
   "cell_type": "code",
   "execution_count": 8,
   "metadata": {},
   "outputs": [],
   "source": [
    "datatrain_sEH,_= train_test_split( data_sEH, train_size = 100000,  stratify = data_sEH['binds'], random_state=21)"
   ]
  },
  {
   "cell_type": "code",
   "execution_count": 37,
   "metadata": {},
   "outputs": [
    {
     "data": {
      "text/plain": [
       "(100000, 7)"
      ]
     },
     "execution_count": 37,
     "metadata": {},
     "output_type": "execute_result"
    }
   ],
   "source": [
    "datatrain_sEH.shape      "
   ]
  },
  {
   "cell_type": "markdown",
   "metadata": {},
   "source": [
    "Ahora, calculemos la cantidad de valores únicos por variable."
   ]
  },
  {
   "cell_type": "code",
   "execution_count": 30,
   "metadata": {},
   "outputs": [
    {
     "data": {
      "text/plain": [
       "271"
      ]
     },
     "execution_count": 30,
     "metadata": {},
     "output_type": "execute_result"
    }
   ],
   "source": [
    "bloque1_seh = data_sEH['buildingblock1_smiles'].nunique()\n",
    "bloque1_seh"
   ]
  },
  {
   "cell_type": "code",
   "execution_count": 31,
   "metadata": {},
   "outputs": [
    {
     "data": {
      "text/plain": [
       "693"
      ]
     },
     "execution_count": 31,
     "metadata": {},
     "output_type": "execute_result"
    }
   ],
   "source": [
    "bloque2_seh = data_sEH['buildingblock2_smiles'].nunique()\n",
    "bloque2_seh"
   ]
  },
  {
   "cell_type": "code",
   "execution_count": 32,
   "metadata": {},
   "outputs": [
    {
     "data": {
      "text/plain": [
       "872"
      ]
     },
     "execution_count": 32,
     "metadata": {},
     "output_type": "execute_result"
    }
   ],
   "source": [
    "bloque3_seh = data_sEH['buildingblock3_smiles'].nunique()\n",
    "bloque3_seh"
   ]
  },
  {
   "cell_type": "code",
   "execution_count": 33,
   "metadata": {},
   "outputs": [
    {
     "data": {
      "text/plain": [
       "98415610"
      ]
     },
     "execution_count": 33,
     "metadata": {},
     "output_type": "execute_result"
    }
   ],
   "source": [
    "moleculas_seh = data_sEH['molecule_smiles'].nunique()\n",
    "moleculas_seh"
   ]
  },
  {
   "cell_type": "code",
   "execution_count": 34,
   "metadata": {},
   "outputs": [
    {
     "data": {
      "application/vnd.plotly.v1+json": {
       "config": {
        "plotlyServerURL": "https://plot.ly"
       },
       "data": [
        {
         "cells": {
          "values": [
           [
            271
           ],
           [
            693
           ],
           [
            872
           ],
           [
            98415610
           ]
          ]
         },
         "header": {
          "values": [
           "buildingblock1_smiles",
           "buildingblock2_smiles",
           "buildingblock3_smiles",
           "molecule_smiles"
          ]
         },
         "type": "table"
        }
       ],
       "layout": {
        "template": {
         "data": {
          "bar": [
           {
            "error_x": {
             "color": "#2a3f5f"
            },
            "error_y": {
             "color": "#2a3f5f"
            },
            "marker": {
             "line": {
              "color": "#E5ECF6",
              "width": 0.5
             },
             "pattern": {
              "fillmode": "overlay",
              "size": 10,
              "solidity": 0.2
             }
            },
            "type": "bar"
           }
          ],
          "barpolar": [
           {
            "marker": {
             "line": {
              "color": "#E5ECF6",
              "width": 0.5
             },
             "pattern": {
              "fillmode": "overlay",
              "size": 10,
              "solidity": 0.2
             }
            },
            "type": "barpolar"
           }
          ],
          "carpet": [
           {
            "aaxis": {
             "endlinecolor": "#2a3f5f",
             "gridcolor": "white",
             "linecolor": "white",
             "minorgridcolor": "white",
             "startlinecolor": "#2a3f5f"
            },
            "baxis": {
             "endlinecolor": "#2a3f5f",
             "gridcolor": "white",
             "linecolor": "white",
             "minorgridcolor": "white",
             "startlinecolor": "#2a3f5f"
            },
            "type": "carpet"
           }
          ],
          "choropleth": [
           {
            "colorbar": {
             "outlinewidth": 0,
             "ticks": ""
            },
            "type": "choropleth"
           }
          ],
          "contour": [
           {
            "colorbar": {
             "outlinewidth": 0,
             "ticks": ""
            },
            "colorscale": [
             [
              0,
              "#0d0887"
             ],
             [
              0.1111111111111111,
              "#46039f"
             ],
             [
              0.2222222222222222,
              "#7201a8"
             ],
             [
              0.3333333333333333,
              "#9c179e"
             ],
             [
              0.4444444444444444,
              "#bd3786"
             ],
             [
              0.5555555555555556,
              "#d8576b"
             ],
             [
              0.6666666666666666,
              "#ed7953"
             ],
             [
              0.7777777777777778,
              "#fb9f3a"
             ],
             [
              0.8888888888888888,
              "#fdca26"
             ],
             [
              1,
              "#f0f921"
             ]
            ],
            "type": "contour"
           }
          ],
          "contourcarpet": [
           {
            "colorbar": {
             "outlinewidth": 0,
             "ticks": ""
            },
            "type": "contourcarpet"
           }
          ],
          "heatmap": [
           {
            "colorbar": {
             "outlinewidth": 0,
             "ticks": ""
            },
            "colorscale": [
             [
              0,
              "#0d0887"
             ],
             [
              0.1111111111111111,
              "#46039f"
             ],
             [
              0.2222222222222222,
              "#7201a8"
             ],
             [
              0.3333333333333333,
              "#9c179e"
             ],
             [
              0.4444444444444444,
              "#bd3786"
             ],
             [
              0.5555555555555556,
              "#d8576b"
             ],
             [
              0.6666666666666666,
              "#ed7953"
             ],
             [
              0.7777777777777778,
              "#fb9f3a"
             ],
             [
              0.8888888888888888,
              "#fdca26"
             ],
             [
              1,
              "#f0f921"
             ]
            ],
            "type": "heatmap"
           }
          ],
          "heatmapgl": [
           {
            "colorbar": {
             "outlinewidth": 0,
             "ticks": ""
            },
            "colorscale": [
             [
              0,
              "#0d0887"
             ],
             [
              0.1111111111111111,
              "#46039f"
             ],
             [
              0.2222222222222222,
              "#7201a8"
             ],
             [
              0.3333333333333333,
              "#9c179e"
             ],
             [
              0.4444444444444444,
              "#bd3786"
             ],
             [
              0.5555555555555556,
              "#d8576b"
             ],
             [
              0.6666666666666666,
              "#ed7953"
             ],
             [
              0.7777777777777778,
              "#fb9f3a"
             ],
             [
              0.8888888888888888,
              "#fdca26"
             ],
             [
              1,
              "#f0f921"
             ]
            ],
            "type": "heatmapgl"
           }
          ],
          "histogram": [
           {
            "marker": {
             "pattern": {
              "fillmode": "overlay",
              "size": 10,
              "solidity": 0.2
             }
            },
            "type": "histogram"
           }
          ],
          "histogram2d": [
           {
            "colorbar": {
             "outlinewidth": 0,
             "ticks": ""
            },
            "colorscale": [
             [
              0,
              "#0d0887"
             ],
             [
              0.1111111111111111,
              "#46039f"
             ],
             [
              0.2222222222222222,
              "#7201a8"
             ],
             [
              0.3333333333333333,
              "#9c179e"
             ],
             [
              0.4444444444444444,
              "#bd3786"
             ],
             [
              0.5555555555555556,
              "#d8576b"
             ],
             [
              0.6666666666666666,
              "#ed7953"
             ],
             [
              0.7777777777777778,
              "#fb9f3a"
             ],
             [
              0.8888888888888888,
              "#fdca26"
             ],
             [
              1,
              "#f0f921"
             ]
            ],
            "type": "histogram2d"
           }
          ],
          "histogram2dcontour": [
           {
            "colorbar": {
             "outlinewidth": 0,
             "ticks": ""
            },
            "colorscale": [
             [
              0,
              "#0d0887"
             ],
             [
              0.1111111111111111,
              "#46039f"
             ],
             [
              0.2222222222222222,
              "#7201a8"
             ],
             [
              0.3333333333333333,
              "#9c179e"
             ],
             [
              0.4444444444444444,
              "#bd3786"
             ],
             [
              0.5555555555555556,
              "#d8576b"
             ],
             [
              0.6666666666666666,
              "#ed7953"
             ],
             [
              0.7777777777777778,
              "#fb9f3a"
             ],
             [
              0.8888888888888888,
              "#fdca26"
             ],
             [
              1,
              "#f0f921"
             ]
            ],
            "type": "histogram2dcontour"
           }
          ],
          "mesh3d": [
           {
            "colorbar": {
             "outlinewidth": 0,
             "ticks": ""
            },
            "type": "mesh3d"
           }
          ],
          "parcoords": [
           {
            "line": {
             "colorbar": {
              "outlinewidth": 0,
              "ticks": ""
             }
            },
            "type": "parcoords"
           }
          ],
          "pie": [
           {
            "automargin": true,
            "type": "pie"
           }
          ],
          "scatter": [
           {
            "fillpattern": {
             "fillmode": "overlay",
             "size": 10,
             "solidity": 0.2
            },
            "type": "scatter"
           }
          ],
          "scatter3d": [
           {
            "line": {
             "colorbar": {
              "outlinewidth": 0,
              "ticks": ""
             }
            },
            "marker": {
             "colorbar": {
              "outlinewidth": 0,
              "ticks": ""
             }
            },
            "type": "scatter3d"
           }
          ],
          "scattercarpet": [
           {
            "marker": {
             "colorbar": {
              "outlinewidth": 0,
              "ticks": ""
             }
            },
            "type": "scattercarpet"
           }
          ],
          "scattergeo": [
           {
            "marker": {
             "colorbar": {
              "outlinewidth": 0,
              "ticks": ""
             }
            },
            "type": "scattergeo"
           }
          ],
          "scattergl": [
           {
            "marker": {
             "colorbar": {
              "outlinewidth": 0,
              "ticks": ""
             }
            },
            "type": "scattergl"
           }
          ],
          "scattermapbox": [
           {
            "marker": {
             "colorbar": {
              "outlinewidth": 0,
              "ticks": ""
             }
            },
            "type": "scattermapbox"
           }
          ],
          "scatterpolar": [
           {
            "marker": {
             "colorbar": {
              "outlinewidth": 0,
              "ticks": ""
             }
            },
            "type": "scatterpolar"
           }
          ],
          "scatterpolargl": [
           {
            "marker": {
             "colorbar": {
              "outlinewidth": 0,
              "ticks": ""
             }
            },
            "type": "scatterpolargl"
           }
          ],
          "scatterternary": [
           {
            "marker": {
             "colorbar": {
              "outlinewidth": 0,
              "ticks": ""
             }
            },
            "type": "scatterternary"
           }
          ],
          "surface": [
           {
            "colorbar": {
             "outlinewidth": 0,
             "ticks": ""
            },
            "colorscale": [
             [
              0,
              "#0d0887"
             ],
             [
              0.1111111111111111,
              "#46039f"
             ],
             [
              0.2222222222222222,
              "#7201a8"
             ],
             [
              0.3333333333333333,
              "#9c179e"
             ],
             [
              0.4444444444444444,
              "#bd3786"
             ],
             [
              0.5555555555555556,
              "#d8576b"
             ],
             [
              0.6666666666666666,
              "#ed7953"
             ],
             [
              0.7777777777777778,
              "#fb9f3a"
             ],
             [
              0.8888888888888888,
              "#fdca26"
             ],
             [
              1,
              "#f0f921"
             ]
            ],
            "type": "surface"
           }
          ],
          "table": [
           {
            "cells": {
             "fill": {
              "color": "#EBF0F8"
             },
             "line": {
              "color": "white"
             }
            },
            "header": {
             "fill": {
              "color": "#C8D4E3"
             },
             "line": {
              "color": "white"
             }
            },
            "type": "table"
           }
          ]
         },
         "layout": {
          "annotationdefaults": {
           "arrowcolor": "#2a3f5f",
           "arrowhead": 0,
           "arrowwidth": 1
          },
          "autotypenumbers": "strict",
          "coloraxis": {
           "colorbar": {
            "outlinewidth": 0,
            "ticks": ""
           }
          },
          "colorscale": {
           "diverging": [
            [
             0,
             "#8e0152"
            ],
            [
             0.1,
             "#c51b7d"
            ],
            [
             0.2,
             "#de77ae"
            ],
            [
             0.3,
             "#f1b6da"
            ],
            [
             0.4,
             "#fde0ef"
            ],
            [
             0.5,
             "#f7f7f7"
            ],
            [
             0.6,
             "#e6f5d0"
            ],
            [
             0.7,
             "#b8e186"
            ],
            [
             0.8,
             "#7fbc41"
            ],
            [
             0.9,
             "#4d9221"
            ],
            [
             1,
             "#276419"
            ]
           ],
           "sequential": [
            [
             0,
             "#0d0887"
            ],
            [
             0.1111111111111111,
             "#46039f"
            ],
            [
             0.2222222222222222,
             "#7201a8"
            ],
            [
             0.3333333333333333,
             "#9c179e"
            ],
            [
             0.4444444444444444,
             "#bd3786"
            ],
            [
             0.5555555555555556,
             "#d8576b"
            ],
            [
             0.6666666666666666,
             "#ed7953"
            ],
            [
             0.7777777777777778,
             "#fb9f3a"
            ],
            [
             0.8888888888888888,
             "#fdca26"
            ],
            [
             1,
             "#f0f921"
            ]
           ],
           "sequentialminus": [
            [
             0,
             "#0d0887"
            ],
            [
             0.1111111111111111,
             "#46039f"
            ],
            [
             0.2222222222222222,
             "#7201a8"
            ],
            [
             0.3333333333333333,
             "#9c179e"
            ],
            [
             0.4444444444444444,
             "#bd3786"
            ],
            [
             0.5555555555555556,
             "#d8576b"
            ],
            [
             0.6666666666666666,
             "#ed7953"
            ],
            [
             0.7777777777777778,
             "#fb9f3a"
            ],
            [
             0.8888888888888888,
             "#fdca26"
            ],
            [
             1,
             "#f0f921"
            ]
           ]
          },
          "colorway": [
           "#636efa",
           "#EF553B",
           "#00cc96",
           "#ab63fa",
           "#FFA15A",
           "#19d3f3",
           "#FF6692",
           "#B6E880",
           "#FF97FF",
           "#FECB52"
          ],
          "font": {
           "color": "#2a3f5f"
          },
          "geo": {
           "bgcolor": "white",
           "lakecolor": "white",
           "landcolor": "#E5ECF6",
           "showlakes": true,
           "showland": true,
           "subunitcolor": "white"
          },
          "hoverlabel": {
           "align": "left"
          },
          "hovermode": "closest",
          "mapbox": {
           "style": "light"
          },
          "paper_bgcolor": "white",
          "plot_bgcolor": "#E5ECF6",
          "polar": {
           "angularaxis": {
            "gridcolor": "white",
            "linecolor": "white",
            "ticks": ""
           },
           "bgcolor": "#E5ECF6",
           "radialaxis": {
            "gridcolor": "white",
            "linecolor": "white",
            "ticks": ""
           }
          },
          "scene": {
           "xaxis": {
            "backgroundcolor": "#E5ECF6",
            "gridcolor": "white",
            "gridwidth": 2,
            "linecolor": "white",
            "showbackground": true,
            "ticks": "",
            "zerolinecolor": "white"
           },
           "yaxis": {
            "backgroundcolor": "#E5ECF6",
            "gridcolor": "white",
            "gridwidth": 2,
            "linecolor": "white",
            "showbackground": true,
            "ticks": "",
            "zerolinecolor": "white"
           },
           "zaxis": {
            "backgroundcolor": "#E5ECF6",
            "gridcolor": "white",
            "gridwidth": 2,
            "linecolor": "white",
            "showbackground": true,
            "ticks": "",
            "zerolinecolor": "white"
           }
          },
          "shapedefaults": {
           "line": {
            "color": "#2a3f5f"
           }
          },
          "ternary": {
           "aaxis": {
            "gridcolor": "white",
            "linecolor": "white",
            "ticks": ""
           },
           "baxis": {
            "gridcolor": "white",
            "linecolor": "white",
            "ticks": ""
           },
           "bgcolor": "#E5ECF6",
           "caxis": {
            "gridcolor": "white",
            "linecolor": "white",
            "ticks": ""
           }
          },
          "title": {
           "x": 0.05
          },
          "xaxis": {
           "automargin": true,
           "gridcolor": "white",
           "linecolor": "white",
           "ticks": "",
           "title": {
            "standoff": 15
           },
           "zerolinecolor": "white",
           "zerolinewidth": 2
          },
          "yaxis": {
           "automargin": true,
           "gridcolor": "white",
           "linecolor": "white",
           "ticks": "",
           "title": {
            "standoff": 15
           },
           "zerolinecolor": "white",
           "zerolinewidth": 2
          }
         }
        }
       }
      }
     },
     "metadata": {},
     "output_type": "display_data"
    }
   ],
   "source": [
    "import plotly\n",
    "import plotly.graph_objects as go\n",
    "\n",
    "# Datos de las variables\n",
    "header = ['buildingblock1_smiles', 'buildingblock2_smiles', 'buildingblock3_smiles', 'molecule_smiles']\n",
    "values = [[bloque1_seh], [bloque2_seh], [bloque3_seh], [moleculas_seh]]\n",
    "\n",
    "# Crear tabla con plotly\n",
    "fig = go.Figure(data=[go.Table(header=dict(values=header),\n",
    "                               cells=dict(values=values))])\n",
    "\n",
    "# Mostrar la tabla\n",
    "fig.show()"
   ]
  },
  {
   "cell_type": "code",
   "execution_count": 10,
   "metadata": {},
   "outputs": [
    {
     "data": {
      "text/html": [
       "<div>\n",
       "<style scoped>\n",
       "    .dataframe tbody tr th:only-of-type {\n",
       "        vertical-align: middle;\n",
       "    }\n",
       "\n",
       "    .dataframe tbody tr th {\n",
       "        vertical-align: top;\n",
       "    }\n",
       "\n",
       "    .dataframe thead th {\n",
       "        text-align: right;\n",
       "    }\n",
       "</style>\n",
       "<table border=\"1\" class=\"dataframe\">\n",
       "  <thead>\n",
       "    <tr style=\"text-align: right;\">\n",
       "      <th>binds</th>\n",
       "      <th>0</th>\n",
       "      <th>1</th>\n",
       "    </tr>\n",
       "  </thead>\n",
       "  <tbody>\n",
       "    <tr>\n",
       "      <th>0</th>\n",
       "      <td>0.99264</td>\n",
       "      <td>0.00736</td>\n",
       "    </tr>\n",
       "  </tbody>\n",
       "</table>\n",
       "</div>"
      ],
      "text/plain": [
       "binds        0        1\n",
       "0      0.99264  0.00736"
      ]
     },
     "execution_count": 10,
     "metadata": {},
     "output_type": "execute_result"
    }
   ],
   "source": [
    "proteina_seh = datatrain_sEH.groupby('protein_name')['binds'].value_counts(normalize=True).unstack().reset_index(drop=True)\n",
    "proteina_seh"
   ]
  },
  {
   "cell_type": "code",
   "execution_count": 11,
   "metadata": {},
   "outputs": [
    {
     "data": {
      "image/png": "[encoded data removed]",
      "text/plain": [
       "<Figure size 640x480 with 1 Axes>"
      ]
     },
     "metadata": {},
     "output_type": "display_data"
    }
   ],
   "source": [
    "ax = sns.countplot(x = 'binds', data = datatrain_sEH, palette=[\"#3f3e6fd1\", \"#85c6a9\"])\n",
    "plt.xticks(np.arange(2), ['no aglutinante', 'aglutinante'])\n",
    "plt.title('Unión molécula-proteína',fontsize= 14)\n",
    "plt.xlabel('Relación entre molécula y variable')\n",
    "plt.ylabel('')\n",
    "\n",
    "for i, v in enumerate(proteina_seh):\n",
    "    ax.text(i, v-40, str(v), horizontalalignment = 'center', size = 14, color = 'b', fontweight = 'bold')"
   ]
  },
  {
   "cell_type": "markdown",
   "metadata": {},
   "source": [
    "***datatrain_sEH*** es el dataframe creado a partir de la filtración con la proteína `sEH`. Como se mencionó antes, dada la gran cantidad de datos, se decidió tomar 100000 observaciones aleatorias que representan al conjunto de entrenamiento.\n",
    "Esto lo podemos observar pues la cantidad de valores únicos coincide con la de la base de datos original, al igual que la distribución de la variable binaria `binds`."
   ]
  },
  {
   "cell_type": "markdown",
   "metadata": {},
   "source": [
    "Comprobemos que no hayan valores NA tal como en la base de entrenamiento."
   ]
  },
  {
   "cell_type": "code",
   "execution_count": 12,
   "metadata": {},
   "outputs": [
    {
     "name": "stdout",
     "output_type": "stream",
     "text": [
      "id: 0 NA's\n",
      "buildingblock1_smiles: 0 NA's\n",
      "buildingblock2_smiles: 0 NA's\n",
      "buildingblock3_smiles: 0 NA's\n",
      "molecule_smiles: 0 NA's\n",
      "protein_name: 0 NA's\n",
      "binds: 0 NA's\n"
     ]
    }
   ],
   "source": [
    "cantidad_na = datatrain_sEH.isna().sum()\n",
    "\n",
    "for columna in cantidad_na.index:\n",
    "    print(f\"{columna}: {cantidad_na[columna]} NA's\")"
   ]
  },
  {
   "cell_type": "markdown",
   "metadata": {},
   "source": [
    "Ahora, con ayuda de `OneHotEncoder` se codificará la base de datos que contiene las observaciones de la proteína **sEH**."
   ]
  },
  {
   "cell_type": "markdown",
   "metadata": {},
   "source": [
    "#### Codificación: OneHotEncoder"
   ]
  },
  {
   "cell_type": "code",
   "execution_count": 14,
   "metadata": {},
   "outputs": [],
   "source": [
    "datatrain_seh = datatrain_sEH.reset_index()"
   ]
  },
  {
   "cell_type": "markdown",
   "metadata": {},
   "source": [
    "Cabe resaltar que la variable `molecules_smiles` puede ser interpretada como un ID, pues cada valor en esta variable corresponde a un nombre que identifica de manera única a una molécula. Dado que actúa únicamente como un identificador y no proporciona información relevante para nuestro modelo, no la vamos a incluir en la codificación. "
   ]
  },
  {
   "cell_type": "code",
   "execution_count": 15,
   "metadata": {},
   "outputs": [],
   "source": [
    "catcol_seh = ['protein_name', 'buildingblock1_smiles', 'buildingblock2_smiles', 'buildingblock3_smiles']\n",
    "encoder_seh =   OneHotEncoder(sparse_output=False)\n",
    "encoded_seh = encoder_seh.fit_transform(datatrain_seh[catcol_seh])\n",
    "data_encodedseh = pd.DataFrame(encoded_seh, columns=encoder_seh.get_feature_names_out(catcol_seh))\n",
    "datatrainseh = pd.concat([datatrain_seh,data_encodedseh], axis = 1)\n",
    "datatrainseh= datatrainseh.drop(catcol_seh,axis=1) "
   ]
  },
  {
   "cell_type": "code",
   "execution_count": 40,
   "metadata": {},
   "outputs": [
    {
     "data": {
      "text/html": [
       "<div>\n",
       "<style scoped>\n",
       "    .dataframe tbody tr th:only-of-type {\n",
       "        vertical-align: middle;\n",
       "    }\n",
       "\n",
       "    .dataframe tbody tr th {\n",
       "        vertical-align: top;\n",
       "    }\n",
       "\n",
       "    .dataframe thead th {\n",
       "        text-align: right;\n",
       "    }\n",
       "</style>\n",
       "<table border=\"1\" class=\"dataframe\">\n",
       "  <thead>\n",
       "    <tr style=\"text-align: right;\">\n",
       "      <th></th>\n",
       "      <th>index</th>\n",
       "      <th>id</th>\n",
       "      <th>molecule_smiles</th>\n",
       "      <th>binds</th>\n",
       "      <th>protein_name_sEH</th>\n",
       "      <th>buildingblock1_smiles_C#CC[C@@H](CC(=O)O)NC(=O)OCC1c2ccccc2-c2ccccc21</th>\n",
       "      <th>buildingblock1_smiles_C#CC[C@@H](NC(=O)OCC1c2ccccc2-c2ccccc21)C(=O)O</th>\n",
       "      <th>buildingblock1_smiles_C#CC[C@@](C)(NC(=O)OCC1c2ccccc2-c2ccccc21)C(=O)O</th>\n",
       "      <th>buildingblock1_smiles_C#CC[C@H](CC(=O)O)NC(=O)OCC1c2ccccc2-c2ccccc21</th>\n",
       "      <th>buildingblock1_smiles_C#CC[C@H](NC(=O)OCC1c2ccccc2-c2ccccc21)C(=O)O</th>\n",
       "      <th>...</th>\n",
       "      <th>buildingblock3_smiles_Nc1ncnc(=O)[nH]1</th>\n",
       "      <th>buildingblock3_smiles_Nc1ncnc(Cl)c1Cl</th>\n",
       "      <th>buildingblock3_smiles_Nc1ncnc2[nH]cnc12</th>\n",
       "      <th>buildingblock3_smiles_Nc1ncnc2[nH]ncc12</th>\n",
       "      <th>buildingblock3_smiles_Nc1ncnc2c1ncn2C1CCCCO1</th>\n",
       "      <th>buildingblock3_smiles_Nc1ncncc1Br</th>\n",
       "      <th>buildingblock3_smiles_Nc1nnc(S)s1</th>\n",
       "      <th>buildingblock3_smiles_Nc1nncs1</th>\n",
       "      <th>buildingblock3_smiles_Nc1nnn[nH]1</th>\n",
       "      <th>buildingblock3_smiles_Nc1noc2ccc(F)cc12</th>\n",
       "    </tr>\n",
       "  </thead>\n",
       "  <tbody>\n",
       "    <tr>\n",
       "      <th>0</th>\n",
       "      <td>268370342</td>\n",
       "      <td>268370342</td>\n",
       "      <td>Cc1cc(Nc2nc(Nc3cc(Cl)c(F)c(Cl)c3)nc(N[C@H](CC(...</td>\n",
       "      <td>0</td>\n",
       "      <td>1.0</td>\n",
       "      <td>0.0</td>\n",
       "      <td>0.0</td>\n",
       "      <td>0.0</td>\n",
       "      <td>0.0</td>\n",
       "      <td>0.0</td>\n",
       "      <td>...</td>\n",
       "      <td>0.0</td>\n",
       "      <td>0.0</td>\n",
       "      <td>0.0</td>\n",
       "      <td>0.0</td>\n",
       "      <td>0.0</td>\n",
       "      <td>0.0</td>\n",
       "      <td>0.0</td>\n",
       "      <td>0.0</td>\n",
       "      <td>0.0</td>\n",
       "      <td>0.0</td>\n",
       "    </tr>\n",
       "    <tr>\n",
       "      <th>1</th>\n",
       "      <td>10026182</td>\n",
       "      <td>10026182</td>\n",
       "      <td>C=CC[C@H](Nc1nc(NCC2(COC)CCCCC2)nc(Nc2ccc(F)c(...</td>\n",
       "      <td>0</td>\n",
       "      <td>1.0</td>\n",
       "      <td>0.0</td>\n",
       "      <td>0.0</td>\n",
       "      <td>0.0</td>\n",
       "      <td>0.0</td>\n",
       "      <td>0.0</td>\n",
       "      <td>...</td>\n",
       "      <td>0.0</td>\n",
       "      <td>0.0</td>\n",
       "      <td>0.0</td>\n",
       "      <td>0.0</td>\n",
       "      <td>0.0</td>\n",
       "      <td>0.0</td>\n",
       "      <td>0.0</td>\n",
       "      <td>0.0</td>\n",
       "      <td>0.0</td>\n",
       "      <td>0.0</td>\n",
       "    </tr>\n",
       "    <tr>\n",
       "      <th>2</th>\n",
       "      <td>23512220</td>\n",
       "      <td>23512220</td>\n",
       "      <td>CCS(=O)(=O)c1cc(C(=O)N[Dy])c(OC)cc1Nc1nc(NC[C@...</td>\n",
       "      <td>0</td>\n",
       "      <td>1.0</td>\n",
       "      <td>0.0</td>\n",
       "      <td>0.0</td>\n",
       "      <td>0.0</td>\n",
       "      <td>0.0</td>\n",
       "      <td>0.0</td>\n",
       "      <td>...</td>\n",
       "      <td>0.0</td>\n",
       "      <td>0.0</td>\n",
       "      <td>0.0</td>\n",
       "      <td>0.0</td>\n",
       "      <td>0.0</td>\n",
       "      <td>0.0</td>\n",
       "      <td>0.0</td>\n",
       "      <td>0.0</td>\n",
       "      <td>0.0</td>\n",
       "      <td>0.0</td>\n",
       "    </tr>\n",
       "    <tr>\n",
       "      <th>3</th>\n",
       "      <td>61878314</td>\n",
       "      <td>61878314</td>\n",
       "      <td>Cc1ccccc1[C@@H](CC(=O)N[Dy])Nc1nc(NCc2nc3c(s2)...</td>\n",
       "      <td>0</td>\n",
       "      <td>1.0</td>\n",
       "      <td>0.0</td>\n",
       "      <td>0.0</td>\n",
       "      <td>0.0</td>\n",
       "      <td>0.0</td>\n",
       "      <td>0.0</td>\n",
       "      <td>...</td>\n",
       "      <td>0.0</td>\n",
       "      <td>0.0</td>\n",
       "      <td>0.0</td>\n",
       "      <td>0.0</td>\n",
       "      <td>0.0</td>\n",
       "      <td>0.0</td>\n",
       "      <td>0.0</td>\n",
       "      <td>0.0</td>\n",
       "      <td>0.0</td>\n",
       "      <td>0.0</td>\n",
       "    </tr>\n",
       "    <tr>\n",
       "      <th>4</th>\n",
       "      <td>253580711</td>\n",
       "      <td>253580711</td>\n",
       "      <td>CC1(C)NC(=O)N(CCCNc2nc(NCc3cccnc3)nc(N[C@@H](C...</td>\n",
       "      <td>0</td>\n",
       "      <td>1.0</td>\n",
       "      <td>0.0</td>\n",
       "      <td>0.0</td>\n",
       "      <td>0.0</td>\n",
       "      <td>0.0</td>\n",
       "      <td>0.0</td>\n",
       "      <td>...</td>\n",
       "      <td>0.0</td>\n",
       "      <td>0.0</td>\n",
       "      <td>0.0</td>\n",
       "      <td>0.0</td>\n",
       "      <td>0.0</td>\n",
       "      <td>0.0</td>\n",
       "      <td>0.0</td>\n",
       "      <td>0.0</td>\n",
       "      <td>0.0</td>\n",
       "      <td>0.0</td>\n",
       "    </tr>\n",
       "    <tr>\n",
       "      <th>5</th>\n",
       "      <td>47632394</td>\n",
       "      <td>47632394</td>\n",
       "      <td>Cc1cc(Br)c(C(=O)N[Dy])cc1Nc1nc(NCCc2ccncc2F)nc...</td>\n",
       "      <td>0</td>\n",
       "      <td>1.0</td>\n",
       "      <td>0.0</td>\n",
       "      <td>0.0</td>\n",
       "      <td>0.0</td>\n",
       "      <td>0.0</td>\n",
       "      <td>0.0</td>\n",
       "      <td>...</td>\n",
       "      <td>0.0</td>\n",
       "      <td>0.0</td>\n",
       "      <td>0.0</td>\n",
       "      <td>0.0</td>\n",
       "      <td>0.0</td>\n",
       "      <td>0.0</td>\n",
       "      <td>0.0</td>\n",
       "      <td>0.0</td>\n",
       "      <td>0.0</td>\n",
       "      <td>0.0</td>\n",
       "    </tr>\n",
       "    <tr>\n",
       "      <th>6</th>\n",
       "      <td>214744424</td>\n",
       "      <td>214744424</td>\n",
       "      <td>CCOC(=O)c1ncccc1Nc1nc(Nc2cccc([N+](=O)[O-])c2C...</td>\n",
       "      <td>0</td>\n",
       "      <td>1.0</td>\n",
       "      <td>0.0</td>\n",
       "      <td>0.0</td>\n",
       "      <td>0.0</td>\n",
       "      <td>0.0</td>\n",
       "      <td>0.0</td>\n",
       "      <td>...</td>\n",
       "      <td>0.0</td>\n",
       "      <td>0.0</td>\n",
       "      <td>0.0</td>\n",
       "      <td>0.0</td>\n",
       "      <td>0.0</td>\n",
       "      <td>0.0</td>\n",
       "      <td>0.0</td>\n",
       "      <td>0.0</td>\n",
       "      <td>0.0</td>\n",
       "      <td>0.0</td>\n",
       "    </tr>\n",
       "    <tr>\n",
       "      <th>7</th>\n",
       "      <td>42487106</td>\n",
       "      <td>42487106</td>\n",
       "      <td>C#CCOc1ccc(CNc2nc(NCC3CCCn4ccnc43)nc(Nc3cnc(SC...</td>\n",
       "      <td>0</td>\n",
       "      <td>1.0</td>\n",
       "      <td>0.0</td>\n",
       "      <td>0.0</td>\n",
       "      <td>0.0</td>\n",
       "      <td>0.0</td>\n",
       "      <td>0.0</td>\n",
       "      <td>...</td>\n",
       "      <td>0.0</td>\n",
       "      <td>0.0</td>\n",
       "      <td>0.0</td>\n",
       "      <td>0.0</td>\n",
       "      <td>0.0</td>\n",
       "      <td>0.0</td>\n",
       "      <td>0.0</td>\n",
       "      <td>0.0</td>\n",
       "      <td>0.0</td>\n",
       "      <td>0.0</td>\n",
       "    </tr>\n",
       "    <tr>\n",
       "      <th>8</th>\n",
       "      <td>149389373</td>\n",
       "      <td>149389373</td>\n",
       "      <td>COc1ccc(CNc2nc(NCC3CCC(C(=O)N(C)C)O3)nc(Nc3c(F...</td>\n",
       "      <td>0</td>\n",
       "      <td>1.0</td>\n",
       "      <td>0.0</td>\n",
       "      <td>0.0</td>\n",
       "      <td>0.0</td>\n",
       "      <td>0.0</td>\n",
       "      <td>0.0</td>\n",
       "      <td>...</td>\n",
       "      <td>0.0</td>\n",
       "      <td>0.0</td>\n",
       "      <td>0.0</td>\n",
       "      <td>0.0</td>\n",
       "      <td>0.0</td>\n",
       "      <td>0.0</td>\n",
       "      <td>0.0</td>\n",
       "      <td>0.0</td>\n",
       "      <td>0.0</td>\n",
       "      <td>0.0</td>\n",
       "    </tr>\n",
       "    <tr>\n",
       "      <th>9</th>\n",
       "      <td>142007936</td>\n",
       "      <td>142007936</td>\n",
       "      <td>Cc1cc(Nc2nc(Nc3nc(-c4cccc([N+](=O)[O-])c4)cs3)...</td>\n",
       "      <td>0</td>\n",
       "      <td>1.0</td>\n",
       "      <td>0.0</td>\n",
       "      <td>0.0</td>\n",
       "      <td>0.0</td>\n",
       "      <td>0.0</td>\n",
       "      <td>0.0</td>\n",
       "      <td>...</td>\n",
       "      <td>0.0</td>\n",
       "      <td>0.0</td>\n",
       "      <td>0.0</td>\n",
       "      <td>0.0</td>\n",
       "      <td>0.0</td>\n",
       "      <td>0.0</td>\n",
       "      <td>0.0</td>\n",
       "      <td>0.0</td>\n",
       "      <td>0.0</td>\n",
       "      <td>0.0</td>\n",
       "    </tr>\n",
       "    <tr>\n",
       "      <th>10</th>\n",
       "      <td>9849104</td>\n",
       "      <td>9849104</td>\n",
       "      <td>C=CC[C@H](Nc1nc(NCC(C)(CC(C)C)NC(=O)c2cc(Cl)c(...</td>\n",
       "      <td>0</td>\n",
       "      <td>1.0</td>\n",
       "      <td>0.0</td>\n",
       "      <td>0.0</td>\n",
       "      <td>0.0</td>\n",
       "      <td>0.0</td>\n",
       "      <td>0.0</td>\n",
       "      <td>...</td>\n",
       "      <td>0.0</td>\n",
       "      <td>0.0</td>\n",
       "      <td>0.0</td>\n",
       "      <td>0.0</td>\n",
       "      <td>0.0</td>\n",
       "      <td>0.0</td>\n",
       "      <td>0.0</td>\n",
       "      <td>0.0</td>\n",
       "      <td>1.0</td>\n",
       "      <td>0.0</td>\n",
       "    </tr>\n",
       "    <tr>\n",
       "      <th>11</th>\n",
       "      <td>203169899</td>\n",
       "      <td>203169899</td>\n",
       "      <td>O=C(N[Dy])c1cc(I)ccc1Nc1nc(NCc2ccsc2)nc(NCc2nn...</td>\n",
       "      <td>0</td>\n",
       "      <td>1.0</td>\n",
       "      <td>0.0</td>\n",
       "      <td>0.0</td>\n",
       "      <td>0.0</td>\n",
       "      <td>0.0</td>\n",
       "      <td>0.0</td>\n",
       "      <td>...</td>\n",
       "      <td>0.0</td>\n",
       "      <td>0.0</td>\n",
       "      <td>0.0</td>\n",
       "      <td>0.0</td>\n",
       "      <td>0.0</td>\n",
       "      <td>0.0</td>\n",
       "      <td>0.0</td>\n",
       "      <td>0.0</td>\n",
       "      <td>0.0</td>\n",
       "      <td>0.0</td>\n",
       "    </tr>\n",
       "    <tr>\n",
       "      <th>12</th>\n",
       "      <td>75165194</td>\n",
       "      <td>75165194</td>\n",
       "      <td>CCOC(=O)c1cc(Nc2nc(Nc3nccs3)nc(NC(Cc3ccccc3)C(...</td>\n",
       "      <td>0</td>\n",
       "      <td>1.0</td>\n",
       "      <td>0.0</td>\n",
       "      <td>0.0</td>\n",
       "      <td>0.0</td>\n",
       "      <td>0.0</td>\n",
       "      <td>0.0</td>\n",
       "      <td>...</td>\n",
       "      <td>0.0</td>\n",
       "      <td>0.0</td>\n",
       "      <td>0.0</td>\n",
       "      <td>0.0</td>\n",
       "      <td>0.0</td>\n",
       "      <td>0.0</td>\n",
       "      <td>0.0</td>\n",
       "      <td>0.0</td>\n",
       "      <td>0.0</td>\n",
       "      <td>0.0</td>\n",
       "    </tr>\n",
       "    <tr>\n",
       "      <th>13</th>\n",
       "      <td>191848106</td>\n",
       "      <td>191848106</td>\n",
       "      <td>CCN1C(=O)C[C@H](CNc2nc(NC[C@H]3CC(=O)N(CC)[C@@...</td>\n",
       "      <td>0</td>\n",
       "      <td>1.0</td>\n",
       "      <td>0.0</td>\n",
       "      <td>0.0</td>\n",
       "      <td>0.0</td>\n",
       "      <td>0.0</td>\n",
       "      <td>0.0</td>\n",
       "      <td>...</td>\n",
       "      <td>0.0</td>\n",
       "      <td>0.0</td>\n",
       "      <td>0.0</td>\n",
       "      <td>0.0</td>\n",
       "      <td>0.0</td>\n",
       "      <td>0.0</td>\n",
       "      <td>0.0</td>\n",
       "      <td>0.0</td>\n",
       "      <td>0.0</td>\n",
       "      <td>0.0</td>\n",
       "    </tr>\n",
       "    <tr>\n",
       "      <th>14</th>\n",
       "      <td>237865790</td>\n",
       "      <td>237865790</td>\n",
       "      <td>CCOC(=O)c1sc(Nc2nc(NCC3(CC(=O)N[Dy])CCCCC3)nc(...</td>\n",
       "      <td>0</td>\n",
       "      <td>1.0</td>\n",
       "      <td>0.0</td>\n",
       "      <td>0.0</td>\n",
       "      <td>0.0</td>\n",
       "      <td>0.0</td>\n",
       "      <td>0.0</td>\n",
       "      <td>...</td>\n",
       "      <td>0.0</td>\n",
       "      <td>0.0</td>\n",
       "      <td>0.0</td>\n",
       "      <td>0.0</td>\n",
       "      <td>0.0</td>\n",
       "      <td>0.0</td>\n",
       "      <td>0.0</td>\n",
       "      <td>0.0</td>\n",
       "      <td>0.0</td>\n",
       "      <td>0.0</td>\n",
       "    </tr>\n",
       "  </tbody>\n",
       "</table>\n",
       "<p>15 rows × 1838 columns</p>\n",
       "</div>"
      ],
      "text/plain": [
       "        index         id                                    molecule_smiles  \\\n",
       "0   268370342  268370342  Cc1cc(Nc2nc(Nc3cc(Cl)c(F)c(Cl)c3)nc(N[C@H](CC(...   \n",
       "1    10026182   10026182  C=CC[C@H](Nc1nc(NCC2(COC)CCCCC2)nc(Nc2ccc(F)c(...   \n",
       "2    23512220   23512220  CCS(=O)(=O)c1cc(C(=O)N[Dy])c(OC)cc1Nc1nc(NC[C@...   \n",
       "3    61878314   61878314  Cc1ccccc1[C@@H](CC(=O)N[Dy])Nc1nc(NCc2nc3c(s2)...   \n",
       "4   253580711  253580711  CC1(C)NC(=O)N(CCCNc2nc(NCc3cccnc3)nc(N[C@@H](C...   \n",
       "5    47632394   47632394  Cc1cc(Br)c(C(=O)N[Dy])cc1Nc1nc(NCCc2ccncc2F)nc...   \n",
       "6   214744424  214744424  CCOC(=O)c1ncccc1Nc1nc(Nc2cccc([N+](=O)[O-])c2C...   \n",
       "7    42487106   42487106  C#CCOc1ccc(CNc2nc(NCC3CCCn4ccnc43)nc(Nc3cnc(SC...   \n",
       "8   149389373  149389373  COc1ccc(CNc2nc(NCC3CCC(C(=O)N(C)C)O3)nc(Nc3c(F...   \n",
       "9   142007936  142007936  Cc1cc(Nc2nc(Nc3nc(-c4cccc([N+](=O)[O-])c4)cs3)...   \n",
       "10    9849104    9849104  C=CC[C@H](Nc1nc(NCC(C)(CC(C)C)NC(=O)c2cc(Cl)c(...   \n",
       "11  203169899  203169899  O=C(N[Dy])c1cc(I)ccc1Nc1nc(NCc2ccsc2)nc(NCc2nn...   \n",
       "12   75165194   75165194  CCOC(=O)c1cc(Nc2nc(Nc3nccs3)nc(NC(Cc3ccccc3)C(...   \n",
       "13  191848106  191848106  CCN1C(=O)C[C@H](CNc2nc(NC[C@H]3CC(=O)N(CC)[C@@...   \n",
       "14  237865790  237865790  CCOC(=O)c1sc(Nc2nc(NCC3(CC(=O)N[Dy])CCCCC3)nc(...   \n",
       "\n",
       "    binds  protein_name_sEH  \\\n",
       "0       0               1.0   \n",
       "1       0               1.0   \n",
       "2       0               1.0   \n",
       "3       0               1.0   \n",
       "4       0               1.0   \n",
       "5       0               1.0   \n",
       "6       0               1.0   \n",
       "7       0               1.0   \n",
       "8       0               1.0   \n",
       "9       0               1.0   \n",
       "10      0               1.0   \n",
       "11      0               1.0   \n",
       "12      0               1.0   \n",
       "13      0               1.0   \n",
       "14      0               1.0   \n",
       "\n",
       "    buildingblock1_smiles_C#CC[C@@H](CC(=O)O)NC(=O)OCC1c2ccccc2-c2ccccc21  \\\n",
       "0                                                 0.0                       \n",
       "1                                                 0.0                       \n",
       "2                                                 0.0                       \n",
       "3                                                 0.0                       \n",
       "4                                                 0.0                       \n",
       "5                                                 0.0                       \n",
       "6                                                 0.0                       \n",
       "7                                                 0.0                       \n",
       "8                                                 0.0                       \n",
       "9                                                 0.0                       \n",
       "10                                                0.0                       \n",
       "11                                                0.0                       \n",
       "12                                                0.0                       \n",
       "13                                                0.0                       \n",
       "14                                                0.0                       \n",
       "\n",
       "    buildingblock1_smiles_C#CC[C@@H](NC(=O)OCC1c2ccccc2-c2ccccc21)C(=O)O  \\\n",
       "0                                                 0.0                      \n",
       "1                                                 0.0                      \n",
       "2                                                 0.0                      \n",
       "3                                                 0.0                      \n",
       "4                                                 0.0                      \n",
       "5                                                 0.0                      \n",
       "6                                                 0.0                      \n",
       "7                                                 0.0                      \n",
       "8                                                 0.0                      \n",
       "9                                                 0.0                      \n",
       "10                                                0.0                      \n",
       "11                                                0.0                      \n",
       "12                                                0.0                      \n",
       "13                                                0.0                      \n",
       "14                                                0.0                      \n",
       "\n",
       "    buildingblock1_smiles_C#CC[C@@](C)(NC(=O)OCC1c2ccccc2-c2ccccc21)C(=O)O  \\\n",
       "0                                                 0.0                        \n",
       "1                                                 0.0                        \n",
       "2                                                 0.0                        \n",
       "3                                                 0.0                        \n",
       "4                                                 0.0                        \n",
       "5                                                 0.0                        \n",
       "6                                                 0.0                        \n",
       "7                                                 0.0                        \n",
       "8                                                 0.0                        \n",
       "9                                                 0.0                        \n",
       "10                                                0.0                        \n",
       "11                                                0.0                        \n",
       "12                                                0.0                        \n",
       "13                                                0.0                        \n",
       "14                                                0.0                        \n",
       "\n",
       "    buildingblock1_smiles_C#CC[C@H](CC(=O)O)NC(=O)OCC1c2ccccc2-c2ccccc21  \\\n",
       "0                                                 0.0                      \n",
       "1                                                 0.0                      \n",
       "2                                                 0.0                      \n",
       "3                                                 0.0                      \n",
       "4                                                 0.0                      \n",
       "5                                                 0.0                      \n",
       "6                                                 0.0                      \n",
       "7                                                 0.0                      \n",
       "8                                                 0.0                      \n",
       "9                                                 0.0                      \n",
       "10                                                0.0                      \n",
       "11                                                0.0                      \n",
       "12                                                0.0                      \n",
       "13                                                0.0                      \n",
       "14                                                0.0                      \n",
       "\n",
       "    buildingblock1_smiles_C#CC[C@H](NC(=O)OCC1c2ccccc2-c2ccccc21)C(=O)O  ...  \\\n",
       "0                                                 0.0                    ...   \n",
       "1                                                 0.0                    ...   \n",
       "2                                                 0.0                    ...   \n",
       "3                                                 0.0                    ...   \n",
       "4                                                 0.0                    ...   \n",
       "5                                                 0.0                    ...   \n",
       "6                                                 0.0                    ...   \n",
       "7                                                 0.0                    ...   \n",
       "8                                                 0.0                    ...   \n",
       "9                                                 0.0                    ...   \n",
       "10                                                0.0                    ...   \n",
       "11                                                0.0                    ...   \n",
       "12                                                0.0                    ...   \n",
       "13                                                0.0                    ...   \n",
       "14                                                0.0                    ...   \n",
       "\n",
       "    buildingblock3_smiles_Nc1ncnc(=O)[nH]1  \\\n",
       "0                                      0.0   \n",
       "1                                      0.0   \n",
       "2                                      0.0   \n",
       "3                                      0.0   \n",
       "4                                      0.0   \n",
       "5                                      0.0   \n",
       "6                                      0.0   \n",
       "7                                      0.0   \n",
       "8                                      0.0   \n",
       "9                                      0.0   \n",
       "10                                     0.0   \n",
       "11                                     0.0   \n",
       "12                                     0.0   \n",
       "13                                     0.0   \n",
       "14                                     0.0   \n",
       "\n",
       "    buildingblock3_smiles_Nc1ncnc(Cl)c1Cl  \\\n",
       "0                                     0.0   \n",
       "1                                     0.0   \n",
       "2                                     0.0   \n",
       "3                                     0.0   \n",
       "4                                     0.0   \n",
       "5                                     0.0   \n",
       "6                                     0.0   \n",
       "7                                     0.0   \n",
       "8                                     0.0   \n",
       "9                                     0.0   \n",
       "10                                    0.0   \n",
       "11                                    0.0   \n",
       "12                                    0.0   \n",
       "13                                    0.0   \n",
       "14                                    0.0   \n",
       "\n",
       "    buildingblock3_smiles_Nc1ncnc2[nH]cnc12  \\\n",
       "0                                       0.0   \n",
       "1                                       0.0   \n",
       "2                                       0.0   \n",
       "3                                       0.0   \n",
       "4                                       0.0   \n",
       "5                                       0.0   \n",
       "6                                       0.0   \n",
       "7                                       0.0   \n",
       "8                                       0.0   \n",
       "9                                       0.0   \n",
       "10                                      0.0   \n",
       "11                                      0.0   \n",
       "12                                      0.0   \n",
       "13                                      0.0   \n",
       "14                                      0.0   \n",
       "\n",
       "    buildingblock3_smiles_Nc1ncnc2[nH]ncc12  \\\n",
       "0                                       0.0   \n",
       "1                                       0.0   \n",
       "2                                       0.0   \n",
       "3                                       0.0   \n",
       "4                                       0.0   \n",
       "5                                       0.0   \n",
       "6                                       0.0   \n",
       "7                                       0.0   \n",
       "8                                       0.0   \n",
       "9                                       0.0   \n",
       "10                                      0.0   \n",
       "11                                      0.0   \n",
       "12                                      0.0   \n",
       "13                                      0.0   \n",
       "14                                      0.0   \n",
       "\n",
       "    buildingblock3_smiles_Nc1ncnc2c1ncn2C1CCCCO1  \\\n",
       "0                                            0.0   \n",
       "1                                            0.0   \n",
       "2                                            0.0   \n",
       "3                                            0.0   \n",
       "4                                            0.0   \n",
       "5                                            0.0   \n",
       "6                                            0.0   \n",
       "7                                            0.0   \n",
       "8                                            0.0   \n",
       "9                                            0.0   \n",
       "10                                           0.0   \n",
       "11                                           0.0   \n",
       "12                                           0.0   \n",
       "13                                           0.0   \n",
       "14                                           0.0   \n",
       "\n",
       "    buildingblock3_smiles_Nc1ncncc1Br  buildingblock3_smiles_Nc1nnc(S)s1  \\\n",
       "0                                 0.0                                0.0   \n",
       "1                                 0.0                                0.0   \n",
       "2                                 0.0                                0.0   \n",
       "3                                 0.0                                0.0   \n",
       "4                                 0.0                                0.0   \n",
       "5                                 0.0                                0.0   \n",
       "6                                 0.0                                0.0   \n",
       "7                                 0.0                                0.0   \n",
       "8                                 0.0                                0.0   \n",
       "9                                 0.0                                0.0   \n",
       "10                                0.0                                0.0   \n",
       "11                                0.0                                0.0   \n",
       "12                                0.0                                0.0   \n",
       "13                                0.0                                0.0   \n",
       "14                                0.0                                0.0   \n",
       "\n",
       "    buildingblock3_smiles_Nc1nncs1  buildingblock3_smiles_Nc1nnn[nH]1  \\\n",
       "0                              0.0                                0.0   \n",
       "1                              0.0                                0.0   \n",
       "2                              0.0                                0.0   \n",
       "3                              0.0                                0.0   \n",
       "4                              0.0                                0.0   \n",
       "5                              0.0                                0.0   \n",
       "6                              0.0                                0.0   \n",
       "7                              0.0                                0.0   \n",
       "8                              0.0                                0.0   \n",
       "9                              0.0                                0.0   \n",
       "10                             0.0                                1.0   \n",
       "11                             0.0                                0.0   \n",
       "12                             0.0                                0.0   \n",
       "13                             0.0                                0.0   \n",
       "14                             0.0                                0.0   \n",
       "\n",
       "    buildingblock3_smiles_Nc1noc2ccc(F)cc12  \n",
       "0                                       0.0  \n",
       "1                                       0.0  \n",
       "2                                       0.0  \n",
       "3                                       0.0  \n",
       "4                                       0.0  \n",
       "5                                       0.0  \n",
       "6                                       0.0  \n",
       "7                                       0.0  \n",
       "8                                       0.0  \n",
       "9                                       0.0  \n",
       "10                                      0.0  \n",
       "11                                      0.0  \n",
       "12                                      0.0  \n",
       "13                                      0.0  \n",
       "14                                      0.0  \n",
       "\n",
       "[15 rows x 1838 columns]"
      ]
     },
     "execution_count": 40,
     "metadata": {},
     "output_type": "execute_result"
    }
   ],
   "source": [
    "datatrainseh.head(15)"
   ]
  },
  {
   "cell_type": "code",
   "execution_count": 36,
   "metadata": {},
   "outputs": [
    {
     "data": {
      "text/html": [
       "<div>\n",
       "<style scoped>\n",
       "    .dataframe tbody tr th:only-of-type {\n",
       "        vertical-align: middle;\n",
       "    }\n",
       "\n",
       "    .dataframe tbody tr th {\n",
       "        vertical-align: top;\n",
       "    }\n",
       "\n",
       "    .dataframe thead th {\n",
       "        text-align: right;\n",
       "    }\n",
       "</style>\n",
       "<table border=\"1\" class=\"dataframe\">\n",
       "  <thead>\n",
       "    <tr style=\"text-align: right;\">\n",
       "      <th></th>\n",
       "      <th>index</th>\n",
       "      <th>id</th>\n",
       "      <th>molecule_smiles</th>\n",
       "      <th>binds</th>\n",
       "      <th>protein_name_sEH</th>\n",
       "      <th>buildingblock1_smiles_C#CC[C@@H](CC(=O)O)NC(=O)OCC1c2ccccc2-c2ccccc21</th>\n",
       "      <th>buildingblock1_smiles_C#CC[C@@H](NC(=O)OCC1c2ccccc2-c2ccccc21)C(=O)O</th>\n",
       "      <th>buildingblock1_smiles_C#CC[C@@](C)(NC(=O)OCC1c2ccccc2-c2ccccc21)C(=O)O</th>\n",
       "      <th>buildingblock1_smiles_C#CC[C@H](CC(=O)O)NC(=O)OCC1c2ccccc2-c2ccccc21</th>\n",
       "      <th>buildingblock1_smiles_C#CC[C@H](NC(=O)OCC1c2ccccc2-c2ccccc21)C(=O)O</th>\n",
       "      <th>...</th>\n",
       "      <th>buildingblock3_smiles_Nc1ncnc(=O)[nH]1</th>\n",
       "      <th>buildingblock3_smiles_Nc1ncnc(Cl)c1Cl</th>\n",
       "      <th>buildingblock3_smiles_Nc1ncnc2[nH]cnc12</th>\n",
       "      <th>buildingblock3_smiles_Nc1ncnc2[nH]ncc12</th>\n",
       "      <th>buildingblock3_smiles_Nc1ncnc2c1ncn2C1CCCCO1</th>\n",
       "      <th>buildingblock3_smiles_Nc1ncncc1Br</th>\n",
       "      <th>buildingblock3_smiles_Nc1nnc(S)s1</th>\n",
       "      <th>buildingblock3_smiles_Nc1nncs1</th>\n",
       "      <th>buildingblock3_smiles_Nc1nnn[nH]1</th>\n",
       "      <th>buildingblock3_smiles_Nc1noc2ccc(F)cc12</th>\n",
       "    </tr>\n",
       "  </thead>\n",
       "  <tbody>\n",
       "    <tr>\n",
       "      <th>99985</th>\n",
       "      <td>110594819</td>\n",
       "      <td>110594819</td>\n",
       "      <td>C=CCOC(C)CNc1nc(NCC2CC3(C2)CC3(F)F)nc(N[C@@H]2...</td>\n",
       "      <td>0</td>\n",
       "      <td>1.0</td>\n",
       "      <td>0.0</td>\n",
       "      <td>0.0</td>\n",
       "      <td>0.0</td>\n",
       "      <td>0.0</td>\n",
       "      <td>0.0</td>\n",
       "      <td>...</td>\n",
       "      <td>0.0</td>\n",
       "      <td>0.0</td>\n",
       "      <td>0.0</td>\n",
       "      <td>0.0</td>\n",
       "      <td>0.0</td>\n",
       "      <td>0.0</td>\n",
       "      <td>0.0</td>\n",
       "      <td>0.0</td>\n",
       "      <td>0.0</td>\n",
       "      <td>0.0</td>\n",
       "    </tr>\n",
       "    <tr>\n",
       "      <th>99986</th>\n",
       "      <td>206817857</td>\n",
       "      <td>206817857</td>\n",
       "      <td>Cn1ccnc1Cn1c(CCCNc2nc(Nc3ccc(F)c(Cl)c3)nc(Nc3c...</td>\n",
       "      <td>0</td>\n",
       "      <td>1.0</td>\n",
       "      <td>0.0</td>\n",
       "      <td>0.0</td>\n",
       "      <td>0.0</td>\n",
       "      <td>0.0</td>\n",
       "      <td>0.0</td>\n",
       "      <td>...</td>\n",
       "      <td>0.0</td>\n",
       "      <td>0.0</td>\n",
       "      <td>0.0</td>\n",
       "      <td>0.0</td>\n",
       "      <td>0.0</td>\n",
       "      <td>0.0</td>\n",
       "      <td>0.0</td>\n",
       "      <td>0.0</td>\n",
       "      <td>0.0</td>\n",
       "      <td>0.0</td>\n",
       "    </tr>\n",
       "    <tr>\n",
       "      <th>99987</th>\n",
       "      <td>95503043</td>\n",
       "      <td>95503043</td>\n",
       "      <td>O=C1CSC(Nc2nc(Nc3cnc(Cl)c(Cl)c3)nc(N[C@@H](Cc3...</td>\n",
       "      <td>0</td>\n",
       "      <td>1.0</td>\n",
       "      <td>0.0</td>\n",
       "      <td>0.0</td>\n",
       "      <td>0.0</td>\n",
       "      <td>0.0</td>\n",
       "      <td>0.0</td>\n",
       "      <td>...</td>\n",
       "      <td>0.0</td>\n",
       "      <td>0.0</td>\n",
       "      <td>0.0</td>\n",
       "      <td>0.0</td>\n",
       "      <td>0.0</td>\n",
       "      <td>0.0</td>\n",
       "      <td>0.0</td>\n",
       "      <td>0.0</td>\n",
       "      <td>0.0</td>\n",
       "      <td>0.0</td>\n",
       "    </tr>\n",
       "    <tr>\n",
       "      <th>99988</th>\n",
       "      <td>266273570</td>\n",
       "      <td>266273570</td>\n",
       "      <td>Cc1nn(C)c2ncc(CNc3nc(NCc4ccc5scnc5c4)nc(N[C@H]...</td>\n",
       "      <td>0</td>\n",
       "      <td>1.0</td>\n",
       "      <td>0.0</td>\n",
       "      <td>0.0</td>\n",
       "      <td>0.0</td>\n",
       "      <td>0.0</td>\n",
       "      <td>0.0</td>\n",
       "      <td>...</td>\n",
       "      <td>0.0</td>\n",
       "      <td>0.0</td>\n",
       "      <td>0.0</td>\n",
       "      <td>0.0</td>\n",
       "      <td>0.0</td>\n",
       "      <td>0.0</td>\n",
       "      <td>0.0</td>\n",
       "      <td>0.0</td>\n",
       "      <td>0.0</td>\n",
       "      <td>0.0</td>\n",
       "    </tr>\n",
       "    <tr>\n",
       "      <th>99989</th>\n",
       "      <td>56614190</td>\n",
       "      <td>56614190</td>\n",
       "      <td>CNC(=O)COCCNc1nc(Nc2ncc(Cl)c(Cl)n2)nc(NC(CC(=O...</td>\n",
       "      <td>0</td>\n",
       "      <td>1.0</td>\n",
       "      <td>0.0</td>\n",
       "      <td>0.0</td>\n",
       "      <td>0.0</td>\n",
       "      <td>0.0</td>\n",
       "      <td>0.0</td>\n",
       "      <td>...</td>\n",
       "      <td>0.0</td>\n",
       "      <td>0.0</td>\n",
       "      <td>0.0</td>\n",
       "      <td>0.0</td>\n",
       "      <td>0.0</td>\n",
       "      <td>0.0</td>\n",
       "      <td>0.0</td>\n",
       "      <td>0.0</td>\n",
       "      <td>0.0</td>\n",
       "      <td>0.0</td>\n",
       "    </tr>\n",
       "    <tr>\n",
       "      <th>99990</th>\n",
       "      <td>50279990</td>\n",
       "      <td>50279990</td>\n",
       "      <td>CNC(=O)COCCNc1nc(NCC2CCC(C(=O)N(C)C)O2)nc(Nc2c...</td>\n",
       "      <td>0</td>\n",
       "      <td>1.0</td>\n",
       "      <td>0.0</td>\n",
       "      <td>0.0</td>\n",
       "      <td>0.0</td>\n",
       "      <td>0.0</td>\n",
       "      <td>0.0</td>\n",
       "      <td>...</td>\n",
       "      <td>0.0</td>\n",
       "      <td>0.0</td>\n",
       "      <td>0.0</td>\n",
       "      <td>0.0</td>\n",
       "      <td>0.0</td>\n",
       "      <td>0.0</td>\n",
       "      <td>0.0</td>\n",
       "      <td>0.0</td>\n",
       "      <td>0.0</td>\n",
       "      <td>0.0</td>\n",
       "    </tr>\n",
       "    <tr>\n",
       "      <th>99991</th>\n",
       "      <td>160111940</td>\n",
       "      <td>160111940</td>\n",
       "      <td>COc1ccc(Nc2nc(Nc3cc(Br)cc(C(=O)N[Dy])c3)nc(Nc3...</td>\n",
       "      <td>0</td>\n",
       "      <td>1.0</td>\n",
       "      <td>0.0</td>\n",
       "      <td>0.0</td>\n",
       "      <td>0.0</td>\n",
       "      <td>0.0</td>\n",
       "      <td>0.0</td>\n",
       "      <td>...</td>\n",
       "      <td>0.0</td>\n",
       "      <td>0.0</td>\n",
       "      <td>0.0</td>\n",
       "      <td>0.0</td>\n",
       "      <td>0.0</td>\n",
       "      <td>0.0</td>\n",
       "      <td>0.0</td>\n",
       "      <td>0.0</td>\n",
       "      <td>0.0</td>\n",
       "      <td>0.0</td>\n",
       "    </tr>\n",
       "    <tr>\n",
       "      <th>99992</th>\n",
       "      <td>291714953</td>\n",
       "      <td>291714953</td>\n",
       "      <td>CC(O)(CNc1nc(NCc2cccnc2)nc(N2CCOC[C@@H]2C(=O)N...</td>\n",
       "      <td>0</td>\n",
       "      <td>1.0</td>\n",
       "      <td>0.0</td>\n",
       "      <td>0.0</td>\n",
       "      <td>0.0</td>\n",
       "      <td>0.0</td>\n",
       "      <td>0.0</td>\n",
       "      <td>...</td>\n",
       "      <td>0.0</td>\n",
       "      <td>0.0</td>\n",
       "      <td>0.0</td>\n",
       "      <td>0.0</td>\n",
       "      <td>0.0</td>\n",
       "      <td>0.0</td>\n",
       "      <td>0.0</td>\n",
       "      <td>0.0</td>\n",
       "      <td>0.0</td>\n",
       "      <td>0.0</td>\n",
       "    </tr>\n",
       "    <tr>\n",
       "      <th>99993</th>\n",
       "      <td>68271803</td>\n",
       "      <td>68271803</td>\n",
       "      <td>CN(C)c1ncccc1CNc1nc(NC2=NC(=O)CS2)nc(Nc2ccc(C#...</td>\n",
       "      <td>0</td>\n",
       "      <td>1.0</td>\n",
       "      <td>0.0</td>\n",
       "      <td>0.0</td>\n",
       "      <td>0.0</td>\n",
       "      <td>0.0</td>\n",
       "      <td>0.0</td>\n",
       "      <td>...</td>\n",
       "      <td>0.0</td>\n",
       "      <td>0.0</td>\n",
       "      <td>0.0</td>\n",
       "      <td>0.0</td>\n",
       "      <td>0.0</td>\n",
       "      <td>0.0</td>\n",
       "      <td>0.0</td>\n",
       "      <td>0.0</td>\n",
       "      <td>0.0</td>\n",
       "      <td>0.0</td>\n",
       "    </tr>\n",
       "    <tr>\n",
       "      <th>99994</th>\n",
       "      <td>20301830</td>\n",
       "      <td>20301830</td>\n",
       "      <td>CCC(C)C(Nc1nc(NCC(c2cncn2C)N2CCCC2)nc(Nc2ccc(C...</td>\n",
       "      <td>0</td>\n",
       "      <td>1.0</td>\n",
       "      <td>0.0</td>\n",
       "      <td>0.0</td>\n",
       "      <td>0.0</td>\n",
       "      <td>0.0</td>\n",
       "      <td>0.0</td>\n",
       "      <td>...</td>\n",
       "      <td>0.0</td>\n",
       "      <td>0.0</td>\n",
       "      <td>0.0</td>\n",
       "      <td>0.0</td>\n",
       "      <td>0.0</td>\n",
       "      <td>0.0</td>\n",
       "      <td>0.0</td>\n",
       "      <td>0.0</td>\n",
       "      <td>0.0</td>\n",
       "      <td>0.0</td>\n",
       "    </tr>\n",
       "    <tr>\n",
       "      <th>99995</th>\n",
       "      <td>150076328</td>\n",
       "      <td>150076328</td>\n",
       "      <td>Cc1ccc(Nc2nc(NCc3ccccn3)nc(Nc3c(F)cc(C(=O)N[Dy...</td>\n",
       "      <td>0</td>\n",
       "      <td>1.0</td>\n",
       "      <td>0.0</td>\n",
       "      <td>0.0</td>\n",
       "      <td>0.0</td>\n",
       "      <td>0.0</td>\n",
       "      <td>0.0</td>\n",
       "      <td>...</td>\n",
       "      <td>0.0</td>\n",
       "      <td>0.0</td>\n",
       "      <td>0.0</td>\n",
       "      <td>0.0</td>\n",
       "      <td>0.0</td>\n",
       "      <td>0.0</td>\n",
       "      <td>0.0</td>\n",
       "      <td>0.0</td>\n",
       "      <td>0.0</td>\n",
       "      <td>0.0</td>\n",
       "    </tr>\n",
       "    <tr>\n",
       "      <th>99996</th>\n",
       "      <td>224683622</td>\n",
       "      <td>224683622</td>\n",
       "      <td>COc1cc(Nc2nc(Nc3ncc([N+](=O)[O-])s3)nc(Nc3nc(C...</td>\n",
       "      <td>0</td>\n",
       "      <td>1.0</td>\n",
       "      <td>0.0</td>\n",
       "      <td>0.0</td>\n",
       "      <td>0.0</td>\n",
       "      <td>0.0</td>\n",
       "      <td>0.0</td>\n",
       "      <td>...</td>\n",
       "      <td>0.0</td>\n",
       "      <td>0.0</td>\n",
       "      <td>0.0</td>\n",
       "      <td>0.0</td>\n",
       "      <td>0.0</td>\n",
       "      <td>0.0</td>\n",
       "      <td>0.0</td>\n",
       "      <td>0.0</td>\n",
       "      <td>0.0</td>\n",
       "      <td>0.0</td>\n",
       "    </tr>\n",
       "    <tr>\n",
       "      <th>99997</th>\n",
       "      <td>156827837</td>\n",
       "      <td>156827837</td>\n",
       "      <td>Cc1cc(Nc2nc(Nc3nc(-c4cccnc4)cs3)nc(Nc3cc(-n4cc...</td>\n",
       "      <td>0</td>\n",
       "      <td>1.0</td>\n",
       "      <td>0.0</td>\n",
       "      <td>0.0</td>\n",
       "      <td>0.0</td>\n",
       "      <td>0.0</td>\n",
       "      <td>0.0</td>\n",
       "      <td>...</td>\n",
       "      <td>0.0</td>\n",
       "      <td>0.0</td>\n",
       "      <td>0.0</td>\n",
       "      <td>0.0</td>\n",
       "      <td>0.0</td>\n",
       "      <td>0.0</td>\n",
       "      <td>0.0</td>\n",
       "      <td>0.0</td>\n",
       "      <td>0.0</td>\n",
       "      <td>0.0</td>\n",
       "    </tr>\n",
       "    <tr>\n",
       "      <th>99998</th>\n",
       "      <td>91838225</td>\n",
       "      <td>91838225</td>\n",
       "      <td>COC(CNc1nc(NCc2cncc(Br)c2C)nc(N[C@@H](Cc2cc(F)...</td>\n",
       "      <td>0</td>\n",
       "      <td>1.0</td>\n",
       "      <td>0.0</td>\n",
       "      <td>0.0</td>\n",
       "      <td>0.0</td>\n",
       "      <td>0.0</td>\n",
       "      <td>0.0</td>\n",
       "      <td>...</td>\n",
       "      <td>0.0</td>\n",
       "      <td>0.0</td>\n",
       "      <td>0.0</td>\n",
       "      <td>0.0</td>\n",
       "      <td>0.0</td>\n",
       "      <td>0.0</td>\n",
       "      <td>0.0</td>\n",
       "      <td>0.0</td>\n",
       "      <td>0.0</td>\n",
       "      <td>0.0</td>\n",
       "    </tr>\n",
       "    <tr>\n",
       "      <th>99999</th>\n",
       "      <td>179204738</td>\n",
       "      <td>179204738</td>\n",
       "      <td>Cn1cc(CNc2nc(NCC3(C4CC4)CCCO3)nc(Nc3cc4ccccc4c...</td>\n",
       "      <td>0</td>\n",
       "      <td>1.0</td>\n",
       "      <td>0.0</td>\n",
       "      <td>0.0</td>\n",
       "      <td>0.0</td>\n",
       "      <td>0.0</td>\n",
       "      <td>0.0</td>\n",
       "      <td>...</td>\n",
       "      <td>0.0</td>\n",
       "      <td>0.0</td>\n",
       "      <td>0.0</td>\n",
       "      <td>0.0</td>\n",
       "      <td>0.0</td>\n",
       "      <td>0.0</td>\n",
       "      <td>0.0</td>\n",
       "      <td>0.0</td>\n",
       "      <td>0.0</td>\n",
       "      <td>0.0</td>\n",
       "    </tr>\n",
       "  </tbody>\n",
       "</table>\n",
       "<p>15 rows × 1838 columns</p>\n",
       "</div>"
      ],
      "text/plain": [
       "           index         id  \\\n",
       "99985  110594819  110594819   \n",
       "99986  206817857  206817857   \n",
       "99987   95503043   95503043   \n",
       "99988  266273570  266273570   \n",
       "99989   56614190   56614190   \n",
       "99990   50279990   50279990   \n",
       "99991  160111940  160111940   \n",
       "99992  291714953  291714953   \n",
       "99993   68271803   68271803   \n",
       "99994   20301830   20301830   \n",
       "99995  150076328  150076328   \n",
       "99996  224683622  224683622   \n",
       "99997  156827837  156827837   \n",
       "99998   91838225   91838225   \n",
       "99999  179204738  179204738   \n",
       "\n",
       "                                         molecule_smiles  binds  \\\n",
       "99985  C=CCOC(C)CNc1nc(NCC2CC3(C2)CC3(F)F)nc(N[C@@H]2...      0   \n",
       "99986  Cn1ccnc1Cn1c(CCCNc2nc(Nc3ccc(F)c(Cl)c3)nc(Nc3c...      0   \n",
       "99987  O=C1CSC(Nc2nc(Nc3cnc(Cl)c(Cl)c3)nc(N[C@@H](Cc3...      0   \n",
       "99988  Cc1nn(C)c2ncc(CNc3nc(NCc4ccc5scnc5c4)nc(N[C@H]...      0   \n",
       "99989  CNC(=O)COCCNc1nc(Nc2ncc(Cl)c(Cl)n2)nc(NC(CC(=O...      0   \n",
       "99990  CNC(=O)COCCNc1nc(NCC2CCC(C(=O)N(C)C)O2)nc(Nc2c...      0   \n",
       "99991  COc1ccc(Nc2nc(Nc3cc(Br)cc(C(=O)N[Dy])c3)nc(Nc3...      0   \n",
       "99992  CC(O)(CNc1nc(NCc2cccnc2)nc(N2CCOC[C@@H]2C(=O)N...      0   \n",
       "99993  CN(C)c1ncccc1CNc1nc(NC2=NC(=O)CS2)nc(Nc2ccc(C#...      0   \n",
       "99994  CCC(C)C(Nc1nc(NCC(c2cncn2C)N2CCCC2)nc(Nc2ccc(C...      0   \n",
       "99995  Cc1ccc(Nc2nc(NCc3ccccn3)nc(Nc3c(F)cc(C(=O)N[Dy...      0   \n",
       "99996  COc1cc(Nc2nc(Nc3ncc([N+](=O)[O-])s3)nc(Nc3nc(C...      0   \n",
       "99997  Cc1cc(Nc2nc(Nc3nc(-c4cccnc4)cs3)nc(Nc3cc(-n4cc...      0   \n",
       "99998  COC(CNc1nc(NCc2cncc(Br)c2C)nc(N[C@@H](Cc2cc(F)...      0   \n",
       "99999  Cn1cc(CNc2nc(NCC3(C4CC4)CCCO3)nc(Nc3cc4ccccc4c...      0   \n",
       "\n",
       "       protein_name_sEH  \\\n",
       "99985               1.0   \n",
       "99986               1.0   \n",
       "99987               1.0   \n",
       "99988               1.0   \n",
       "99989               1.0   \n",
       "99990               1.0   \n",
       "99991               1.0   \n",
       "99992               1.0   \n",
       "99993               1.0   \n",
       "99994               1.0   \n",
       "99995               1.0   \n",
       "99996               1.0   \n",
       "99997               1.0   \n",
       "99998               1.0   \n",
       "99999               1.0   \n",
       "\n",
       "       buildingblock1_smiles_C#CC[C@@H](CC(=O)O)NC(=O)OCC1c2ccccc2-c2ccccc21  \\\n",
       "99985                                                0.0                       \n",
       "99986                                                0.0                       \n",
       "99987                                                0.0                       \n",
       "99988                                                0.0                       \n",
       "99989                                                0.0                       \n",
       "99990                                                0.0                       \n",
       "99991                                                0.0                       \n",
       "99992                                                0.0                       \n",
       "99993                                                0.0                       \n",
       "99994                                                0.0                       \n",
       "99995                                                0.0                       \n",
       "99996                                                0.0                       \n",
       "99997                                                0.0                       \n",
       "99998                                                0.0                       \n",
       "99999                                                0.0                       \n",
       "\n",
       "       buildingblock1_smiles_C#CC[C@@H](NC(=O)OCC1c2ccccc2-c2ccccc21)C(=O)O  \\\n",
       "99985                                                0.0                      \n",
       "99986                                                0.0                      \n",
       "99987                                                0.0                      \n",
       "99988                                                0.0                      \n",
       "99989                                                0.0                      \n",
       "99990                                                0.0                      \n",
       "99991                                                0.0                      \n",
       "99992                                                0.0                      \n",
       "99993                                                0.0                      \n",
       "99994                                                0.0                      \n",
       "99995                                                0.0                      \n",
       "99996                                                0.0                      \n",
       "99997                                                0.0                      \n",
       "99998                                                0.0                      \n",
       "99999                                                0.0                      \n",
       "\n",
       "       buildingblock1_smiles_C#CC[C@@](C)(NC(=O)OCC1c2ccccc2-c2ccccc21)C(=O)O  \\\n",
       "99985                                                0.0                        \n",
       "99986                                                0.0                        \n",
       "99987                                                0.0                        \n",
       "99988                                                0.0                        \n",
       "99989                                                0.0                        \n",
       "99990                                                0.0                        \n",
       "99991                                                0.0                        \n",
       "99992                                                0.0                        \n",
       "99993                                                0.0                        \n",
       "99994                                                0.0                        \n",
       "99995                                                0.0                        \n",
       "99996                                                0.0                        \n",
       "99997                                                0.0                        \n",
       "99998                                                0.0                        \n",
       "99999                                                0.0                        \n",
       "\n",
       "       buildingblock1_smiles_C#CC[C@H](CC(=O)O)NC(=O)OCC1c2ccccc2-c2ccccc21  \\\n",
       "99985                                                0.0                      \n",
       "99986                                                0.0                      \n",
       "99987                                                0.0                      \n",
       "99988                                                0.0                      \n",
       "99989                                                0.0                      \n",
       "99990                                                0.0                      \n",
       "99991                                                0.0                      \n",
       "99992                                                0.0                      \n",
       "99993                                                0.0                      \n",
       "99994                                                0.0                      \n",
       "99995                                                0.0                      \n",
       "99996                                                0.0                      \n",
       "99997                                                0.0                      \n",
       "99998                                                0.0                      \n",
       "99999                                                0.0                      \n",
       "\n",
       "       buildingblock1_smiles_C#CC[C@H](NC(=O)OCC1c2ccccc2-c2ccccc21)C(=O)O  \\\n",
       "99985                                                0.0                     \n",
       "99986                                                0.0                     \n",
       "99987                                                0.0                     \n",
       "99988                                                0.0                     \n",
       "99989                                                0.0                     \n",
       "99990                                                0.0                     \n",
       "99991                                                0.0                     \n",
       "99992                                                0.0                     \n",
       "99993                                                0.0                     \n",
       "99994                                                0.0                     \n",
       "99995                                                0.0                     \n",
       "99996                                                0.0                     \n",
       "99997                                                0.0                     \n",
       "99998                                                0.0                     \n",
       "99999                                                0.0                     \n",
       "\n",
       "       ...  buildingblock3_smiles_Nc1ncnc(=O)[nH]1  \\\n",
       "99985  ...                                     0.0   \n",
       "99986  ...                                     0.0   \n",
       "99987  ...                                     0.0   \n",
       "99988  ...                                     0.0   \n",
       "99989  ...                                     0.0   \n",
       "99990  ...                                     0.0   \n",
       "99991  ...                                     0.0   \n",
       "99992  ...                                     0.0   \n",
       "99993  ...                                     0.0   \n",
       "99994  ...                                     0.0   \n",
       "99995  ...                                     0.0   \n",
       "99996  ...                                     0.0   \n",
       "99997  ...                                     0.0   \n",
       "99998  ...                                     0.0   \n",
       "99999  ...                                     0.0   \n",
       "\n",
       "       buildingblock3_smiles_Nc1ncnc(Cl)c1Cl  \\\n",
       "99985                                    0.0   \n",
       "99986                                    0.0   \n",
       "99987                                    0.0   \n",
       "99988                                    0.0   \n",
       "99989                                    0.0   \n",
       "99990                                    0.0   \n",
       "99991                                    0.0   \n",
       "99992                                    0.0   \n",
       "99993                                    0.0   \n",
       "99994                                    0.0   \n",
       "99995                                    0.0   \n",
       "99996                                    0.0   \n",
       "99997                                    0.0   \n",
       "99998                                    0.0   \n",
       "99999                                    0.0   \n",
       "\n",
       "       buildingblock3_smiles_Nc1ncnc2[nH]cnc12  \\\n",
       "99985                                      0.0   \n",
       "99986                                      0.0   \n",
       "99987                                      0.0   \n",
       "99988                                      0.0   \n",
       "99989                                      0.0   \n",
       "99990                                      0.0   \n",
       "99991                                      0.0   \n",
       "99992                                      0.0   \n",
       "99993                                      0.0   \n",
       "99994                                      0.0   \n",
       "99995                                      0.0   \n",
       "99996                                      0.0   \n",
       "99997                                      0.0   \n",
       "99998                                      0.0   \n",
       "99999                                      0.0   \n",
       "\n",
       "       buildingblock3_smiles_Nc1ncnc2[nH]ncc12  \\\n",
       "99985                                      0.0   \n",
       "99986                                      0.0   \n",
       "99987                                      0.0   \n",
       "99988                                      0.0   \n",
       "99989                                      0.0   \n",
       "99990                                      0.0   \n",
       "99991                                      0.0   \n",
       "99992                                      0.0   \n",
       "99993                                      0.0   \n",
       "99994                                      0.0   \n",
       "99995                                      0.0   \n",
       "99996                                      0.0   \n",
       "99997                                      0.0   \n",
       "99998                                      0.0   \n",
       "99999                                      0.0   \n",
       "\n",
       "       buildingblock3_smiles_Nc1ncnc2c1ncn2C1CCCCO1  \\\n",
       "99985                                           0.0   \n",
       "99986                                           0.0   \n",
       "99987                                           0.0   \n",
       "99988                                           0.0   \n",
       "99989                                           0.0   \n",
       "99990                                           0.0   \n",
       "99991                                           0.0   \n",
       "99992                                           0.0   \n",
       "99993                                           0.0   \n",
       "99994                                           0.0   \n",
       "99995                                           0.0   \n",
       "99996                                           0.0   \n",
       "99997                                           0.0   \n",
       "99998                                           0.0   \n",
       "99999                                           0.0   \n",
       "\n",
       "       buildingblock3_smiles_Nc1ncncc1Br  buildingblock3_smiles_Nc1nnc(S)s1  \\\n",
       "99985                                0.0                                0.0   \n",
       "99986                                0.0                                0.0   \n",
       "99987                                0.0                                0.0   \n",
       "99988                                0.0                                0.0   \n",
       "99989                                0.0                                0.0   \n",
       "99990                                0.0                                0.0   \n",
       "99991                                0.0                                0.0   \n",
       "99992                                0.0                                0.0   \n",
       "99993                                0.0                                0.0   \n",
       "99994                                0.0                                0.0   \n",
       "99995                                0.0                                0.0   \n",
       "99996                                0.0                                0.0   \n",
       "99997                                0.0                                0.0   \n",
       "99998                                0.0                                0.0   \n",
       "99999                                0.0                                0.0   \n",
       "\n",
       "       buildingblock3_smiles_Nc1nncs1  buildingblock3_smiles_Nc1nnn[nH]1  \\\n",
       "99985                             0.0                                0.0   \n",
       "99986                             0.0                                0.0   \n",
       "99987                             0.0                                0.0   \n",
       "99988                             0.0                                0.0   \n",
       "99989                             0.0                                0.0   \n",
       "99990                             0.0                                0.0   \n",
       "99991                             0.0                                0.0   \n",
       "99992                             0.0                                0.0   \n",
       "99993                             0.0                                0.0   \n",
       "99994                             0.0                                0.0   \n",
       "99995                             0.0                                0.0   \n",
       "99996                             0.0                                0.0   \n",
       "99997                             0.0                                0.0   \n",
       "99998                             0.0                                0.0   \n",
       "99999                             0.0                                0.0   \n",
       "\n",
       "       buildingblock3_smiles_Nc1noc2ccc(F)cc12  \n",
       "99985                                      0.0  \n",
       "99986                                      0.0  \n",
       "99987                                      0.0  \n",
       "99988                                      0.0  \n",
       "99989                                      0.0  \n",
       "99990                                      0.0  \n",
       "99991                                      0.0  \n",
       "99992                                      0.0  \n",
       "99993                                      0.0  \n",
       "99994                                      0.0  \n",
       "99995                                      0.0  \n",
       "99996                                      0.0  \n",
       "99997                                      0.0  \n",
       "99998                                      0.0  \n",
       "99999                                      0.0  \n",
       "\n",
       "[15 rows x 1838 columns]"
      ]
     },
     "execution_count": 36,
     "metadata": {},
     "output_type": "execute_result"
    }
   ],
   "source": [
    "datatrainseh.tail(15)"
   ]
  },
  {
   "cell_type": "markdown",
   "metadata": {},
   "source": [
    "En efecto, observamos que se realizó la codificación de nuestro dataset y ya está listo para proceder a realizar la evaluación de multicolinealidad con `Chi-cuadrado`."
   ]
  },
  {
   "cell_type": "markdown",
   "metadata": {},
   "source": [
    "#### Multicolinealidad: Chi-cuadrado"
   ]
  },
  {
   "cell_type": "markdown",
   "metadata": {},
   "source": [
    "En este apartado, nuestro objetivo es identificar cuáles columnas tienen un alto nivel de correlación entre sí para eliminar algunas de ellas.\n",
    "\n",
    "Para esto, podemos usar la prueba `Chi-cuadrado` con la función `chi2_contingency()`, que nos ayuda a evaluar la relación entre variables categróricas y, posteriormente, eliminar columnas de manera manual. Sin embargo, en las aplicaciones de Machine Learning, existe un método llamado `SelectKBest`, el cual realiza ambos procesos en una misma función. Utilizando este método basándose en `chi2`, podemos seleccionar las características más relevantes (variables más asociadas y que mejor predicen a la objetivo) y eliminar automáticamente las menos importantes en la base de datos para realizar un mejor modelo."
   ]
  },
  {
   "cell_type": "markdown",
   "metadata": {},
   "source": [
    "Lo primero que haremos será eliminar la columna `molecule_smiles` de nuestro conjunto de datos. Como se mencionó anteriormente, esta columna no se codificó ya que no es relevante para nuestro estudio, porque solo representa un identificador único para cada molécula, es decir, el nombre de estas."
   ]
  },
  {
   "cell_type": "code",
   "execution_count": 16,
   "metadata": {},
   "outputs": [],
   "source": [
    "datatrainseh = datatrainseh.drop(columns=['molecule_smiles'])"
   ]
  },
  {
   "cell_type": "code",
   "execution_count": 12,
   "metadata": {},
   "outputs": [
    {
     "data": {
      "text/html": [
       "<div>\n",
       "<style scoped>\n",
       "    .dataframe tbody tr th:only-of-type {\n",
       "        vertical-align: middle;\n",
       "    }\n",
       "\n",
       "    .dataframe tbody tr th {\n",
       "        vertical-align: top;\n",
       "    }\n",
       "\n",
       "    .dataframe thead th {\n",
       "        text-align: right;\n",
       "    }\n",
       "</style>\n",
       "<table border=\"1\" class=\"dataframe\">\n",
       "  <thead>\n",
       "    <tr style=\"text-align: right;\">\n",
       "      <th></th>\n",
       "      <th>index</th>\n",
       "      <th>id</th>\n",
       "      <th>binds</th>\n",
       "      <th>protein_name_sEH</th>\n",
       "      <th>buildingblock1_smiles_C#CC[C@@H](CC(=O)O)NC(=O)OCC1c2ccccc2-c2ccccc21</th>\n",
       "      <th>buildingblock1_smiles_C#CC[C@@H](NC(=O)OCC1c2ccccc2-c2ccccc21)C(=O)O</th>\n",
       "      <th>buildingblock1_smiles_C#CC[C@@](C)(NC(=O)OCC1c2ccccc2-c2ccccc21)C(=O)O</th>\n",
       "      <th>buildingblock1_smiles_C#CC[C@H](CC(=O)O)NC(=O)OCC1c2ccccc2-c2ccccc21</th>\n",
       "      <th>buildingblock1_smiles_C#CC[C@H](NC(=O)OCC1c2ccccc2-c2ccccc21)C(=O)O</th>\n",
       "      <th>buildingblock1_smiles_C=CCC(CC=C)(NC(=O)OCC1c2ccccc2-c2ccccc21)C(=O)O</th>\n",
       "      <th>...</th>\n",
       "      <th>buildingblock3_smiles_Nc1ncnc(=O)[nH]1</th>\n",
       "      <th>buildingblock3_smiles_Nc1ncnc(Cl)c1Cl</th>\n",
       "      <th>buildingblock3_smiles_Nc1ncnc2[nH]cnc12</th>\n",
       "      <th>buildingblock3_smiles_Nc1ncnc2[nH]ncc12</th>\n",
       "      <th>buildingblock3_smiles_Nc1ncnc2c1ncn2C1CCCCO1</th>\n",
       "      <th>buildingblock3_smiles_Nc1ncncc1Br</th>\n",
       "      <th>buildingblock3_smiles_Nc1nnc(S)s1</th>\n",
       "      <th>buildingblock3_smiles_Nc1nncs1</th>\n",
       "      <th>buildingblock3_smiles_Nc1nnn[nH]1</th>\n",
       "      <th>buildingblock3_smiles_Nc1noc2ccc(F)cc12</th>\n",
       "    </tr>\n",
       "  </thead>\n",
       "  <tbody>\n",
       "    <tr>\n",
       "      <th>0</th>\n",
       "      <td>268370342</td>\n",
       "      <td>268370342</td>\n",
       "      <td>0</td>\n",
       "      <td>1.0</td>\n",
       "      <td>0.0</td>\n",
       "      <td>0.0</td>\n",
       "      <td>0.0</td>\n",
       "      <td>0.0</td>\n",
       "      <td>0.0</td>\n",
       "      <td>0.0</td>\n",
       "      <td>...</td>\n",
       "      <td>0.0</td>\n",
       "      <td>0.0</td>\n",
       "      <td>0.0</td>\n",
       "      <td>0.0</td>\n",
       "      <td>0.0</td>\n",
       "      <td>0.0</td>\n",
       "      <td>0.0</td>\n",
       "      <td>0.0</td>\n",
       "      <td>0.0</td>\n",
       "      <td>0.0</td>\n",
       "    </tr>\n",
       "    <tr>\n",
       "      <th>1</th>\n",
       "      <td>10026182</td>\n",
       "      <td>10026182</td>\n",
       "      <td>0</td>\n",
       "      <td>1.0</td>\n",
       "      <td>0.0</td>\n",
       "      <td>0.0</td>\n",
       "      <td>0.0</td>\n",
       "      <td>0.0</td>\n",
       "      <td>0.0</td>\n",
       "      <td>0.0</td>\n",
       "      <td>...</td>\n",
       "      <td>0.0</td>\n",
       "      <td>0.0</td>\n",
       "      <td>0.0</td>\n",
       "      <td>0.0</td>\n",
       "      <td>0.0</td>\n",
       "      <td>0.0</td>\n",
       "      <td>0.0</td>\n",
       "      <td>0.0</td>\n",
       "      <td>0.0</td>\n",
       "      <td>0.0</td>\n",
       "    </tr>\n",
       "    <tr>\n",
       "      <th>2</th>\n",
       "      <td>23512220</td>\n",
       "      <td>23512220</td>\n",
       "      <td>0</td>\n",
       "      <td>1.0</td>\n",
       "      <td>0.0</td>\n",
       "      <td>0.0</td>\n",
       "      <td>0.0</td>\n",
       "      <td>0.0</td>\n",
       "      <td>0.0</td>\n",
       "      <td>0.0</td>\n",
       "      <td>...</td>\n",
       "      <td>0.0</td>\n",
       "      <td>0.0</td>\n",
       "      <td>0.0</td>\n",
       "      <td>0.0</td>\n",
       "      <td>0.0</td>\n",
       "      <td>0.0</td>\n",
       "      <td>0.0</td>\n",
       "      <td>0.0</td>\n",
       "      <td>0.0</td>\n",
       "      <td>0.0</td>\n",
       "    </tr>\n",
       "    <tr>\n",
       "      <th>3</th>\n",
       "      <td>61878314</td>\n",
       "      <td>61878314</td>\n",
       "      <td>0</td>\n",
       "      <td>1.0</td>\n",
       "      <td>0.0</td>\n",
       "      <td>0.0</td>\n",
       "      <td>0.0</td>\n",
       "      <td>0.0</td>\n",
       "      <td>0.0</td>\n",
       "      <td>0.0</td>\n",
       "      <td>...</td>\n",
       "      <td>0.0</td>\n",
       "      <td>0.0</td>\n",
       "      <td>0.0</td>\n",
       "      <td>0.0</td>\n",
       "      <td>0.0</td>\n",
       "      <td>0.0</td>\n",
       "      <td>0.0</td>\n",
       "      <td>0.0</td>\n",
       "      <td>0.0</td>\n",
       "      <td>0.0</td>\n",
       "    </tr>\n",
       "    <tr>\n",
       "      <th>4</th>\n",
       "      <td>253580711</td>\n",
       "      <td>253580711</td>\n",
       "      <td>0</td>\n",
       "      <td>1.0</td>\n",
       "      <td>0.0</td>\n",
       "      <td>0.0</td>\n",
       "      <td>0.0</td>\n",
       "      <td>0.0</td>\n",
       "      <td>0.0</td>\n",
       "      <td>0.0</td>\n",
       "      <td>...</td>\n",
       "      <td>0.0</td>\n",
       "      <td>0.0</td>\n",
       "      <td>0.0</td>\n",
       "      <td>0.0</td>\n",
       "      <td>0.0</td>\n",
       "      <td>0.0</td>\n",
       "      <td>0.0</td>\n",
       "      <td>0.0</td>\n",
       "      <td>0.0</td>\n",
       "      <td>0.0</td>\n",
       "    </tr>\n",
       "  </tbody>\n",
       "</table>\n",
       "<p>5 rows × 1837 columns</p>\n",
       "</div>"
      ],
      "text/plain": [
       "       index         id  binds  protein_name_sEH  \\\n",
       "0  268370342  268370342      0               1.0   \n",
       "1   10026182   10026182      0               1.0   \n",
       "2   23512220   23512220      0               1.0   \n",
       "3   61878314   61878314      0               1.0   \n",
       "4  253580711  253580711      0               1.0   \n",
       "\n",
       "   buildingblock1_smiles_C#CC[C@@H](CC(=O)O)NC(=O)OCC1c2ccccc2-c2ccccc21  \\\n",
       "0                                                0.0                       \n",
       "1                                                0.0                       \n",
       "2                                                0.0                       \n",
       "3                                                0.0                       \n",
       "4                                                0.0                       \n",
       "\n",
       "   buildingblock1_smiles_C#CC[C@@H](NC(=O)OCC1c2ccccc2-c2ccccc21)C(=O)O  \\\n",
       "0                                                0.0                      \n",
       "1                                                0.0                      \n",
       "2                                                0.0                      \n",
       "3                                                0.0                      \n",
       "4                                                0.0                      \n",
       "\n",
       "   buildingblock1_smiles_C#CC[C@@](C)(NC(=O)OCC1c2ccccc2-c2ccccc21)C(=O)O  \\\n",
       "0                                                0.0                        \n",
       "1                                                0.0                        \n",
       "2                                                0.0                        \n",
       "3                                                0.0                        \n",
       "4                                                0.0                        \n",
       "\n",
       "   buildingblock1_smiles_C#CC[C@H](CC(=O)O)NC(=O)OCC1c2ccccc2-c2ccccc21  \\\n",
       "0                                                0.0                      \n",
       "1                                                0.0                      \n",
       "2                                                0.0                      \n",
       "3                                                0.0                      \n",
       "4                                                0.0                      \n",
       "\n",
       "   buildingblock1_smiles_C#CC[C@H](NC(=O)OCC1c2ccccc2-c2ccccc21)C(=O)O  \\\n",
       "0                                                0.0                     \n",
       "1                                                0.0                     \n",
       "2                                                0.0                     \n",
       "3                                                0.0                     \n",
       "4                                                0.0                     \n",
       "\n",
       "   buildingblock1_smiles_C=CCC(CC=C)(NC(=O)OCC1c2ccccc2-c2ccccc21)C(=O)O  ...  \\\n",
       "0                                                0.0                      ...   \n",
       "1                                                0.0                      ...   \n",
       "2                                                0.0                      ...   \n",
       "3                                                0.0                      ...   \n",
       "4                                                0.0                      ...   \n",
       "\n",
       "   buildingblock3_smiles_Nc1ncnc(=O)[nH]1  \\\n",
       "0                                     0.0   \n",
       "1                                     0.0   \n",
       "2                                     0.0   \n",
       "3                                     0.0   \n",
       "4                                     0.0   \n",
       "\n",
       "   buildingblock3_smiles_Nc1ncnc(Cl)c1Cl  \\\n",
       "0                                    0.0   \n",
       "1                                    0.0   \n",
       "2                                    0.0   \n",
       "3                                    0.0   \n",
       "4                                    0.0   \n",
       "\n",
       "   buildingblock3_smiles_Nc1ncnc2[nH]cnc12  \\\n",
       "0                                      0.0   \n",
       "1                                      0.0   \n",
       "2                                      0.0   \n",
       "3                                      0.0   \n",
       "4                                      0.0   \n",
       "\n",
       "   buildingblock3_smiles_Nc1ncnc2[nH]ncc12  \\\n",
       "0                                      0.0   \n",
       "1                                      0.0   \n",
       "2                                      0.0   \n",
       "3                                      0.0   \n",
       "4                                      0.0   \n",
       "\n",
       "   buildingblock3_smiles_Nc1ncnc2c1ncn2C1CCCCO1  \\\n",
       "0                                           0.0   \n",
       "1                                           0.0   \n",
       "2                                           0.0   \n",
       "3                                           0.0   \n",
       "4                                           0.0   \n",
       "\n",
       "   buildingblock3_smiles_Nc1ncncc1Br  buildingblock3_smiles_Nc1nnc(S)s1  \\\n",
       "0                                0.0                                0.0   \n",
       "1                                0.0                                0.0   \n",
       "2                                0.0                                0.0   \n",
       "3                                0.0                                0.0   \n",
       "4                                0.0                                0.0   \n",
       "\n",
       "   buildingblock3_smiles_Nc1nncs1  buildingblock3_smiles_Nc1nnn[nH]1  \\\n",
       "0                             0.0                                0.0   \n",
       "1                             0.0                                0.0   \n",
       "2                             0.0                                0.0   \n",
       "3                             0.0                                0.0   \n",
       "4                             0.0                                0.0   \n",
       "\n",
       "   buildingblock3_smiles_Nc1noc2ccc(F)cc12  \n",
       "0                                      0.0  \n",
       "1                                      0.0  \n",
       "2                                      0.0  \n",
       "3                                      0.0  \n",
       "4                                      0.0  \n",
       "\n",
       "[5 rows x 1837 columns]"
      ]
     },
     "execution_count": 12,
     "metadata": {},
     "output_type": "execute_result"
    }
   ],
   "source": [
    "datatrainseh.head()"
   ]
  },
  {
   "cell_type": "markdown",
   "metadata": {},
   "source": [
    "Ahora, procederemos a realizar la evaluación de multicolinealidad y eliminación de columnas no relevantes."
   ]
  },
  {
   "cell_type": "markdown",
   "metadata": {},
   "source": [
    "Nuestro criterio de evaluación para la relevancia de las variables se basa en seleccionar las 150 características que muestran una fuerte asociación con nuestra variable objetivo basado en los resultados arrojados por la función `SelectKBest` y la prueba `chi2`."
   ]
  },
  {
   "cell_type": "code",
   "execution_count": 18,
   "metadata": {},
   "outputs": [],
   "source": [
    "unionseh = datatrainseh['binds']\n",
    "\n",
    "bestseh = SelectKBest(score_func = chi2, k = 150)  \n",
    "X_seh = bestseh.fit_transform(datatrainseh, unionseh)\n",
    "\n",
    "caracselec_seh = bestseh.get_support(indices=True) \n",
    "colineal_seh = datatrainseh.iloc[:, caracselec_seh]"
   ]
  },
  {
   "cell_type": "code",
   "execution_count": 16,
   "metadata": {},
   "outputs": [
    {
     "data": {
      "text/html": [
       "<div>\n",
       "<style scoped>\n",
       "    .dataframe tbody tr th:only-of-type {\n",
       "        vertical-align: middle;\n",
       "    }\n",
       "\n",
       "    .dataframe tbody tr th {\n",
       "        vertical-align: top;\n",
       "    }\n",
       "\n",
       "    .dataframe thead th {\n",
       "        text-align: right;\n",
       "    }\n",
       "</style>\n",
       "<table border=\"1\" class=\"dataframe\">\n",
       "  <thead>\n",
       "    <tr style=\"text-align: right;\">\n",
       "      <th></th>\n",
       "      <th>index</th>\n",
       "      <th>id</th>\n",
       "      <th>binds</th>\n",
       "      <th>buildingblock1_smiles_C#CC[C@@](C)(NC(=O)OCC1c2ccccc2-c2ccccc21)C(=O)O</th>\n",
       "      <th>buildingblock1_smiles_C=CC[C@@H](NC(=O)OCC1c2ccccc2-c2ccccc21)C(=O)O</th>\n",
       "      <th>buildingblock1_smiles_CC(C)CC(NC(=O)OCC1c2ccccc2-c2ccccc21)C(=O)O</th>\n",
       "      <th>buildingblock1_smiles_COc1cc(C(=O)O)c(N)cc1NC(=O)OCC1c2ccccc2-c2ccccc21</th>\n",
       "      <th>buildingblock1_smiles_Cc1cc(Br)c(C(=O)O)cc1NC(=O)OCC1c2ccccc2-c2ccccc21</th>\n",
       "      <th>buildingblock1_smiles_O=C(NCC1CCC(C(=O)O)CC1)OCC1c2ccccc2-c2ccccc21</th>\n",
       "      <th>buildingblock1_smiles_O=C(NC[C@H]1CC[C@H](C(=O)O)CC1)OCC1c2ccccc2-c2ccccc21</th>\n",
       "      <th>...</th>\n",
       "      <th>buildingblock3_smiles_Nc1cc(Cl)c([N+](=O)[O-])cn1</th>\n",
       "      <th>buildingblock3_smiles_Nc1ccc(Cl)nc1</th>\n",
       "      <th>buildingblock3_smiles_Nc1ccc(Cl)nc1Cl</th>\n",
       "      <th>buildingblock3_smiles_Nc1ccc(F)c([N+](=O)[O-])c1</th>\n",
       "      <th>buildingblock3_smiles_Nc1ccc(N2CCC=C(N3CCOCC3)C2=O)cc1</th>\n",
       "      <th>buildingblock3_smiles_Nc1ccc(OC(F)F)cc1</th>\n",
       "      <th>buildingblock3_smiles_Nc1ccc2ncoc2c1</th>\n",
       "      <th>buildingblock3_smiles_Nc1nc(-c2ccc(Cl)c(Cl)c2)cs1</th>\n",
       "      <th>buildingblock3_smiles_Nc1ncc(Cl)cc1F</th>\n",
       "      <th>buildingblock3_smiles_Nc1nncs1</th>\n",
       "    </tr>\n",
       "  </thead>\n",
       "  <tbody>\n",
       "    <tr>\n",
       "      <th>0</th>\n",
       "      <td>268370342</td>\n",
       "      <td>268370342</td>\n",
       "      <td>0</td>\n",
       "      <td>0.0</td>\n",
       "      <td>0.0</td>\n",
       "      <td>0.0</td>\n",
       "      <td>0.0</td>\n",
       "      <td>0.0</td>\n",
       "      <td>0.0</td>\n",
       "      <td>0.0</td>\n",
       "      <td>...</td>\n",
       "      <td>0.0</td>\n",
       "      <td>0.0</td>\n",
       "      <td>0.0</td>\n",
       "      <td>0.0</td>\n",
       "      <td>0.0</td>\n",
       "      <td>0.0</td>\n",
       "      <td>0.0</td>\n",
       "      <td>0.0</td>\n",
       "      <td>0.0</td>\n",
       "      <td>0.0</td>\n",
       "    </tr>\n",
       "    <tr>\n",
       "      <th>1</th>\n",
       "      <td>10026182</td>\n",
       "      <td>10026182</td>\n",
       "      <td>0</td>\n",
       "      <td>0.0</td>\n",
       "      <td>0.0</td>\n",
       "      <td>0.0</td>\n",
       "      <td>0.0</td>\n",
       "      <td>0.0</td>\n",
       "      <td>0.0</td>\n",
       "      <td>0.0</td>\n",
       "      <td>...</td>\n",
       "      <td>0.0</td>\n",
       "      <td>0.0</td>\n",
       "      <td>0.0</td>\n",
       "      <td>0.0</td>\n",
       "      <td>0.0</td>\n",
       "      <td>0.0</td>\n",
       "      <td>0.0</td>\n",
       "      <td>0.0</td>\n",
       "      <td>0.0</td>\n",
       "      <td>0.0</td>\n",
       "    </tr>\n",
       "    <tr>\n",
       "      <th>2</th>\n",
       "      <td>23512220</td>\n",
       "      <td>23512220</td>\n",
       "      <td>0</td>\n",
       "      <td>0.0</td>\n",
       "      <td>0.0</td>\n",
       "      <td>0.0</td>\n",
       "      <td>0.0</td>\n",
       "      <td>0.0</td>\n",
       "      <td>0.0</td>\n",
       "      <td>0.0</td>\n",
       "      <td>...</td>\n",
       "      <td>0.0</td>\n",
       "      <td>0.0</td>\n",
       "      <td>0.0</td>\n",
       "      <td>0.0</td>\n",
       "      <td>0.0</td>\n",
       "      <td>0.0</td>\n",
       "      <td>0.0</td>\n",
       "      <td>0.0</td>\n",
       "      <td>0.0</td>\n",
       "      <td>0.0</td>\n",
       "    </tr>\n",
       "    <tr>\n",
       "      <th>3</th>\n",
       "      <td>61878314</td>\n",
       "      <td>61878314</td>\n",
       "      <td>0</td>\n",
       "      <td>0.0</td>\n",
       "      <td>0.0</td>\n",
       "      <td>0.0</td>\n",
       "      <td>0.0</td>\n",
       "      <td>0.0</td>\n",
       "      <td>0.0</td>\n",
       "      <td>0.0</td>\n",
       "      <td>...</td>\n",
       "      <td>0.0</td>\n",
       "      <td>0.0</td>\n",
       "      <td>0.0</td>\n",
       "      <td>0.0</td>\n",
       "      <td>0.0</td>\n",
       "      <td>0.0</td>\n",
       "      <td>0.0</td>\n",
       "      <td>0.0</td>\n",
       "      <td>0.0</td>\n",
       "      <td>0.0</td>\n",
       "    </tr>\n",
       "    <tr>\n",
       "      <th>4</th>\n",
       "      <td>253580711</td>\n",
       "      <td>253580711</td>\n",
       "      <td>0</td>\n",
       "      <td>0.0</td>\n",
       "      <td>0.0</td>\n",
       "      <td>0.0</td>\n",
       "      <td>0.0</td>\n",
       "      <td>0.0</td>\n",
       "      <td>0.0</td>\n",
       "      <td>0.0</td>\n",
       "      <td>...</td>\n",
       "      <td>0.0</td>\n",
       "      <td>0.0</td>\n",
       "      <td>0.0</td>\n",
       "      <td>0.0</td>\n",
       "      <td>0.0</td>\n",
       "      <td>0.0</td>\n",
       "      <td>0.0</td>\n",
       "      <td>0.0</td>\n",
       "      <td>0.0</td>\n",
       "      <td>0.0</td>\n",
       "    </tr>\n",
       "  </tbody>\n",
       "</table>\n",
       "<p>5 rows × 150 columns</p>\n",
       "</div>"
      ],
      "text/plain": [
       "       index         id  binds  \\\n",
       "0  268370342  268370342      0   \n",
       "1   10026182   10026182      0   \n",
       "2   23512220   23512220      0   \n",
       "3   61878314   61878314      0   \n",
       "4  253580711  253580711      0   \n",
       "\n",
       "   buildingblock1_smiles_C#CC[C@@](C)(NC(=O)OCC1c2ccccc2-c2ccccc21)C(=O)O  \\\n",
       "0                                                0.0                        \n",
       "1                                                0.0                        \n",
       "2                                                0.0                        \n",
       "3                                                0.0                        \n",
       "4                                                0.0                        \n",
       "\n",
       "   buildingblock1_smiles_C=CC[C@@H](NC(=O)OCC1c2ccccc2-c2ccccc21)C(=O)O  \\\n",
       "0                                                0.0                      \n",
       "1                                                0.0                      \n",
       "2                                                0.0                      \n",
       "3                                                0.0                      \n",
       "4                                                0.0                      \n",
       "\n",
       "   buildingblock1_smiles_CC(C)CC(NC(=O)OCC1c2ccccc2-c2ccccc21)C(=O)O  \\\n",
       "0                                                0.0                   \n",
       "1                                                0.0                   \n",
       "2                                                0.0                   \n",
       "3                                                0.0                   \n",
       "4                                                0.0                   \n",
       "\n",
       "   buildingblock1_smiles_COc1cc(C(=O)O)c(N)cc1NC(=O)OCC1c2ccccc2-c2ccccc21  \\\n",
       "0                                                0.0                         \n",
       "1                                                0.0                         \n",
       "2                                                0.0                         \n",
       "3                                                0.0                         \n",
       "4                                                0.0                         \n",
       "\n",
       "   buildingblock1_smiles_Cc1cc(Br)c(C(=O)O)cc1NC(=O)OCC1c2ccccc2-c2ccccc21  \\\n",
       "0                                                0.0                         \n",
       "1                                                0.0                         \n",
       "2                                                0.0                         \n",
       "3                                                0.0                         \n",
       "4                                                0.0                         \n",
       "\n",
       "   buildingblock1_smiles_O=C(NCC1CCC(C(=O)O)CC1)OCC1c2ccccc2-c2ccccc21  \\\n",
       "0                                                0.0                     \n",
       "1                                                0.0                     \n",
       "2                                                0.0                     \n",
       "3                                                0.0                     \n",
       "4                                                0.0                     \n",
       "\n",
       "   buildingblock1_smiles_O=C(NC[C@H]1CC[C@H](C(=O)O)CC1)OCC1c2ccccc2-c2ccccc21  \\\n",
       "0                                                0.0                             \n",
       "1                                                0.0                             \n",
       "2                                                0.0                             \n",
       "3                                                0.0                             \n",
       "4                                                0.0                             \n",
       "\n",
       "   ...  buildingblock3_smiles_Nc1cc(Cl)c([N+](=O)[O-])cn1  \\\n",
       "0  ...                                                0.0   \n",
       "1  ...                                                0.0   \n",
       "2  ...                                                0.0   \n",
       "3  ...                                                0.0   \n",
       "4  ...                                                0.0   \n",
       "\n",
       "   buildingblock3_smiles_Nc1ccc(Cl)nc1  buildingblock3_smiles_Nc1ccc(Cl)nc1Cl  \\\n",
       "0                                  0.0                                    0.0   \n",
       "1                                  0.0                                    0.0   \n",
       "2                                  0.0                                    0.0   \n",
       "3                                  0.0                                    0.0   \n",
       "4                                  0.0                                    0.0   \n",
       "\n",
       "   buildingblock3_smiles_Nc1ccc(F)c([N+](=O)[O-])c1  \\\n",
       "0                                               0.0   \n",
       "1                                               0.0   \n",
       "2                                               0.0   \n",
       "3                                               0.0   \n",
       "4                                               0.0   \n",
       "\n",
       "   buildingblock3_smiles_Nc1ccc(N2CCC=C(N3CCOCC3)C2=O)cc1  \\\n",
       "0                                                0.0        \n",
       "1                                                0.0        \n",
       "2                                                0.0        \n",
       "3                                                0.0        \n",
       "4                                                0.0        \n",
       "\n",
       "   buildingblock3_smiles_Nc1ccc(OC(F)F)cc1  \\\n",
       "0                                      0.0   \n",
       "1                                      0.0   \n",
       "2                                      0.0   \n",
       "3                                      0.0   \n",
       "4                                      0.0   \n",
       "\n",
       "   buildingblock3_smiles_Nc1ccc2ncoc2c1  \\\n",
       "0                                   0.0   \n",
       "1                                   0.0   \n",
       "2                                   0.0   \n",
       "3                                   0.0   \n",
       "4                                   0.0   \n",
       "\n",
       "   buildingblock3_smiles_Nc1nc(-c2ccc(Cl)c(Cl)c2)cs1  \\\n",
       "0                                                0.0   \n",
       "1                                                0.0   \n",
       "2                                                0.0   \n",
       "3                                                0.0   \n",
       "4                                                0.0   \n",
       "\n",
       "   buildingblock3_smiles_Nc1ncc(Cl)cc1F  buildingblock3_smiles_Nc1nncs1  \n",
       "0                                   0.0                             0.0  \n",
       "1                                   0.0                             0.0  \n",
       "2                                   0.0                             0.0  \n",
       "3                                   0.0                             0.0  \n",
       "4                                   0.0                             0.0  \n",
       "\n",
       "[5 rows x 150 columns]"
      ]
     },
     "execution_count": 16,
     "metadata": {},
     "output_type": "execute_result"
    }
   ],
   "source": [
    "colineal_seh.head()"
   ]
  },
  {
   "cell_type": "markdown",
   "metadata": {},
   "source": [
    "Finalmente nos quedaremos con `colineal_seh` como base de datos de entrenamiento para la realización del modelo."
   ]
  },
  {
   "cell_type": "code",
   "execution_count": 19,
   "metadata": {},
   "outputs": [],
   "source": [
    "colineal_seh.to_csv('datatrainsEH.csv', index=False)"
   ]
  },
  {
   "cell_type": "markdown",
   "metadata": {},
   "source": [
    "### Filtración: proteína BRD4"
   ]
  },
  {
   "cell_type": "code",
   "execution_count": 4,
   "metadata": {},
   "outputs": [],
   "source": [
    "datatrain_BRD4,_= train_test_split(data_BRD4, train_size = 100000,  stratify = data_BRD4['binds'], random_state=21)"
   ]
  },
  {
   "cell_type": "code",
   "execution_count": 7,
   "metadata": {},
   "outputs": [
    {
     "data": {
      "text/plain": [
       "(100000, 7)"
      ]
     },
     "execution_count": 7,
     "metadata": {},
     "output_type": "execute_result"
    }
   ],
   "source": [
    "datatrain_BRD4.shape    "
   ]
  },
  {
   "cell_type": "markdown",
   "metadata": {},
   "source": [
    "Calculemos el total de valores únicos por variable y la distribución de `binds`."
   ]
  },
  {
   "cell_type": "code",
   "execution_count": 7,
   "metadata": {},
   "outputs": [
    {
     "data": {
      "text/plain": [
       "271"
      ]
     },
     "execution_count": 7,
     "metadata": {},
     "output_type": "execute_result"
    }
   ],
   "source": [
    "bloque1_BRD4 = data_BRD4['buildingblock1_smiles'].nunique()\n",
    "bloque1_BRD4"
   ]
  },
  {
   "cell_type": "code",
   "execution_count": 8,
   "metadata": {},
   "outputs": [
    {
     "data": {
      "text/plain": [
       "693"
      ]
     },
     "execution_count": 8,
     "metadata": {},
     "output_type": "execute_result"
    }
   ],
   "source": [
    "bloque2_BRD4 = data_BRD4['buildingblock2_smiles'].nunique()\n",
    "bloque2_BRD4"
   ]
  },
  {
   "cell_type": "code",
   "execution_count": 9,
   "metadata": {},
   "outputs": [
    {
     "data": {
      "text/plain": [
       "872"
      ]
     },
     "execution_count": 9,
     "metadata": {},
     "output_type": "execute_result"
    }
   ],
   "source": [
    "bloque3_BRD4 = data_BRD4['buildingblock3_smiles'].nunique()\n",
    "bloque3_BRD4"
   ]
  },
  {
   "cell_type": "code",
   "execution_count": 5,
   "metadata": {},
   "outputs": [
    {
     "data": {
      "text/plain": [
       "98415610"
      ]
     },
     "execution_count": 5,
     "metadata": {},
     "output_type": "execute_result"
    }
   ],
   "source": [
    "moleculas_BRD4 = data_BRD4['molecule_smiles'].nunique()\n",
    "moleculas_BRD4"
   ]
  },
  {
   "cell_type": "code",
   "execution_count": 10,
   "metadata": {},
   "outputs": [
    {
     "data": {
      "application/vnd.plotly.v1+json": {
       "config": {
        "plotlyServerURL": "https://plot.ly"
       },
       "data": [
        {
         "cells": {
          "values": [
           [
            271
           ],
           [
            693
           ],
           [
            872
           ],
           [
            98415610
           ]
          ]
         },
         "header": {
          "values": [
           "buildingblock1_smiles",
           "buildingblock2_smiles",
           "buildingblock3_smiles",
           "molecule_smiles"
          ]
         },
         "type": "table"
        }
       ],
       "layout": {
        "template": {
         "data": {
          "bar": [
           {
            "error_x": {
             "color": "#2a3f5f"
            },
            "error_y": {
             "color": "#2a3f5f"
            },
            "marker": {
             "line": {
              "color": "#E5ECF6",
              "width": 0.5
             },
             "pattern": {
              "fillmode": "overlay",
              "size": 10,
              "solidity": 0.2
             }
            },
            "type": "bar"
           }
          ],
          "barpolar": [
           {
            "marker": {
             "line": {
              "color": "#E5ECF6",
              "width": 0.5
             },
             "pattern": {
              "fillmode": "overlay",
              "size": 10,
              "solidity": 0.2
             }
            },
            "type": "barpolar"
           }
          ],
          "carpet": [
           {
            "aaxis": {
             "endlinecolor": "#2a3f5f",
             "gridcolor": "white",
             "linecolor": "white",
             "minorgridcolor": "white",
             "startlinecolor": "#2a3f5f"
            },
            "baxis": {
             "endlinecolor": "#2a3f5f",
             "gridcolor": "white",
             "linecolor": "white",
             "minorgridcolor": "white",
             "startlinecolor": "#2a3f5f"
            },
            "type": "carpet"
           }
          ],
          "choropleth": [
           {
            "colorbar": {
             "outlinewidth": 0,
             "ticks": ""
            },
            "type": "choropleth"
           }
          ],
          "contour": [
           {
            "colorbar": {
             "outlinewidth": 0,
             "ticks": ""
            },
            "colorscale": [
             [
              0,
              "#0d0887"
             ],
             [
              0.1111111111111111,
              "#46039f"
             ],
             [
              0.2222222222222222,
              "#7201a8"
             ],
             [
              0.3333333333333333,
              "#9c179e"
             ],
             [
              0.4444444444444444,
              "#bd3786"
             ],
             [
              0.5555555555555556,
              "#d8576b"
             ],
             [
              0.6666666666666666,
              "#ed7953"
             ],
             [
              0.7777777777777778,
              "#fb9f3a"
             ],
             [
              0.8888888888888888,
              "#fdca26"
             ],
             [
              1,
              "#f0f921"
             ]
            ],
            "type": "contour"
           }
          ],
          "contourcarpet": [
           {
            "colorbar": {
             "outlinewidth": 0,
             "ticks": ""
            },
            "type": "contourcarpet"
           }
          ],
          "heatmap": [
           {
            "colorbar": {
             "outlinewidth": 0,
             "ticks": ""
            },
            "colorscale": [
             [
              0,
              "#0d0887"
             ],
             [
              0.1111111111111111,
              "#46039f"
             ],
             [
              0.2222222222222222,
              "#7201a8"
             ],
             [
              0.3333333333333333,
              "#9c179e"
             ],
             [
              0.4444444444444444,
              "#bd3786"
             ],
             [
              0.5555555555555556,
              "#d8576b"
             ],
             [
              0.6666666666666666,
              "#ed7953"
             ],
             [
              0.7777777777777778,
              "#fb9f3a"
             ],
             [
              0.8888888888888888,
              "#fdca26"
             ],
             [
              1,
              "#f0f921"
             ]
            ],
            "type": "heatmap"
           }
          ],
          "heatmapgl": [
           {
            "colorbar": {
             "outlinewidth": 0,
             "ticks": ""
            },
            "colorscale": [
             [
              0,
              "#0d0887"
             ],
             [
              0.1111111111111111,
              "#46039f"
             ],
             [
              0.2222222222222222,
              "#7201a8"
             ],
             [
              0.3333333333333333,
              "#9c179e"
             ],
             [
              0.4444444444444444,
              "#bd3786"
             ],
             [
              0.5555555555555556,
              "#d8576b"
             ],
             [
              0.6666666666666666,
              "#ed7953"
             ],
             [
              0.7777777777777778,
              "#fb9f3a"
             ],
             [
              0.8888888888888888,
              "#fdca26"
             ],
             [
              1,
              "#f0f921"
             ]
            ],
            "type": "heatmapgl"
           }
          ],
          "histogram": [
           {
            "marker": {
             "pattern": {
              "fillmode": "overlay",
              "size": 10,
              "solidity": 0.2
             }
            },
            "type": "histogram"
           }
          ],
          "histogram2d": [
           {
            "colorbar": {
             "outlinewidth": 0,
             "ticks": ""
            },
            "colorscale": [
             [
              0,
              "#0d0887"
             ],
             [
              0.1111111111111111,
              "#46039f"
             ],
             [
              0.2222222222222222,
              "#7201a8"
             ],
             [
              0.3333333333333333,
              "#9c179e"
             ],
             [
              0.4444444444444444,
              "#bd3786"
             ],
             [
              0.5555555555555556,
              "#d8576b"
             ],
             [
              0.6666666666666666,
              "#ed7953"
             ],
             [
              0.7777777777777778,
              "#fb9f3a"
             ],
             [
              0.8888888888888888,
              "#fdca26"
             ],
             [
              1,
              "#f0f921"
             ]
            ],
            "type": "histogram2d"
           }
          ],
          "histogram2dcontour": [
           {
            "colorbar": {
             "outlinewidth": 0,
             "ticks": ""
            },
            "colorscale": [
             [
              0,
              "#0d0887"
             ],
             [
              0.1111111111111111,
              "#46039f"
             ],
             [
              0.2222222222222222,
              "#7201a8"
             ],
             [
              0.3333333333333333,
              "#9c179e"
             ],
             [
              0.4444444444444444,
              "#bd3786"
             ],
             [
              0.5555555555555556,
              "#d8576b"
             ],
             [
              0.6666666666666666,
              "#ed7953"
             ],
             [
              0.7777777777777778,
              "#fb9f3a"
             ],
             [
              0.8888888888888888,
              "#fdca26"
             ],
             [
              1,
              "#f0f921"
             ]
            ],
            "type": "histogram2dcontour"
           }
          ],
          "mesh3d": [
           {
            "colorbar": {
             "outlinewidth": 0,
             "ticks": ""
            },
            "type": "mesh3d"
           }
          ],
          "parcoords": [
           {
            "line": {
             "colorbar": {
              "outlinewidth": 0,
              "ticks": ""
             }
            },
            "type": "parcoords"
           }
          ],
          "pie": [
           {
            "automargin": true,
            "type": "pie"
           }
          ],
          "scatter": [
           {
            "fillpattern": {
             "fillmode": "overlay",
             "size": 10,
             "solidity": 0.2
            },
            "type": "scatter"
           }
          ],
          "scatter3d": [
           {
            "line": {
             "colorbar": {
              "outlinewidth": 0,
              "ticks": ""
             }
            },
            "marker": {
             "colorbar": {
              "outlinewidth": 0,
              "ticks": ""
             }
            },
            "type": "scatter3d"
           }
          ],
          "scattercarpet": [
           {
            "marker": {
             "colorbar": {
              "outlinewidth": 0,
              "ticks": ""
             }
            },
            "type": "scattercarpet"
           }
          ],
          "scattergeo": [
           {
            "marker": {
             "colorbar": {
              "outlinewidth": 0,
              "ticks": ""
             }
            },
            "type": "scattergeo"
           }
          ],
          "scattergl": [
           {
            "marker": {
             "colorbar": {
              "outlinewidth": 0,
              "ticks": ""
             }
            },
            "type": "scattergl"
           }
          ],
          "scattermapbox": [
           {
            "marker": {
             "colorbar": {
              "outlinewidth": 0,
              "ticks": ""
             }
            },
            "type": "scattermapbox"
           }
          ],
          "scatterpolar": [
           {
            "marker": {
             "colorbar": {
              "outlinewidth": 0,
              "ticks": ""
             }
            },
            "type": "scatterpolar"
           }
          ],
          "scatterpolargl": [
           {
            "marker": {
             "colorbar": {
              "outlinewidth": 0,
              "ticks": ""
             }
            },
            "type": "scatterpolargl"
           }
          ],
          "scatterternary": [
           {
            "marker": {
             "colorbar": {
              "outlinewidth": 0,
              "ticks": ""
             }
            },
            "type": "scatterternary"
           }
          ],
          "surface": [
           {
            "colorbar": {
             "outlinewidth": 0,
             "ticks": ""
            },
            "colorscale": [
             [
              0,
              "#0d0887"
             ],
             [
              0.1111111111111111,
              "#46039f"
             ],
             [
              0.2222222222222222,
              "#7201a8"
             ],
             [
              0.3333333333333333,
              "#9c179e"
             ],
             [
              0.4444444444444444,
              "#bd3786"
             ],
             [
              0.5555555555555556,
              "#d8576b"
             ],
             [
              0.6666666666666666,
              "#ed7953"
             ],
             [
              0.7777777777777778,
              "#fb9f3a"
             ],
             [
              0.8888888888888888,
              "#fdca26"
             ],
             [
              1,
              "#f0f921"
             ]
            ],
            "type": "surface"
           }
          ],
          "table": [
           {
            "cells": {
             "fill": {
              "color": "#EBF0F8"
             },
             "line": {
              "color": "white"
             }
            },
            "header": {
             "fill": {
              "color": "#C8D4E3"
             },
             "line": {
              "color": "white"
             }
            },
            "type": "table"
           }
          ]
         },
         "layout": {
          "annotationdefaults": {
           "arrowcolor": "#2a3f5f",
           "arrowhead": 0,
           "arrowwidth": 1
          },
          "autotypenumbers": "strict",
          "coloraxis": {
           "colorbar": {
            "outlinewidth": 0,
            "ticks": ""
           }
          },
          "colorscale": {
           "diverging": [
            [
             0,
             "#8e0152"
            ],
            [
             0.1,
             "#c51b7d"
            ],
            [
             0.2,
             "#de77ae"
            ],
            [
             0.3,
             "#f1b6da"
            ],
            [
             0.4,
             "#fde0ef"
            ],
            [
             0.5,
             "#f7f7f7"
            ],
            [
             0.6,
             "#e6f5d0"
            ],
            [
             0.7,
             "#b8e186"
            ],
            [
             0.8,
             "#7fbc41"
            ],
            [
             0.9,
             "#4d9221"
            ],
            [
             1,
             "#276419"
            ]
           ],
           "sequential": [
            [
             0,
             "#0d0887"
            ],
            [
             0.1111111111111111,
             "#46039f"
            ],
            [
             0.2222222222222222,
             "#7201a8"
            ],
            [
             0.3333333333333333,
             "#9c179e"
            ],
            [
             0.4444444444444444,
             "#bd3786"
            ],
            [
             0.5555555555555556,
             "#d8576b"
            ],
            [
             0.6666666666666666,
             "#ed7953"
            ],
            [
             0.7777777777777778,
             "#fb9f3a"
            ],
            [
             0.8888888888888888,
             "#fdca26"
            ],
            [
             1,
             "#f0f921"
            ]
           ],
           "sequentialminus": [
            [
             0,
             "#0d0887"
            ],
            [
             0.1111111111111111,
             "#46039f"
            ],
            [
             0.2222222222222222,
             "#7201a8"
            ],
            [
             0.3333333333333333,
             "#9c179e"
            ],
            [
             0.4444444444444444,
             "#bd3786"
            ],
            [
             0.5555555555555556,
             "#d8576b"
            ],
            [
             0.6666666666666666,
             "#ed7953"
            ],
            [
             0.7777777777777778,
             "#fb9f3a"
            ],
            [
             0.8888888888888888,
             "#fdca26"
            ],
            [
             1,
             "#f0f921"
            ]
           ]
          },
          "colorway": [
           "#636efa",
           "#EF553B",
           "#00cc96",
           "#ab63fa",
           "#FFA15A",
           "#19d3f3",
           "#FF6692",
           "#B6E880",
           "#FF97FF",
           "#FECB52"
          ],
          "font": {
           "color": "#2a3f5f"
          },
          "geo": {
           "bgcolor": "white",
           "lakecolor": "white",
           "landcolor": "#E5ECF6",
           "showlakes": true,
           "showland": true,
           "subunitcolor": "white"
          },
          "hoverlabel": {
           "align": "left"
          },
          "hovermode": "closest",
          "mapbox": {
           "style": "light"
          },
          "paper_bgcolor": "white",
          "plot_bgcolor": "#E5ECF6",
          "polar": {
           "angularaxis": {
            "gridcolor": "white",
            "linecolor": "white",
            "ticks": ""
           },
           "bgcolor": "#E5ECF6",
           "radialaxis": {
            "gridcolor": "white",
            "linecolor": "white",
            "ticks": ""
           }
          },
          "scene": {
           "xaxis": {
            "backgroundcolor": "#E5ECF6",
            "gridcolor": "white",
            "gridwidth": 2,
            "linecolor": "white",
            "showbackground": true,
            "ticks": "",
            "zerolinecolor": "white"
           },
           "yaxis": {
            "backgroundcolor": "#E5ECF6",
            "gridcolor": "white",
            "gridwidth": 2,
            "linecolor": "white",
            "showbackground": true,
            "ticks": "",
            "zerolinecolor": "white"
           },
           "zaxis": {
            "backgroundcolor": "#E5ECF6",
            "gridcolor": "white",
            "gridwidth": 2,
            "linecolor": "white",
            "showbackground": true,
            "ticks": "",
            "zerolinecolor": "white"
           }
          },
          "shapedefaults": {
           "line": {
            "color": "#2a3f5f"
           }
          },
          "ternary": {
           "aaxis": {
            "gridcolor": "white",
            "linecolor": "white",
            "ticks": ""
           },
           "baxis": {
            "gridcolor": "white",
            "linecolor": "white",
            "ticks": ""
           },
           "bgcolor": "#E5ECF6",
           "caxis": {
            "gridcolor": "white",
            "linecolor": "white",
            "ticks": ""
           }
          },
          "title": {
           "x": 0.05
          },
          "xaxis": {
           "automargin": true,
           "gridcolor": "white",
           "linecolor": "white",
           "ticks": "",
           "title": {
            "standoff": 15
           },
           "zerolinecolor": "white",
           "zerolinewidth": 2
          },
          "yaxis": {
           "automargin": true,
           "gridcolor": "white",
           "linecolor": "white",
           "ticks": "",
           "title": {
            "standoff": 15
           },
           "zerolinecolor": "white",
           "zerolinewidth": 2
          }
         }
        }
       }
      }
     },
     "metadata": {},
     "output_type": "display_data"
    }
   ],
   "source": [
    "import plotly\n",
    "import plotly.graph_objects as go\n",
    "\n",
    "# Datos de las variables\n",
    "header = ['buildingblock1_smiles', 'buildingblock2_smiles', 'buildingblock3_smiles', 'molecule_smiles']\n",
    "values = [[bloque1_BRD4], [bloque2_BRD4], [bloque3_BRD4], [moleculas_BRD4]]\n",
    "\n",
    "# Crear tabla con plotly\n",
    "fig = go.Figure(data=[go.Table(header=dict(values=header),\n",
    "                               cells=dict(values=values))])\n",
    "\n",
    "# Mostrar la tabla\n",
    "fig.show()"
   ]
  },
  {
   "cell_type": "code",
   "execution_count": 11,
   "metadata": {},
   "outputs": [
    {
     "data": {
      "text/html": [
       "<div>\n",
       "<style scoped>\n",
       "    .dataframe tbody tr th:only-of-type {\n",
       "        vertical-align: middle;\n",
       "    }\n",
       "\n",
       "    .dataframe tbody tr th {\n",
       "        vertical-align: top;\n",
       "    }\n",
       "\n",
       "    .dataframe thead th {\n",
       "        text-align: right;\n",
       "    }\n",
       "</style>\n",
       "<table border=\"1\" class=\"dataframe\">\n",
       "  <thead>\n",
       "    <tr style=\"text-align: right;\">\n",
       "      <th>binds</th>\n",
       "      <th>0</th>\n",
       "      <th>1</th>\n",
       "    </tr>\n",
       "  </thead>\n",
       "  <tbody>\n",
       "    <tr>\n",
       "      <th>0</th>\n",
       "      <td>0.99536</td>\n",
       "      <td>0.00464</td>\n",
       "    </tr>\n",
       "  </tbody>\n",
       "</table>\n",
       "</div>"
      ],
      "text/plain": [
       "binds        0        1\n",
       "0      0.99536  0.00464"
      ]
     },
     "execution_count": 11,
     "metadata": {},
     "output_type": "execute_result"
    }
   ],
   "source": [
    "proteina_BRD4 = datatrain_BRD4.groupby('protein_name')['binds'].value_counts(normalize=True).unstack().reset_index(drop=True)\n",
    "proteina_BRD4"
   ]
  },
  {
   "cell_type": "code",
   "execution_count": 14,
   "metadata": {},
   "outputs": [
    {
     "data": {
      "image/png": "[encoded data removed]",
      "text/plain": [
       "<Figure size 640x480 with 1 Axes>"
      ]
     },
     "metadata": {},
     "output_type": "display_data"
    }
   ],
   "source": [
    "ax = sns.countplot(x = 'binds', data = datatrain_BRD4, palette=[\"#3f3e6fd1\", \"#85c6a9\"])\n",
    "plt.xticks(np.arange(2), ['no aglutinante', 'aglutinante'])\n",
    "plt.title('Unión molécula-proteína',fontsize= 14)\n",
    "plt.xlabel('Relación entre molécula y variable')\n",
    "plt.ylabel('')\n",
    "\n",
    "for i, v in enumerate(proteina_BRD4):\n",
    "    ax.text(i, v-40, str(v), horizontalalignment = 'center', size = 14, color = 'b', fontweight = 'bold')"
   ]
  },
  {
   "cell_type": "markdown",
   "metadata": {},
   "source": [
    "***datatrain_BRD4*** es el dataframe creado a partir de la filtración con la proteína `BRD4`. Al igual que con la proteína, `sEH`, se tomaron 100000 observaciones aleatorias que representan al conjunto de entrenamiento.\n",
    "Esto lo podemos observar pues la cantidad de valores únicos coincide con la de la base de datos original, al igual que la distribución de la variable binaria `binds`."
   ]
  },
  {
   "cell_type": "markdown",
   "metadata": {},
   "source": [
    "Comprobemos que no hayan valores NA tal como en la base de entrenamiento."
   ]
  },
  {
   "cell_type": "code",
   "execution_count": 24,
   "metadata": {},
   "outputs": [
    {
     "name": "stdout",
     "output_type": "stream",
     "text": [
      "id: 0 NA's\n",
      "buildingblock1_smiles: 0 NA's\n",
      "buildingblock2_smiles: 0 NA's\n",
      "buildingblock3_smiles: 0 NA's\n",
      "molecule_smiles: 0 NA's\n",
      "protein_name: 0 NA's\n",
      "binds: 0 NA's\n"
     ]
    }
   ],
   "source": [
    "cantidad_na = datatrain_BRD4.isna().sum()\n",
    "\n",
    "for columna in cantidad_na.index:\n",
    "    print(f\"{columna}: {cantidad_na[columna]} NA's\")"
   ]
  },
  {
   "cell_type": "markdown",
   "metadata": {},
   "source": [
    "Ahora, con ayuda de `OneHotEncoder` se codificará la base de datos que contiene las observaciones de la proteína **BRD4**."
   ]
  },
  {
   "cell_type": "markdown",
   "metadata": {},
   "source": [
    "#### Codificación: OneHotEncoder"
   ]
  },
  {
   "cell_type": "code",
   "execution_count": 15,
   "metadata": {},
   "outputs": [],
   "source": [
    "datatrain_brd4 = datatrain_BRD4.reset_index()"
   ]
  },
  {
   "cell_type": "markdown",
   "metadata": {},
   "source": [
    "Nuevamente dejamos de lado a la variable `molecule_smiles`."
   ]
  },
  {
   "cell_type": "code",
   "execution_count": 16,
   "metadata": {},
   "outputs": [],
   "source": [
    "catcol_brd4 = ['protein_name', 'buildingblock1_smiles', 'buildingblock2_smiles', 'buildingblock3_smiles']\n",
    "encoder_brd4 =   OneHotEncoder(sparse_output=False)\n",
    "encoded_brd4 = encoder_brd4.fit_transform(datatrain_brd4[catcol_brd4])\n",
    "data_encodedbrd4 = pd.DataFrame(encoded_brd4, columns=encoder_brd4.get_feature_names_out(catcol_brd4))\n",
    "datatrainbrd4 = pd.concat([datatrain_brd4,data_encodedbrd4], axis = 1)\n",
    "datatrainbrd4 = datatrainbrd4.drop(catcol_brd4,axis=1) "
   ]
  },
  {
   "cell_type": "code",
   "execution_count": 17,
   "metadata": {},
   "outputs": [
    {
     "data": {
      "text/html": [
       "<div>\n",
       "<style scoped>\n",
       "    .dataframe tbody tr th:only-of-type {\n",
       "        vertical-align: middle;\n",
       "    }\n",
       "\n",
       "    .dataframe tbody tr th {\n",
       "        vertical-align: top;\n",
       "    }\n",
       "\n",
       "    .dataframe thead th {\n",
       "        text-align: right;\n",
       "    }\n",
       "</style>\n",
       "<table border=\"1\" class=\"dataframe\">\n",
       "  <thead>\n",
       "    <tr style=\"text-align: right;\">\n",
       "      <th></th>\n",
       "      <th>index</th>\n",
       "      <th>id</th>\n",
       "      <th>molecule_smiles</th>\n",
       "      <th>binds</th>\n",
       "      <th>protein_name_BRD4</th>\n",
       "      <th>buildingblock1_smiles_C#CC[C@@H](CC(=O)O)NC(=O)OCC1c2ccccc2-c2ccccc21</th>\n",
       "      <th>buildingblock1_smiles_C#CC[C@@H](NC(=O)OCC1c2ccccc2-c2ccccc21)C(=O)O</th>\n",
       "      <th>buildingblock1_smiles_C#CC[C@@](C)(NC(=O)OCC1c2ccccc2-c2ccccc21)C(=O)O</th>\n",
       "      <th>buildingblock1_smiles_C#CC[C@H](CC(=O)O)NC(=O)OCC1c2ccccc2-c2ccccc21</th>\n",
       "      <th>buildingblock1_smiles_C#CC[C@H](NC(=O)OCC1c2ccccc2-c2ccccc21)C(=O)O</th>\n",
       "      <th>...</th>\n",
       "      <th>buildingblock3_smiles_Nc1ncnc(=O)[nH]1</th>\n",
       "      <th>buildingblock3_smiles_Nc1ncnc(Cl)c1Cl</th>\n",
       "      <th>buildingblock3_smiles_Nc1ncnc2[nH]cnc12</th>\n",
       "      <th>buildingblock3_smiles_Nc1ncnc2[nH]ncc12</th>\n",
       "      <th>buildingblock3_smiles_Nc1ncnc2c1ncn2C1CCCCO1</th>\n",
       "      <th>buildingblock3_smiles_Nc1ncncc1Br</th>\n",
       "      <th>buildingblock3_smiles_Nc1nnc(S)s1</th>\n",
       "      <th>buildingblock3_smiles_Nc1nncs1</th>\n",
       "      <th>buildingblock3_smiles_Nc1nnn[nH]1</th>\n",
       "      <th>buildingblock3_smiles_Nc1noc2ccc(F)cc12</th>\n",
       "    </tr>\n",
       "  </thead>\n",
       "  <tbody>\n",
       "    <tr>\n",
       "      <th>0</th>\n",
       "      <td>30461271</td>\n",
       "      <td>30461271</td>\n",
       "      <td>COc1cc(C(=O)N[Dy])c(N)cc1Nc1nc(NCc2c(C)sc(C)c2...</td>\n",
       "      <td>0</td>\n",
       "      <td>1.0</td>\n",
       "      <td>0.0</td>\n",
       "      <td>0.0</td>\n",
       "      <td>0.0</td>\n",
       "      <td>0.0</td>\n",
       "      <td>0.0</td>\n",
       "      <td>...</td>\n",
       "      <td>0.0</td>\n",
       "      <td>0.0</td>\n",
       "      <td>0.0</td>\n",
       "      <td>0.0</td>\n",
       "      <td>0.0</td>\n",
       "      <td>0.0</td>\n",
       "      <td>0.0</td>\n",
       "      <td>0.0</td>\n",
       "      <td>0.0</td>\n",
       "      <td>0.0</td>\n",
       "    </tr>\n",
       "    <tr>\n",
       "      <th>1</th>\n",
       "      <td>259257822</td>\n",
       "      <td>259257822</td>\n",
       "      <td>O=C(C[C@@H](Nc1nc(Nc2ccc3c(c2)COC3=O)nc(Nc2ncc...</td>\n",
       "      <td>0</td>\n",
       "      <td>1.0</td>\n",
       "      <td>0.0</td>\n",
       "      <td>0.0</td>\n",
       "      <td>0.0</td>\n",
       "      <td>0.0</td>\n",
       "      <td>0.0</td>\n",
       "      <td>...</td>\n",
       "      <td>0.0</td>\n",
       "      <td>0.0</td>\n",
       "      <td>0.0</td>\n",
       "      <td>0.0</td>\n",
       "      <td>0.0</td>\n",
       "      <td>0.0</td>\n",
       "      <td>0.0</td>\n",
       "      <td>0.0</td>\n",
       "      <td>0.0</td>\n",
       "      <td>0.0</td>\n",
       "    </tr>\n",
       "    <tr>\n",
       "      <th>2</th>\n",
       "      <td>101635230</td>\n",
       "      <td>101635230</td>\n",
       "      <td>CS(=O)CCCCNc1nc(NC[C@H]2CC[C@H](C(N)=O)CC2)nc(...</td>\n",
       "      <td>0</td>\n",
       "      <td>1.0</td>\n",
       "      <td>0.0</td>\n",
       "      <td>0.0</td>\n",
       "      <td>0.0</td>\n",
       "      <td>0.0</td>\n",
       "      <td>0.0</td>\n",
       "      <td>...</td>\n",
       "      <td>0.0</td>\n",
       "      <td>0.0</td>\n",
       "      <td>0.0</td>\n",
       "      <td>0.0</td>\n",
       "      <td>0.0</td>\n",
       "      <td>0.0</td>\n",
       "      <td>0.0</td>\n",
       "      <td>0.0</td>\n",
       "      <td>0.0</td>\n",
       "      <td>0.0</td>\n",
       "    </tr>\n",
       "    <tr>\n",
       "      <th>3</th>\n",
       "      <td>19527021</td>\n",
       "      <td>19527021</td>\n",
       "      <td>CC(OC(C)(C)C)C(Nc1nc(Nc2ccnc(Cl)c2)nc(Nc2ccc(=...</td>\n",
       "      <td>1</td>\n",
       "      <td>1.0</td>\n",
       "      <td>0.0</td>\n",
       "      <td>0.0</td>\n",
       "      <td>0.0</td>\n",
       "      <td>0.0</td>\n",
       "      <td>0.0</td>\n",
       "      <td>...</td>\n",
       "      <td>0.0</td>\n",
       "      <td>0.0</td>\n",
       "      <td>0.0</td>\n",
       "      <td>0.0</td>\n",
       "      <td>0.0</td>\n",
       "      <td>0.0</td>\n",
       "      <td>0.0</td>\n",
       "      <td>0.0</td>\n",
       "      <td>0.0</td>\n",
       "      <td>0.0</td>\n",
       "    </tr>\n",
       "    <tr>\n",
       "      <th>4</th>\n",
       "      <td>187891824</td>\n",
       "      <td>187891824</td>\n",
       "      <td>O=C(N[Dy])c1ccc(Nc2nc(NCc3ccc[n+]([O-])c3)nc(N...</td>\n",
       "      <td>0</td>\n",
       "      <td>1.0</td>\n",
       "      <td>0.0</td>\n",
       "      <td>0.0</td>\n",
       "      <td>0.0</td>\n",
       "      <td>0.0</td>\n",
       "      <td>0.0</td>\n",
       "      <td>...</td>\n",
       "      <td>0.0</td>\n",
       "      <td>0.0</td>\n",
       "      <td>0.0</td>\n",
       "      <td>0.0</td>\n",
       "      <td>0.0</td>\n",
       "      <td>0.0</td>\n",
       "      <td>0.0</td>\n",
       "      <td>0.0</td>\n",
       "      <td>0.0</td>\n",
       "      <td>0.0</td>\n",
       "    </tr>\n",
       "    <tr>\n",
       "      <th>5</th>\n",
       "      <td>68837628</td>\n",
       "      <td>68837628</td>\n",
       "      <td>COC(=O)c1nc(Cl)c(Cl)nc1Nc1nc(Nc2nccc3cccnc23)n...</td>\n",
       "      <td>0</td>\n",
       "      <td>1.0</td>\n",
       "      <td>0.0</td>\n",
       "      <td>0.0</td>\n",
       "      <td>0.0</td>\n",
       "      <td>0.0</td>\n",
       "      <td>0.0</td>\n",
       "      <td>...</td>\n",
       "      <td>0.0</td>\n",
       "      <td>0.0</td>\n",
       "      <td>0.0</td>\n",
       "      <td>0.0</td>\n",
       "      <td>0.0</td>\n",
       "      <td>0.0</td>\n",
       "      <td>0.0</td>\n",
       "      <td>0.0</td>\n",
       "      <td>0.0</td>\n",
       "      <td>0.0</td>\n",
       "    </tr>\n",
       "    <tr>\n",
       "      <th>6</th>\n",
       "      <td>72906105</td>\n",
       "      <td>72906105</td>\n",
       "      <td>O=C(N[Dy])C(CC1CCCCC1)Nc1nc(Nc2cc(C(F)(F)F)cc(...</td>\n",
       "      <td>0</td>\n",
       "      <td>1.0</td>\n",
       "      <td>0.0</td>\n",
       "      <td>0.0</td>\n",
       "      <td>0.0</td>\n",
       "      <td>0.0</td>\n",
       "      <td>0.0</td>\n",
       "      <td>...</td>\n",
       "      <td>0.0</td>\n",
       "      <td>0.0</td>\n",
       "      <td>0.0</td>\n",
       "      <td>0.0</td>\n",
       "      <td>0.0</td>\n",
       "      <td>0.0</td>\n",
       "      <td>0.0</td>\n",
       "      <td>0.0</td>\n",
       "      <td>0.0</td>\n",
       "      <td>0.0</td>\n",
       "    </tr>\n",
       "    <tr>\n",
       "      <th>7</th>\n",
       "      <td>152970567</td>\n",
       "      <td>152970567</td>\n",
       "      <td>COC1CCC(CCNc2nc(Nc3nnc(C)s3)nc(Nc3c(I)c(C(=O)O...</td>\n",
       "      <td>0</td>\n",
       "      <td>1.0</td>\n",
       "      <td>0.0</td>\n",
       "      <td>0.0</td>\n",
       "      <td>0.0</td>\n",
       "      <td>0.0</td>\n",
       "      <td>0.0</td>\n",
       "      <td>...</td>\n",
       "      <td>0.0</td>\n",
       "      <td>0.0</td>\n",
       "      <td>0.0</td>\n",
       "      <td>0.0</td>\n",
       "      <td>0.0</td>\n",
       "      <td>0.0</td>\n",
       "      <td>0.0</td>\n",
       "      <td>0.0</td>\n",
       "      <td>0.0</td>\n",
       "      <td>0.0</td>\n",
       "    </tr>\n",
       "    <tr>\n",
       "      <th>8</th>\n",
       "      <td>180019656</td>\n",
       "      <td>180019656</td>\n",
       "      <td>COc1ccc(C)nc1CNc1nc(NCCOc2cccnc2)nc(Nc2ccc(Br)...</td>\n",
       "      <td>0</td>\n",
       "      <td>1.0</td>\n",
       "      <td>0.0</td>\n",
       "      <td>0.0</td>\n",
       "      <td>0.0</td>\n",
       "      <td>0.0</td>\n",
       "      <td>0.0</td>\n",
       "      <td>...</td>\n",
       "      <td>0.0</td>\n",
       "      <td>0.0</td>\n",
       "      <td>0.0</td>\n",
       "      <td>0.0</td>\n",
       "      <td>0.0</td>\n",
       "      <td>0.0</td>\n",
       "      <td>0.0</td>\n",
       "      <td>0.0</td>\n",
       "      <td>0.0</td>\n",
       "      <td>0.0</td>\n",
       "    </tr>\n",
       "    <tr>\n",
       "      <th>9</th>\n",
       "      <td>243548469</td>\n",
       "      <td>243548469</td>\n",
       "      <td>O=C(C[C@@H](Cc1ccc(Br)cc1)Nc1nc(NCCCOc2cccc(F)...</td>\n",
       "      <td>0</td>\n",
       "      <td>1.0</td>\n",
       "      <td>0.0</td>\n",
       "      <td>0.0</td>\n",
       "      <td>0.0</td>\n",
       "      <td>0.0</td>\n",
       "      <td>0.0</td>\n",
       "      <td>...</td>\n",
       "      <td>0.0</td>\n",
       "      <td>0.0</td>\n",
       "      <td>0.0</td>\n",
       "      <td>0.0</td>\n",
       "      <td>0.0</td>\n",
       "      <td>0.0</td>\n",
       "      <td>0.0</td>\n",
       "      <td>0.0</td>\n",
       "      <td>0.0</td>\n",
       "      <td>0.0</td>\n",
       "    </tr>\n",
       "    <tr>\n",
       "      <th>10</th>\n",
       "      <td>27014637</td>\n",
       "      <td>27014637</td>\n",
       "      <td>COC(=O)CC(Nc1nc(Nc2cnccn2)nc(Nc2cc(F)c(F)cc2[N...</td>\n",
       "      <td>0</td>\n",
       "      <td>1.0</td>\n",
       "      <td>0.0</td>\n",
       "      <td>0.0</td>\n",
       "      <td>0.0</td>\n",
       "      <td>0.0</td>\n",
       "      <td>0.0</td>\n",
       "      <td>...</td>\n",
       "      <td>0.0</td>\n",
       "      <td>0.0</td>\n",
       "      <td>0.0</td>\n",
       "      <td>0.0</td>\n",
       "      <td>0.0</td>\n",
       "      <td>0.0</td>\n",
       "      <td>0.0</td>\n",
       "      <td>0.0</td>\n",
       "      <td>0.0</td>\n",
       "      <td>0.0</td>\n",
       "    </tr>\n",
       "    <tr>\n",
       "      <th>11</th>\n",
       "      <td>138412248</td>\n",
       "      <td>138412248</td>\n",
       "      <td>Cc1nn(CCNc2nc(NCC(C)OC(C)(C)C)nc(Nc3c(C(=O)N[D...</td>\n",
       "      <td>0</td>\n",
       "      <td>1.0</td>\n",
       "      <td>0.0</td>\n",
       "      <td>0.0</td>\n",
       "      <td>0.0</td>\n",
       "      <td>0.0</td>\n",
       "      <td>0.0</td>\n",
       "      <td>...</td>\n",
       "      <td>0.0</td>\n",
       "      <td>0.0</td>\n",
       "      <td>0.0</td>\n",
       "      <td>0.0</td>\n",
       "      <td>0.0</td>\n",
       "      <td>0.0</td>\n",
       "      <td>0.0</td>\n",
       "      <td>0.0</td>\n",
       "      <td>0.0</td>\n",
       "      <td>0.0</td>\n",
       "    </tr>\n",
       "    <tr>\n",
       "      <th>12</th>\n",
       "      <td>248210646</td>\n",
       "      <td>248210646</td>\n",
       "      <td>O=C(C[C@@H](Cc1ccc(Cl)cc1Cl)Nc1nc(NCc2nc(-c3cc...</td>\n",
       "      <td>0</td>\n",
       "      <td>1.0</td>\n",
       "      <td>0.0</td>\n",
       "      <td>0.0</td>\n",
       "      <td>0.0</td>\n",
       "      <td>0.0</td>\n",
       "      <td>0.0</td>\n",
       "      <td>...</td>\n",
       "      <td>0.0</td>\n",
       "      <td>0.0</td>\n",
       "      <td>0.0</td>\n",
       "      <td>0.0</td>\n",
       "      <td>0.0</td>\n",
       "      <td>0.0</td>\n",
       "      <td>0.0</td>\n",
       "      <td>0.0</td>\n",
       "      <td>0.0</td>\n",
       "      <td>0.0</td>\n",
       "    </tr>\n",
       "    <tr>\n",
       "      <th>13</th>\n",
       "      <td>222625326</td>\n",
       "      <td>222625326</td>\n",
       "      <td>Cc1cc(Nc2nc(Nc3cncnc3)nc(Nc3nc(-c4ccc(C(=O)N[D...</td>\n",
       "      <td>0</td>\n",
       "      <td>1.0</td>\n",
       "      <td>0.0</td>\n",
       "      <td>0.0</td>\n",
       "      <td>0.0</td>\n",
       "      <td>0.0</td>\n",
       "      <td>0.0</td>\n",
       "      <td>...</td>\n",
       "      <td>0.0</td>\n",
       "      <td>0.0</td>\n",
       "      <td>0.0</td>\n",
       "      <td>0.0</td>\n",
       "      <td>0.0</td>\n",
       "      <td>0.0</td>\n",
       "      <td>0.0</td>\n",
       "      <td>0.0</td>\n",
       "      <td>0.0</td>\n",
       "      <td>0.0</td>\n",
       "    </tr>\n",
       "    <tr>\n",
       "      <th>14</th>\n",
       "      <td>150823647</td>\n",
       "      <td>150823647</td>\n",
       "      <td>O=C(N[Dy])c1c(Br)ccc(F)c1Nc1nc(NCCc2nc3c(s2)CO...</td>\n",
       "      <td>0</td>\n",
       "      <td>1.0</td>\n",
       "      <td>0.0</td>\n",
       "      <td>0.0</td>\n",
       "      <td>0.0</td>\n",
       "      <td>0.0</td>\n",
       "      <td>0.0</td>\n",
       "      <td>...</td>\n",
       "      <td>0.0</td>\n",
       "      <td>0.0</td>\n",
       "      <td>0.0</td>\n",
       "      <td>0.0</td>\n",
       "      <td>0.0</td>\n",
       "      <td>0.0</td>\n",
       "      <td>0.0</td>\n",
       "      <td>0.0</td>\n",
       "      <td>0.0</td>\n",
       "      <td>0.0</td>\n",
       "    </tr>\n",
       "  </tbody>\n",
       "</table>\n",
       "<p>15 rows × 1837 columns</p>\n",
       "</div>"
      ],
      "text/plain": [
       "        index         id                                    molecule_smiles  \\\n",
       "0    30461271   30461271  COc1cc(C(=O)N[Dy])c(N)cc1Nc1nc(NCc2c(C)sc(C)c2...   \n",
       "1   259257822  259257822  O=C(C[C@@H](Nc1nc(Nc2ccc3c(c2)COC3=O)nc(Nc2ncc...   \n",
       "2   101635230  101635230  CS(=O)CCCCNc1nc(NC[C@H]2CC[C@H](C(N)=O)CC2)nc(...   \n",
       "3    19527021   19527021  CC(OC(C)(C)C)C(Nc1nc(Nc2ccnc(Cl)c2)nc(Nc2ccc(=...   \n",
       "4   187891824  187891824  O=C(N[Dy])c1ccc(Nc2nc(NCc3ccc[n+]([O-])c3)nc(N...   \n",
       "5    68837628   68837628  COC(=O)c1nc(Cl)c(Cl)nc1Nc1nc(Nc2nccc3cccnc23)n...   \n",
       "6    72906105   72906105  O=C(N[Dy])C(CC1CCCCC1)Nc1nc(Nc2cc(C(F)(F)F)cc(...   \n",
       "7   152970567  152970567  COC1CCC(CCNc2nc(Nc3nnc(C)s3)nc(Nc3c(I)c(C(=O)O...   \n",
       "8   180019656  180019656  COc1ccc(C)nc1CNc1nc(NCCOc2cccnc2)nc(Nc2ccc(Br)...   \n",
       "9   243548469  243548469  O=C(C[C@@H](Cc1ccc(Br)cc1)Nc1nc(NCCCOc2cccc(F)...   \n",
       "10   27014637   27014637  COC(=O)CC(Nc1nc(Nc2cnccn2)nc(Nc2cc(F)c(F)cc2[N...   \n",
       "11  138412248  138412248  Cc1nn(CCNc2nc(NCC(C)OC(C)(C)C)nc(Nc3c(C(=O)N[D...   \n",
       "12  248210646  248210646  O=C(C[C@@H](Cc1ccc(Cl)cc1Cl)Nc1nc(NCc2nc(-c3cc...   \n",
       "13  222625326  222625326  Cc1cc(Nc2nc(Nc3cncnc3)nc(Nc3nc(-c4ccc(C(=O)N[D...   \n",
       "14  150823647  150823647  O=C(N[Dy])c1c(Br)ccc(F)c1Nc1nc(NCCc2nc3c(s2)CO...   \n",
       "\n",
       "    binds  protein_name_BRD4  \\\n",
       "0       0                1.0   \n",
       "1       0                1.0   \n",
       "2       0                1.0   \n",
       "3       1                1.0   \n",
       "4       0                1.0   \n",
       "5       0                1.0   \n",
       "6       0                1.0   \n",
       "7       0                1.0   \n",
       "8       0                1.0   \n",
       "9       0                1.0   \n",
       "10      0                1.0   \n",
       "11      0                1.0   \n",
       "12      0                1.0   \n",
       "13      0                1.0   \n",
       "14      0                1.0   \n",
       "\n",
       "    buildingblock1_smiles_C#CC[C@@H](CC(=O)O)NC(=O)OCC1c2ccccc2-c2ccccc21  \\\n",
       "0                                                 0.0                       \n",
       "1                                                 0.0                       \n",
       "2                                                 0.0                       \n",
       "3                                                 0.0                       \n",
       "4                                                 0.0                       \n",
       "5                                                 0.0                       \n",
       "6                                                 0.0                       \n",
       "7                                                 0.0                       \n",
       "8                                                 0.0                       \n",
       "9                                                 0.0                       \n",
       "10                                                0.0                       \n",
       "11                                                0.0                       \n",
       "12                                                0.0                       \n",
       "13                                                0.0                       \n",
       "14                                                0.0                       \n",
       "\n",
       "    buildingblock1_smiles_C#CC[C@@H](NC(=O)OCC1c2ccccc2-c2ccccc21)C(=O)O  \\\n",
       "0                                                 0.0                      \n",
       "1                                                 0.0                      \n",
       "2                                                 0.0                      \n",
       "3                                                 0.0                      \n",
       "4                                                 0.0                      \n",
       "5                                                 0.0                      \n",
       "6                                                 0.0                      \n",
       "7                                                 0.0                      \n",
       "8                                                 0.0                      \n",
       "9                                                 0.0                      \n",
       "10                                                0.0                      \n",
       "11                                                0.0                      \n",
       "12                                                0.0                      \n",
       "13                                                0.0                      \n",
       "14                                                0.0                      \n",
       "\n",
       "    buildingblock1_smiles_C#CC[C@@](C)(NC(=O)OCC1c2ccccc2-c2ccccc21)C(=O)O  \\\n",
       "0                                                 0.0                        \n",
       "1                                                 0.0                        \n",
       "2                                                 0.0                        \n",
       "3                                                 0.0                        \n",
       "4                                                 0.0                        \n",
       "5                                                 0.0                        \n",
       "6                                                 0.0                        \n",
       "7                                                 0.0                        \n",
       "8                                                 0.0                        \n",
       "9                                                 0.0                        \n",
       "10                                                0.0                        \n",
       "11                                                0.0                        \n",
       "12                                                0.0                        \n",
       "13                                                0.0                        \n",
       "14                                                0.0                        \n",
       "\n",
       "    buildingblock1_smiles_C#CC[C@H](CC(=O)O)NC(=O)OCC1c2ccccc2-c2ccccc21  \\\n",
       "0                                                 0.0                      \n",
       "1                                                 0.0                      \n",
       "2                                                 0.0                      \n",
       "3                                                 0.0                      \n",
       "4                                                 0.0                      \n",
       "5                                                 0.0                      \n",
       "6                                                 0.0                      \n",
       "7                                                 0.0                      \n",
       "8                                                 0.0                      \n",
       "9                                                 0.0                      \n",
       "10                                                0.0                      \n",
       "11                                                0.0                      \n",
       "12                                                0.0                      \n",
       "13                                                0.0                      \n",
       "14                                                0.0                      \n",
       "\n",
       "    buildingblock1_smiles_C#CC[C@H](NC(=O)OCC1c2ccccc2-c2ccccc21)C(=O)O  ...  \\\n",
       "0                                                 0.0                    ...   \n",
       "1                                                 0.0                    ...   \n",
       "2                                                 0.0                    ...   \n",
       "3                                                 0.0                    ...   \n",
       "4                                                 0.0                    ...   \n",
       "5                                                 0.0                    ...   \n",
       "6                                                 0.0                    ...   \n",
       "7                                                 0.0                    ...   \n",
       "8                                                 0.0                    ...   \n",
       "9                                                 0.0                    ...   \n",
       "10                                                0.0                    ...   \n",
       "11                                                0.0                    ...   \n",
       "12                                                0.0                    ...   \n",
       "13                                                0.0                    ...   \n",
       "14                                                0.0                    ...   \n",
       "\n",
       "    buildingblock3_smiles_Nc1ncnc(=O)[nH]1  \\\n",
       "0                                      0.0   \n",
       "1                                      0.0   \n",
       "2                                      0.0   \n",
       "3                                      0.0   \n",
       "4                                      0.0   \n",
       "5                                      0.0   \n",
       "6                                      0.0   \n",
       "7                                      0.0   \n",
       "8                                      0.0   \n",
       "9                                      0.0   \n",
       "10                                     0.0   \n",
       "11                                     0.0   \n",
       "12                                     0.0   \n",
       "13                                     0.0   \n",
       "14                                     0.0   \n",
       "\n",
       "    buildingblock3_smiles_Nc1ncnc(Cl)c1Cl  \\\n",
       "0                                     0.0   \n",
       "1                                     0.0   \n",
       "2                                     0.0   \n",
       "3                                     0.0   \n",
       "4                                     0.0   \n",
       "5                                     0.0   \n",
       "6                                     0.0   \n",
       "7                                     0.0   \n",
       "8                                     0.0   \n",
       "9                                     0.0   \n",
       "10                                    0.0   \n",
       "11                                    0.0   \n",
       "12                                    0.0   \n",
       "13                                    0.0   \n",
       "14                                    0.0   \n",
       "\n",
       "    buildingblock3_smiles_Nc1ncnc2[nH]cnc12  \\\n",
       "0                                       0.0   \n",
       "1                                       0.0   \n",
       "2                                       0.0   \n",
       "3                                       0.0   \n",
       "4                                       0.0   \n",
       "5                                       0.0   \n",
       "6                                       0.0   \n",
       "7                                       0.0   \n",
       "8                                       0.0   \n",
       "9                                       0.0   \n",
       "10                                      0.0   \n",
       "11                                      0.0   \n",
       "12                                      0.0   \n",
       "13                                      0.0   \n",
       "14                                      0.0   \n",
       "\n",
       "    buildingblock3_smiles_Nc1ncnc2[nH]ncc12  \\\n",
       "0                                       0.0   \n",
       "1                                       0.0   \n",
       "2                                       0.0   \n",
       "3                                       0.0   \n",
       "4                                       0.0   \n",
       "5                                       0.0   \n",
       "6                                       0.0   \n",
       "7                                       0.0   \n",
       "8                                       0.0   \n",
       "9                                       0.0   \n",
       "10                                      0.0   \n",
       "11                                      0.0   \n",
       "12                                      0.0   \n",
       "13                                      0.0   \n",
       "14                                      0.0   \n",
       "\n",
       "    buildingblock3_smiles_Nc1ncnc2c1ncn2C1CCCCO1  \\\n",
       "0                                            0.0   \n",
       "1                                            0.0   \n",
       "2                                            0.0   \n",
       "3                                            0.0   \n",
       "4                                            0.0   \n",
       "5                                            0.0   \n",
       "6                                            0.0   \n",
       "7                                            0.0   \n",
       "8                                            0.0   \n",
       "9                                            0.0   \n",
       "10                                           0.0   \n",
       "11                                           0.0   \n",
       "12                                           0.0   \n",
       "13                                           0.0   \n",
       "14                                           0.0   \n",
       "\n",
       "    buildingblock3_smiles_Nc1ncncc1Br  buildingblock3_smiles_Nc1nnc(S)s1  \\\n",
       "0                                 0.0                                0.0   \n",
       "1                                 0.0                                0.0   \n",
       "2                                 0.0                                0.0   \n",
       "3                                 0.0                                0.0   \n",
       "4                                 0.0                                0.0   \n",
       "5                                 0.0                                0.0   \n",
       "6                                 0.0                                0.0   \n",
       "7                                 0.0                                0.0   \n",
       "8                                 0.0                                0.0   \n",
       "9                                 0.0                                0.0   \n",
       "10                                0.0                                0.0   \n",
       "11                                0.0                                0.0   \n",
       "12                                0.0                                0.0   \n",
       "13                                0.0                                0.0   \n",
       "14                                0.0                                0.0   \n",
       "\n",
       "    buildingblock3_smiles_Nc1nncs1  buildingblock3_smiles_Nc1nnn[nH]1  \\\n",
       "0                              0.0                                0.0   \n",
       "1                              0.0                                0.0   \n",
       "2                              0.0                                0.0   \n",
       "3                              0.0                                0.0   \n",
       "4                              0.0                                0.0   \n",
       "5                              0.0                                0.0   \n",
       "6                              0.0                                0.0   \n",
       "7                              0.0                                0.0   \n",
       "8                              0.0                                0.0   \n",
       "9                              0.0                                0.0   \n",
       "10                             0.0                                0.0   \n",
       "11                             0.0                                0.0   \n",
       "12                             0.0                                0.0   \n",
       "13                             0.0                                0.0   \n",
       "14                             0.0                                0.0   \n",
       "\n",
       "    buildingblock3_smiles_Nc1noc2ccc(F)cc12  \n",
       "0                                       0.0  \n",
       "1                                       0.0  \n",
       "2                                       0.0  \n",
       "3                                       0.0  \n",
       "4                                       0.0  \n",
       "5                                       0.0  \n",
       "6                                       0.0  \n",
       "7                                       0.0  \n",
       "8                                       0.0  \n",
       "9                                       0.0  \n",
       "10                                      0.0  \n",
       "11                                      0.0  \n",
       "12                                      0.0  \n",
       "13                                      0.0  \n",
       "14                                      0.0  \n",
       "\n",
       "[15 rows x 1837 columns]"
      ]
     },
     "execution_count": 17,
     "metadata": {},
     "output_type": "execute_result"
    }
   ],
   "source": [
    "datatrainbrd4.head(15)"
   ]
  },
  {
   "cell_type": "code",
   "execution_count": 18,
   "metadata": {},
   "outputs": [
    {
     "data": {
      "text/html": [
       "<div>\n",
       "<style scoped>\n",
       "    .dataframe tbody tr th:only-of-type {\n",
       "        vertical-align: middle;\n",
       "    }\n",
       "\n",
       "    .dataframe tbody tr th {\n",
       "        vertical-align: top;\n",
       "    }\n",
       "\n",
       "    .dataframe thead th {\n",
       "        text-align: right;\n",
       "    }\n",
       "</style>\n",
       "<table border=\"1\" class=\"dataframe\">\n",
       "  <thead>\n",
       "    <tr style=\"text-align: right;\">\n",
       "      <th></th>\n",
       "      <th>index</th>\n",
       "      <th>id</th>\n",
       "      <th>molecule_smiles</th>\n",
       "      <th>binds</th>\n",
       "      <th>protein_name_BRD4</th>\n",
       "      <th>buildingblock1_smiles_C#CC[C@@H](CC(=O)O)NC(=O)OCC1c2ccccc2-c2ccccc21</th>\n",
       "      <th>buildingblock1_smiles_C#CC[C@@H](NC(=O)OCC1c2ccccc2-c2ccccc21)C(=O)O</th>\n",
       "      <th>buildingblock1_smiles_C#CC[C@@](C)(NC(=O)OCC1c2ccccc2-c2ccccc21)C(=O)O</th>\n",
       "      <th>buildingblock1_smiles_C#CC[C@H](CC(=O)O)NC(=O)OCC1c2ccccc2-c2ccccc21</th>\n",
       "      <th>buildingblock1_smiles_C#CC[C@H](NC(=O)OCC1c2ccccc2-c2ccccc21)C(=O)O</th>\n",
       "      <th>...</th>\n",
       "      <th>buildingblock3_smiles_Nc1ncnc(=O)[nH]1</th>\n",
       "      <th>buildingblock3_smiles_Nc1ncnc(Cl)c1Cl</th>\n",
       "      <th>buildingblock3_smiles_Nc1ncnc2[nH]cnc12</th>\n",
       "      <th>buildingblock3_smiles_Nc1ncnc2[nH]ncc12</th>\n",
       "      <th>buildingblock3_smiles_Nc1ncnc2c1ncn2C1CCCCO1</th>\n",
       "      <th>buildingblock3_smiles_Nc1ncncc1Br</th>\n",
       "      <th>buildingblock3_smiles_Nc1nnc(S)s1</th>\n",
       "      <th>buildingblock3_smiles_Nc1nncs1</th>\n",
       "      <th>buildingblock3_smiles_Nc1nnn[nH]1</th>\n",
       "      <th>buildingblock3_smiles_Nc1noc2ccc(F)cc12</th>\n",
       "    </tr>\n",
       "  </thead>\n",
       "  <tbody>\n",
       "    <tr>\n",
       "      <th>99985</th>\n",
       "      <td>96041997</td>\n",
       "      <td>96041997</td>\n",
       "      <td>COC(=O)c1cc(F)c(F)cc1Nc1nc(Nc2nc3c(s2)CN(C(=O)...</td>\n",
       "      <td>0</td>\n",
       "      <td>1.0</td>\n",
       "      <td>0.0</td>\n",
       "      <td>0.0</td>\n",
       "      <td>0.0</td>\n",
       "      <td>0.0</td>\n",
       "      <td>0.0</td>\n",
       "      <td>...</td>\n",
       "      <td>0.0</td>\n",
       "      <td>0.0</td>\n",
       "      <td>0.0</td>\n",
       "      <td>0.0</td>\n",
       "      <td>0.0</td>\n",
       "      <td>0.0</td>\n",
       "      <td>0.0</td>\n",
       "      <td>0.0</td>\n",
       "      <td>0.0</td>\n",
       "      <td>0.0</td>\n",
       "    </tr>\n",
       "    <tr>\n",
       "      <th>99986</th>\n",
       "      <td>40341102</td>\n",
       "      <td>40341102</td>\n",
       "      <td>COc1nccc(C(=O)N[Dy])c1Nc1nc(Nc2ccccc2N2CCN(C(=...</td>\n",
       "      <td>0</td>\n",
       "      <td>1.0</td>\n",
       "      <td>0.0</td>\n",
       "      <td>0.0</td>\n",
       "      <td>0.0</td>\n",
       "      <td>0.0</td>\n",
       "      <td>0.0</td>\n",
       "      <td>...</td>\n",
       "      <td>0.0</td>\n",
       "      <td>0.0</td>\n",
       "      <td>0.0</td>\n",
       "      <td>0.0</td>\n",
       "      <td>0.0</td>\n",
       "      <td>0.0</td>\n",
       "      <td>0.0</td>\n",
       "      <td>0.0</td>\n",
       "      <td>0.0</td>\n",
       "      <td>0.0</td>\n",
       "    </tr>\n",
       "    <tr>\n",
       "      <th>99987</th>\n",
       "      <td>141738897</td>\n",
       "      <td>141738897</td>\n",
       "      <td>CCOC(=O)c1csc(Nc2nc(Nc3nc(C(=O)OCC)cs3)nc(Nc3c...</td>\n",
       "      <td>0</td>\n",
       "      <td>1.0</td>\n",
       "      <td>0.0</td>\n",
       "      <td>0.0</td>\n",
       "      <td>0.0</td>\n",
       "      <td>0.0</td>\n",
       "      <td>0.0</td>\n",
       "      <td>...</td>\n",
       "      <td>0.0</td>\n",
       "      <td>0.0</td>\n",
       "      <td>0.0</td>\n",
       "      <td>0.0</td>\n",
       "      <td>0.0</td>\n",
       "      <td>0.0</td>\n",
       "      <td>0.0</td>\n",
       "      <td>0.0</td>\n",
       "      <td>0.0</td>\n",
       "      <td>0.0</td>\n",
       "    </tr>\n",
       "    <tr>\n",
       "      <th>99988</th>\n",
       "      <td>222486360</td>\n",
       "      <td>222486360</td>\n",
       "      <td>CCON(C)C(=O)CNc1nc(NCc2c(F)ccc(F)c2OC)nc(Nc2nc...</td>\n",
       "      <td>0</td>\n",
       "      <td>1.0</td>\n",
       "      <td>0.0</td>\n",
       "      <td>0.0</td>\n",
       "      <td>0.0</td>\n",
       "      <td>0.0</td>\n",
       "      <td>0.0</td>\n",
       "      <td>...</td>\n",
       "      <td>0.0</td>\n",
       "      <td>0.0</td>\n",
       "      <td>0.0</td>\n",
       "      <td>0.0</td>\n",
       "      <td>0.0</td>\n",
       "      <td>0.0</td>\n",
       "      <td>0.0</td>\n",
       "      <td>0.0</td>\n",
       "      <td>0.0</td>\n",
       "      <td>0.0</td>\n",
       "    </tr>\n",
       "    <tr>\n",
       "      <th>99989</th>\n",
       "      <td>88778394</td>\n",
       "      <td>88778394</td>\n",
       "      <td>N#Cc1ccc(CNc2nc(Nc3ccc(-c4ncc[nH]4)cc3)nc(N[C@...</td>\n",
       "      <td>0</td>\n",
       "      <td>1.0</td>\n",
       "      <td>0.0</td>\n",
       "      <td>0.0</td>\n",
       "      <td>0.0</td>\n",
       "      <td>0.0</td>\n",
       "      <td>0.0</td>\n",
       "      <td>...</td>\n",
       "      <td>0.0</td>\n",
       "      <td>0.0</td>\n",
       "      <td>0.0</td>\n",
       "      <td>0.0</td>\n",
       "      <td>0.0</td>\n",
       "      <td>0.0</td>\n",
       "      <td>0.0</td>\n",
       "      <td>0.0</td>\n",
       "      <td>0.0</td>\n",
       "      <td>0.0</td>\n",
       "    </tr>\n",
       "    <tr>\n",
       "      <th>99990</th>\n",
       "      <td>243886491</td>\n",
       "      <td>243886491</td>\n",
       "      <td>O=C(C[C@@H](Cc1ccc(Br)cc1)Nc1nc(Nc2ccc(OC(F)F)...</td>\n",
       "      <td>0</td>\n",
       "      <td>1.0</td>\n",
       "      <td>0.0</td>\n",
       "      <td>0.0</td>\n",
       "      <td>0.0</td>\n",
       "      <td>0.0</td>\n",
       "      <td>0.0</td>\n",
       "      <td>...</td>\n",
       "      <td>0.0</td>\n",
       "      <td>0.0</td>\n",
       "      <td>0.0</td>\n",
       "      <td>0.0</td>\n",
       "      <td>0.0</td>\n",
       "      <td>0.0</td>\n",
       "      <td>0.0</td>\n",
       "      <td>0.0</td>\n",
       "      <td>0.0</td>\n",
       "      <td>0.0</td>\n",
       "    </tr>\n",
       "    <tr>\n",
       "      <th>99991</th>\n",
       "      <td>54883578</td>\n",
       "      <td>54883578</td>\n",
       "      <td>Cc1ccc(C(=O)N[Dy])cc1Nc1nc(NCc2c(C)nn(-c3ccccc...</td>\n",
       "      <td>0</td>\n",
       "      <td>1.0</td>\n",
       "      <td>0.0</td>\n",
       "      <td>0.0</td>\n",
       "      <td>0.0</td>\n",
       "      <td>0.0</td>\n",
       "      <td>0.0</td>\n",
       "      <td>...</td>\n",
       "      <td>0.0</td>\n",
       "      <td>0.0</td>\n",
       "      <td>0.0</td>\n",
       "      <td>0.0</td>\n",
       "      <td>0.0</td>\n",
       "      <td>0.0</td>\n",
       "      <td>0.0</td>\n",
       "      <td>0.0</td>\n",
       "      <td>0.0</td>\n",
       "      <td>0.0</td>\n",
       "    </tr>\n",
       "    <tr>\n",
       "      <th>99992</th>\n",
       "      <td>265005852</td>\n",
       "      <td>265005852</td>\n",
       "      <td>COc1ccc(Nc2nc(NCC3CCN(c4ccncc4)CC3)nc(N[C@H](C...</td>\n",
       "      <td>0</td>\n",
       "      <td>1.0</td>\n",
       "      <td>0.0</td>\n",
       "      <td>0.0</td>\n",
       "      <td>0.0</td>\n",
       "      <td>0.0</td>\n",
       "      <td>0.0</td>\n",
       "      <td>...</td>\n",
       "      <td>0.0</td>\n",
       "      <td>0.0</td>\n",
       "      <td>0.0</td>\n",
       "      <td>0.0</td>\n",
       "      <td>0.0</td>\n",
       "      <td>0.0</td>\n",
       "      <td>0.0</td>\n",
       "      <td>0.0</td>\n",
       "      <td>0.0</td>\n",
       "      <td>0.0</td>\n",
       "    </tr>\n",
       "    <tr>\n",
       "      <th>99993</th>\n",
       "      <td>4882833</td>\n",
       "      <td>4882833</td>\n",
       "      <td>C#CC[C@H](Nc1nc(NCc2nnc3n2CCOCC3)nc(NCC(C)c2nc...</td>\n",
       "      <td>0</td>\n",
       "      <td>1.0</td>\n",
       "      <td>0.0</td>\n",
       "      <td>0.0</td>\n",
       "      <td>0.0</td>\n",
       "      <td>0.0</td>\n",
       "      <td>1.0</td>\n",
       "      <td>...</td>\n",
       "      <td>0.0</td>\n",
       "      <td>0.0</td>\n",
       "      <td>0.0</td>\n",
       "      <td>0.0</td>\n",
       "      <td>0.0</td>\n",
       "      <td>0.0</td>\n",
       "      <td>0.0</td>\n",
       "      <td>0.0</td>\n",
       "      <td>0.0</td>\n",
       "      <td>0.0</td>\n",
       "    </tr>\n",
       "    <tr>\n",
       "      <th>99994</th>\n",
       "      <td>16161186</td>\n",
       "      <td>16161186</td>\n",
       "      <td>CC(C)(C)OC(=O)N1C[C@@H](Nc2nc(NCc3cnc(N4CCOCC4...</td>\n",
       "      <td>0</td>\n",
       "      <td>1.0</td>\n",
       "      <td>0.0</td>\n",
       "      <td>0.0</td>\n",
       "      <td>0.0</td>\n",
       "      <td>0.0</td>\n",
       "      <td>0.0</td>\n",
       "      <td>...</td>\n",
       "      <td>0.0</td>\n",
       "      <td>0.0</td>\n",
       "      <td>0.0</td>\n",
       "      <td>0.0</td>\n",
       "      <td>0.0</td>\n",
       "      <td>0.0</td>\n",
       "      <td>0.0</td>\n",
       "      <td>0.0</td>\n",
       "      <td>0.0</td>\n",
       "      <td>0.0</td>\n",
       "    </tr>\n",
       "    <tr>\n",
       "      <th>99995</th>\n",
       "      <td>4810647</td>\n",
       "      <td>4810647</td>\n",
       "      <td>C#CC[C@H](Nc1nc(NCCc2nc(-c3ccccc3)c(C)s2)nc(Nc...</td>\n",
       "      <td>0</td>\n",
       "      <td>1.0</td>\n",
       "      <td>0.0</td>\n",
       "      <td>0.0</td>\n",
       "      <td>0.0</td>\n",
       "      <td>0.0</td>\n",
       "      <td>1.0</td>\n",
       "      <td>...</td>\n",
       "      <td>0.0</td>\n",
       "      <td>0.0</td>\n",
       "      <td>0.0</td>\n",
       "      <td>0.0</td>\n",
       "      <td>0.0</td>\n",
       "      <td>0.0</td>\n",
       "      <td>0.0</td>\n",
       "      <td>0.0</td>\n",
       "      <td>0.0</td>\n",
       "      <td>0.0</td>\n",
       "    </tr>\n",
       "    <tr>\n",
       "      <th>99996</th>\n",
       "      <td>11532018</td>\n",
       "      <td>11532018</td>\n",
       "      <td>CC(=O)c1ccc(C[C@H](Nc2nc(NC[C@H]3CC[C@H](C(N)=...</td>\n",
       "      <td>0</td>\n",
       "      <td>1.0</td>\n",
       "      <td>0.0</td>\n",
       "      <td>0.0</td>\n",
       "      <td>0.0</td>\n",
       "      <td>0.0</td>\n",
       "      <td>0.0</td>\n",
       "      <td>...</td>\n",
       "      <td>0.0</td>\n",
       "      <td>0.0</td>\n",
       "      <td>0.0</td>\n",
       "      <td>0.0</td>\n",
       "      <td>0.0</td>\n",
       "      <td>0.0</td>\n",
       "      <td>0.0</td>\n",
       "      <td>0.0</td>\n",
       "      <td>0.0</td>\n",
       "      <td>0.0</td>\n",
       "    </tr>\n",
       "    <tr>\n",
       "      <th>99997</th>\n",
       "      <td>45267540</td>\n",
       "      <td>45267540</td>\n",
       "      <td>CSc1ccc(CNc2nc(NCCCOc3cccc(F)c3)nc(N3CCC[C@@]3...</td>\n",
       "      <td>0</td>\n",
       "      <td>1.0</td>\n",
       "      <td>0.0</td>\n",
       "      <td>0.0</td>\n",
       "      <td>0.0</td>\n",
       "      <td>0.0</td>\n",
       "      <td>0.0</td>\n",
       "      <td>...</td>\n",
       "      <td>0.0</td>\n",
       "      <td>0.0</td>\n",
       "      <td>0.0</td>\n",
       "      <td>0.0</td>\n",
       "      <td>0.0</td>\n",
       "      <td>0.0</td>\n",
       "      <td>0.0</td>\n",
       "      <td>0.0</td>\n",
       "      <td>0.0</td>\n",
       "      <td>0.0</td>\n",
       "    </tr>\n",
       "    <tr>\n",
       "      <th>99998</th>\n",
       "      <td>227278032</td>\n",
       "      <td>227278032</td>\n",
       "      <td>N#Cc1cnn(-c2ccccc2)c1Nc1nc(NCc2ncon2)nc(Nc2nc3...</td>\n",
       "      <td>0</td>\n",
       "      <td>1.0</td>\n",
       "      <td>0.0</td>\n",
       "      <td>0.0</td>\n",
       "      <td>0.0</td>\n",
       "      <td>0.0</td>\n",
       "      <td>0.0</td>\n",
       "      <td>...</td>\n",
       "      <td>0.0</td>\n",
       "      <td>0.0</td>\n",
       "      <td>0.0</td>\n",
       "      <td>0.0</td>\n",
       "      <td>0.0</td>\n",
       "      <td>0.0</td>\n",
       "      <td>0.0</td>\n",
       "      <td>0.0</td>\n",
       "      <td>0.0</td>\n",
       "      <td>0.0</td>\n",
       "    </tr>\n",
       "    <tr>\n",
       "      <th>99999</th>\n",
       "      <td>55462125</td>\n",
       "      <td>55462125</td>\n",
       "      <td>Cc1ccc(C(=O)N[Dy])cc1Nc1nc(Nc2cccc3[nH]ccc23)n...</td>\n",
       "      <td>0</td>\n",
       "      <td>1.0</td>\n",
       "      <td>0.0</td>\n",
       "      <td>0.0</td>\n",
       "      <td>0.0</td>\n",
       "      <td>0.0</td>\n",
       "      <td>0.0</td>\n",
       "      <td>...</td>\n",
       "      <td>0.0</td>\n",
       "      <td>0.0</td>\n",
       "      <td>1.0</td>\n",
       "      <td>0.0</td>\n",
       "      <td>0.0</td>\n",
       "      <td>0.0</td>\n",
       "      <td>0.0</td>\n",
       "      <td>0.0</td>\n",
       "      <td>0.0</td>\n",
       "      <td>0.0</td>\n",
       "    </tr>\n",
       "  </tbody>\n",
       "</table>\n",
       "<p>15 rows × 1837 columns</p>\n",
       "</div>"
      ],
      "text/plain": [
       "           index         id  \\\n",
       "99985   96041997   96041997   \n",
       "99986   40341102   40341102   \n",
       "99987  141738897  141738897   \n",
       "99988  222486360  222486360   \n",
       "99989   88778394   88778394   \n",
       "99990  243886491  243886491   \n",
       "99991   54883578   54883578   \n",
       "99992  265005852  265005852   \n",
       "99993    4882833    4882833   \n",
       "99994   16161186   16161186   \n",
       "99995    4810647    4810647   \n",
       "99996   11532018   11532018   \n",
       "99997   45267540   45267540   \n",
       "99998  227278032  227278032   \n",
       "99999   55462125   55462125   \n",
       "\n",
       "                                         molecule_smiles  binds  \\\n",
       "99985  COC(=O)c1cc(F)c(F)cc1Nc1nc(Nc2nc3c(s2)CN(C(=O)...      0   \n",
       "99986  COc1nccc(C(=O)N[Dy])c1Nc1nc(Nc2ccccc2N2CCN(C(=...      0   \n",
       "99987  CCOC(=O)c1csc(Nc2nc(Nc3nc(C(=O)OCC)cs3)nc(Nc3c...      0   \n",
       "99988  CCON(C)C(=O)CNc1nc(NCc2c(F)ccc(F)c2OC)nc(Nc2nc...      0   \n",
       "99989  N#Cc1ccc(CNc2nc(Nc3ccc(-c4ncc[nH]4)cc3)nc(N[C@...      0   \n",
       "99990  O=C(C[C@@H](Cc1ccc(Br)cc1)Nc1nc(Nc2ccc(OC(F)F)...      0   \n",
       "99991  Cc1ccc(C(=O)N[Dy])cc1Nc1nc(NCc2c(C)nn(-c3ccccc...      0   \n",
       "99992  COc1ccc(Nc2nc(NCC3CCN(c4ccncc4)CC3)nc(N[C@H](C...      0   \n",
       "99993  C#CC[C@H](Nc1nc(NCc2nnc3n2CCOCC3)nc(NCC(C)c2nc...      0   \n",
       "99994  CC(C)(C)OC(=O)N1C[C@@H](Nc2nc(NCc3cnc(N4CCOCC4...      0   \n",
       "99995  C#CC[C@H](Nc1nc(NCCc2nc(-c3ccccc3)c(C)s2)nc(Nc...      0   \n",
       "99996  CC(=O)c1ccc(C[C@H](Nc2nc(NC[C@H]3CC[C@H](C(N)=...      0   \n",
       "99997  CSc1ccc(CNc2nc(NCCCOc3cccc(F)c3)nc(N3CCC[C@@]3...      0   \n",
       "99998  N#Cc1cnn(-c2ccccc2)c1Nc1nc(NCc2ncon2)nc(Nc2nc3...      0   \n",
       "99999  Cc1ccc(C(=O)N[Dy])cc1Nc1nc(Nc2cccc3[nH]ccc23)n...      0   \n",
       "\n",
       "       protein_name_BRD4  \\\n",
       "99985                1.0   \n",
       "99986                1.0   \n",
       "99987                1.0   \n",
       "99988                1.0   \n",
       "99989                1.0   \n",
       "99990                1.0   \n",
       "99991                1.0   \n",
       "99992                1.0   \n",
       "99993                1.0   \n",
       "99994                1.0   \n",
       "99995                1.0   \n",
       "99996                1.0   \n",
       "99997                1.0   \n",
       "99998                1.0   \n",
       "99999                1.0   \n",
       "\n",
       "       buildingblock1_smiles_C#CC[C@@H](CC(=O)O)NC(=O)OCC1c2ccccc2-c2ccccc21  \\\n",
       "99985                                                0.0                       \n",
       "99986                                                0.0                       \n",
       "99987                                                0.0                       \n",
       "99988                                                0.0                       \n",
       "99989                                                0.0                       \n",
       "99990                                                0.0                       \n",
       "99991                                                0.0                       \n",
       "99992                                                0.0                       \n",
       "99993                                                0.0                       \n",
       "99994                                                0.0                       \n",
       "99995                                                0.0                       \n",
       "99996                                                0.0                       \n",
       "99997                                                0.0                       \n",
       "99998                                                0.0                       \n",
       "99999                                                0.0                       \n",
       "\n",
       "       buildingblock1_smiles_C#CC[C@@H](NC(=O)OCC1c2ccccc2-c2ccccc21)C(=O)O  \\\n",
       "99985                                                0.0                      \n",
       "99986                                                0.0                      \n",
       "99987                                                0.0                      \n",
       "99988                                                0.0                      \n",
       "99989                                                0.0                      \n",
       "99990                                                0.0                      \n",
       "99991                                                0.0                      \n",
       "99992                                                0.0                      \n",
       "99993                                                0.0                      \n",
       "99994                                                0.0                      \n",
       "99995                                                0.0                      \n",
       "99996                                                0.0                      \n",
       "99997                                                0.0                      \n",
       "99998                                                0.0                      \n",
       "99999                                                0.0                      \n",
       "\n",
       "       buildingblock1_smiles_C#CC[C@@](C)(NC(=O)OCC1c2ccccc2-c2ccccc21)C(=O)O  \\\n",
       "99985                                                0.0                        \n",
       "99986                                                0.0                        \n",
       "99987                                                0.0                        \n",
       "99988                                                0.0                        \n",
       "99989                                                0.0                        \n",
       "99990                                                0.0                        \n",
       "99991                                                0.0                        \n",
       "99992                                                0.0                        \n",
       "99993                                                0.0                        \n",
       "99994                                                0.0                        \n",
       "99995                                                0.0                        \n",
       "99996                                                0.0                        \n",
       "99997                                                0.0                        \n",
       "99998                                                0.0                        \n",
       "99999                                                0.0                        \n",
       "\n",
       "       buildingblock1_smiles_C#CC[C@H](CC(=O)O)NC(=O)OCC1c2ccccc2-c2ccccc21  \\\n",
       "99985                                                0.0                      \n",
       "99986                                                0.0                      \n",
       "99987                                                0.0                      \n",
       "99988                                                0.0                      \n",
       "99989                                                0.0                      \n",
       "99990                                                0.0                      \n",
       "99991                                                0.0                      \n",
       "99992                                                0.0                      \n",
       "99993                                                0.0                      \n",
       "99994                                                0.0                      \n",
       "99995                                                0.0                      \n",
       "99996                                                0.0                      \n",
       "99997                                                0.0                      \n",
       "99998                                                0.0                      \n",
       "99999                                                0.0                      \n",
       "\n",
       "       buildingblock1_smiles_C#CC[C@H](NC(=O)OCC1c2ccccc2-c2ccccc21)C(=O)O  \\\n",
       "99985                                                0.0                     \n",
       "99986                                                0.0                     \n",
       "99987                                                0.0                     \n",
       "99988                                                0.0                     \n",
       "99989                                                0.0                     \n",
       "99990                                                0.0                     \n",
       "99991                                                0.0                     \n",
       "99992                                                0.0                     \n",
       "99993                                                1.0                     \n",
       "99994                                                0.0                     \n",
       "99995                                                1.0                     \n",
       "99996                                                0.0                     \n",
       "99997                                                0.0                     \n",
       "99998                                                0.0                     \n",
       "99999                                                0.0                     \n",
       "\n",
       "       ...  buildingblock3_smiles_Nc1ncnc(=O)[nH]1  \\\n",
       "99985  ...                                     0.0   \n",
       "99986  ...                                     0.0   \n",
       "99987  ...                                     0.0   \n",
       "99988  ...                                     0.0   \n",
       "99989  ...                                     0.0   \n",
       "99990  ...                                     0.0   \n",
       "99991  ...                                     0.0   \n",
       "99992  ...                                     0.0   \n",
       "99993  ...                                     0.0   \n",
       "99994  ...                                     0.0   \n",
       "99995  ...                                     0.0   \n",
       "99996  ...                                     0.0   \n",
       "99997  ...                                     0.0   \n",
       "99998  ...                                     0.0   \n",
       "99999  ...                                     0.0   \n",
       "\n",
       "       buildingblock3_smiles_Nc1ncnc(Cl)c1Cl  \\\n",
       "99985                                    0.0   \n",
       "99986                                    0.0   \n",
       "99987                                    0.0   \n",
       "99988                                    0.0   \n",
       "99989                                    0.0   \n",
       "99990                                    0.0   \n",
       "99991                                    0.0   \n",
       "99992                                    0.0   \n",
       "99993                                    0.0   \n",
       "99994                                    0.0   \n",
       "99995                                    0.0   \n",
       "99996                                    0.0   \n",
       "99997                                    0.0   \n",
       "99998                                    0.0   \n",
       "99999                                    0.0   \n",
       "\n",
       "       buildingblock3_smiles_Nc1ncnc2[nH]cnc12  \\\n",
       "99985                                      0.0   \n",
       "99986                                      0.0   \n",
       "99987                                      0.0   \n",
       "99988                                      0.0   \n",
       "99989                                      0.0   \n",
       "99990                                      0.0   \n",
       "99991                                      0.0   \n",
       "99992                                      0.0   \n",
       "99993                                      0.0   \n",
       "99994                                      0.0   \n",
       "99995                                      0.0   \n",
       "99996                                      0.0   \n",
       "99997                                      0.0   \n",
       "99998                                      0.0   \n",
       "99999                                      1.0   \n",
       "\n",
       "       buildingblock3_smiles_Nc1ncnc2[nH]ncc12  \\\n",
       "99985                                      0.0   \n",
       "99986                                      0.0   \n",
       "99987                                      0.0   \n",
       "99988                                      0.0   \n",
       "99989                                      0.0   \n",
       "99990                                      0.0   \n",
       "99991                                      0.0   \n",
       "99992                                      0.0   \n",
       "99993                                      0.0   \n",
       "99994                                      0.0   \n",
       "99995                                      0.0   \n",
       "99996                                      0.0   \n",
       "99997                                      0.0   \n",
       "99998                                      0.0   \n",
       "99999                                      0.0   \n",
       "\n",
       "       buildingblock3_smiles_Nc1ncnc2c1ncn2C1CCCCO1  \\\n",
       "99985                                           0.0   \n",
       "99986                                           0.0   \n",
       "99987                                           0.0   \n",
       "99988                                           0.0   \n",
       "99989                                           0.0   \n",
       "99990                                           0.0   \n",
       "99991                                           0.0   \n",
       "99992                                           0.0   \n",
       "99993                                           0.0   \n",
       "99994                                           0.0   \n",
       "99995                                           0.0   \n",
       "99996                                           0.0   \n",
       "99997                                           0.0   \n",
       "99998                                           0.0   \n",
       "99999                                           0.0   \n",
       "\n",
       "       buildingblock3_smiles_Nc1ncncc1Br  buildingblock3_smiles_Nc1nnc(S)s1  \\\n",
       "99985                                0.0                                0.0   \n",
       "99986                                0.0                                0.0   \n",
       "99987                                0.0                                0.0   \n",
       "99988                                0.0                                0.0   \n",
       "99989                                0.0                                0.0   \n",
       "99990                                0.0                                0.0   \n",
       "99991                                0.0                                0.0   \n",
       "99992                                0.0                                0.0   \n",
       "99993                                0.0                                0.0   \n",
       "99994                                0.0                                0.0   \n",
       "99995                                0.0                                0.0   \n",
       "99996                                0.0                                0.0   \n",
       "99997                                0.0                                0.0   \n",
       "99998                                0.0                                0.0   \n",
       "99999                                0.0                                0.0   \n",
       "\n",
       "       buildingblock3_smiles_Nc1nncs1  buildingblock3_smiles_Nc1nnn[nH]1  \\\n",
       "99985                             0.0                                0.0   \n",
       "99986                             0.0                                0.0   \n",
       "99987                             0.0                                0.0   \n",
       "99988                             0.0                                0.0   \n",
       "99989                             0.0                                0.0   \n",
       "99990                             0.0                                0.0   \n",
       "99991                             0.0                                0.0   \n",
       "99992                             0.0                                0.0   \n",
       "99993                             0.0                                0.0   \n",
       "99994                             0.0                                0.0   \n",
       "99995                             0.0                                0.0   \n",
       "99996                             0.0                                0.0   \n",
       "99997                             0.0                                0.0   \n",
       "99998                             0.0                                0.0   \n",
       "99999                             0.0                                0.0   \n",
       "\n",
       "       buildingblock3_smiles_Nc1noc2ccc(F)cc12  \n",
       "99985                                      0.0  \n",
       "99986                                      0.0  \n",
       "99987                                      0.0  \n",
       "99988                                      0.0  \n",
       "99989                                      0.0  \n",
       "99990                                      0.0  \n",
       "99991                                      0.0  \n",
       "99992                                      0.0  \n",
       "99993                                      0.0  \n",
       "99994                                      0.0  \n",
       "99995                                      0.0  \n",
       "99996                                      0.0  \n",
       "99997                                      0.0  \n",
       "99998                                      0.0  \n",
       "99999                                      0.0  \n",
       "\n",
       "[15 rows x 1837 columns]"
      ]
     },
     "execution_count": 18,
     "metadata": {},
     "output_type": "execute_result"
    }
   ],
   "source": [
    "datatrainbrd4.tail(15)"
   ]
  },
  {
   "cell_type": "markdown",
   "metadata": {},
   "source": [
    "Procederemos entonces a realizar la evaluación de la multicolinealidad."
   ]
  },
  {
   "cell_type": "markdown",
   "metadata": {},
   "source": [
    "#### Multicolinealidad: Chi-cuadrado"
   ]
  },
  {
   "cell_type": "markdown",
   "metadata": {},
   "source": [
    "Eliminaremos primeramente la variable `molecule_smiles`."
   ]
  },
  {
   "cell_type": "code",
   "execution_count": 19,
   "metadata": {},
   "outputs": [],
   "source": [
    "datatrainbrd4 = datatrainbrd4.drop(columns=['molecule_smiles'])"
   ]
  },
  {
   "cell_type": "code",
   "execution_count": 20,
   "metadata": {},
   "outputs": [
    {
     "data": {
      "text/html": [
       "<div>\n",
       "<style scoped>\n",
       "    .dataframe tbody tr th:only-of-type {\n",
       "        vertical-align: middle;\n",
       "    }\n",
       "\n",
       "    .dataframe tbody tr th {\n",
       "        vertical-align: top;\n",
       "    }\n",
       "\n",
       "    .dataframe thead th {\n",
       "        text-align: right;\n",
       "    }\n",
       "</style>\n",
       "<table border=\"1\" class=\"dataframe\">\n",
       "  <thead>\n",
       "    <tr style=\"text-align: right;\">\n",
       "      <th></th>\n",
       "      <th>index</th>\n",
       "      <th>id</th>\n",
       "      <th>binds</th>\n",
       "      <th>protein_name_BRD4</th>\n",
       "      <th>buildingblock1_smiles_C#CC[C@@H](CC(=O)O)NC(=O)OCC1c2ccccc2-c2ccccc21</th>\n",
       "      <th>buildingblock1_smiles_C#CC[C@@H](NC(=O)OCC1c2ccccc2-c2ccccc21)C(=O)O</th>\n",
       "      <th>buildingblock1_smiles_C#CC[C@@](C)(NC(=O)OCC1c2ccccc2-c2ccccc21)C(=O)O</th>\n",
       "      <th>buildingblock1_smiles_C#CC[C@H](CC(=O)O)NC(=O)OCC1c2ccccc2-c2ccccc21</th>\n",
       "      <th>buildingblock1_smiles_C#CC[C@H](NC(=O)OCC1c2ccccc2-c2ccccc21)C(=O)O</th>\n",
       "      <th>buildingblock1_smiles_C=CCC(CC=C)(NC(=O)OCC1c2ccccc2-c2ccccc21)C(=O)O</th>\n",
       "      <th>...</th>\n",
       "      <th>buildingblock3_smiles_Nc1ncnc(=O)[nH]1</th>\n",
       "      <th>buildingblock3_smiles_Nc1ncnc(Cl)c1Cl</th>\n",
       "      <th>buildingblock3_smiles_Nc1ncnc2[nH]cnc12</th>\n",
       "      <th>buildingblock3_smiles_Nc1ncnc2[nH]ncc12</th>\n",
       "      <th>buildingblock3_smiles_Nc1ncnc2c1ncn2C1CCCCO1</th>\n",
       "      <th>buildingblock3_smiles_Nc1ncncc1Br</th>\n",
       "      <th>buildingblock3_smiles_Nc1nnc(S)s1</th>\n",
       "      <th>buildingblock3_smiles_Nc1nncs1</th>\n",
       "      <th>buildingblock3_smiles_Nc1nnn[nH]1</th>\n",
       "      <th>buildingblock3_smiles_Nc1noc2ccc(F)cc12</th>\n",
       "    </tr>\n",
       "  </thead>\n",
       "  <tbody>\n",
       "    <tr>\n",
       "      <th>0</th>\n",
       "      <td>30461271</td>\n",
       "      <td>30461271</td>\n",
       "      <td>0</td>\n",
       "      <td>1.0</td>\n",
       "      <td>0.0</td>\n",
       "      <td>0.0</td>\n",
       "      <td>0.0</td>\n",
       "      <td>0.0</td>\n",
       "      <td>0.0</td>\n",
       "      <td>0.0</td>\n",
       "      <td>...</td>\n",
       "      <td>0.0</td>\n",
       "      <td>0.0</td>\n",
       "      <td>0.0</td>\n",
       "      <td>0.0</td>\n",
       "      <td>0.0</td>\n",
       "      <td>0.0</td>\n",
       "      <td>0.0</td>\n",
       "      <td>0.0</td>\n",
       "      <td>0.0</td>\n",
       "      <td>0.0</td>\n",
       "    </tr>\n",
       "    <tr>\n",
       "      <th>1</th>\n",
       "      <td>259257822</td>\n",
       "      <td>259257822</td>\n",
       "      <td>0</td>\n",
       "      <td>1.0</td>\n",
       "      <td>0.0</td>\n",
       "      <td>0.0</td>\n",
       "      <td>0.0</td>\n",
       "      <td>0.0</td>\n",
       "      <td>0.0</td>\n",
       "      <td>0.0</td>\n",
       "      <td>...</td>\n",
       "      <td>0.0</td>\n",
       "      <td>0.0</td>\n",
       "      <td>0.0</td>\n",
       "      <td>0.0</td>\n",
       "      <td>0.0</td>\n",
       "      <td>0.0</td>\n",
       "      <td>0.0</td>\n",
       "      <td>0.0</td>\n",
       "      <td>0.0</td>\n",
       "      <td>0.0</td>\n",
       "    </tr>\n",
       "    <tr>\n",
       "      <th>2</th>\n",
       "      <td>101635230</td>\n",
       "      <td>101635230</td>\n",
       "      <td>0</td>\n",
       "      <td>1.0</td>\n",
       "      <td>0.0</td>\n",
       "      <td>0.0</td>\n",
       "      <td>0.0</td>\n",
       "      <td>0.0</td>\n",
       "      <td>0.0</td>\n",
       "      <td>0.0</td>\n",
       "      <td>...</td>\n",
       "      <td>0.0</td>\n",
       "      <td>0.0</td>\n",
       "      <td>0.0</td>\n",
       "      <td>0.0</td>\n",
       "      <td>0.0</td>\n",
       "      <td>0.0</td>\n",
       "      <td>0.0</td>\n",
       "      <td>0.0</td>\n",
       "      <td>0.0</td>\n",
       "      <td>0.0</td>\n",
       "    </tr>\n",
       "    <tr>\n",
       "      <th>3</th>\n",
       "      <td>19527021</td>\n",
       "      <td>19527021</td>\n",
       "      <td>1</td>\n",
       "      <td>1.0</td>\n",
       "      <td>0.0</td>\n",
       "      <td>0.0</td>\n",
       "      <td>0.0</td>\n",
       "      <td>0.0</td>\n",
       "      <td>0.0</td>\n",
       "      <td>0.0</td>\n",
       "      <td>...</td>\n",
       "      <td>0.0</td>\n",
       "      <td>0.0</td>\n",
       "      <td>0.0</td>\n",
       "      <td>0.0</td>\n",
       "      <td>0.0</td>\n",
       "      <td>0.0</td>\n",
       "      <td>0.0</td>\n",
       "      <td>0.0</td>\n",
       "      <td>0.0</td>\n",
       "      <td>0.0</td>\n",
       "    </tr>\n",
       "    <tr>\n",
       "      <th>4</th>\n",
       "      <td>187891824</td>\n",
       "      <td>187891824</td>\n",
       "      <td>0</td>\n",
       "      <td>1.0</td>\n",
       "      <td>0.0</td>\n",
       "      <td>0.0</td>\n",
       "      <td>0.0</td>\n",
       "      <td>0.0</td>\n",
       "      <td>0.0</td>\n",
       "      <td>0.0</td>\n",
       "      <td>...</td>\n",
       "      <td>0.0</td>\n",
       "      <td>0.0</td>\n",
       "      <td>0.0</td>\n",
       "      <td>0.0</td>\n",
       "      <td>0.0</td>\n",
       "      <td>0.0</td>\n",
       "      <td>0.0</td>\n",
       "      <td>0.0</td>\n",
       "      <td>0.0</td>\n",
       "      <td>0.0</td>\n",
       "    </tr>\n",
       "    <tr>\n",
       "      <th>...</th>\n",
       "      <td>...</td>\n",
       "      <td>...</td>\n",
       "      <td>...</td>\n",
       "      <td>...</td>\n",
       "      <td>...</td>\n",
       "      <td>...</td>\n",
       "      <td>...</td>\n",
       "      <td>...</td>\n",
       "      <td>...</td>\n",
       "      <td>...</td>\n",
       "      <td>...</td>\n",
       "      <td>...</td>\n",
       "      <td>...</td>\n",
       "      <td>...</td>\n",
       "      <td>...</td>\n",
       "      <td>...</td>\n",
       "      <td>...</td>\n",
       "      <td>...</td>\n",
       "      <td>...</td>\n",
       "      <td>...</td>\n",
       "      <td>...</td>\n",
       "    </tr>\n",
       "    <tr>\n",
       "      <th>99995</th>\n",
       "      <td>4810647</td>\n",
       "      <td>4810647</td>\n",
       "      <td>0</td>\n",
       "      <td>1.0</td>\n",
       "      <td>0.0</td>\n",
       "      <td>0.0</td>\n",
       "      <td>0.0</td>\n",
       "      <td>0.0</td>\n",
       "      <td>1.0</td>\n",
       "      <td>0.0</td>\n",
       "      <td>...</td>\n",
       "      <td>0.0</td>\n",
       "      <td>0.0</td>\n",
       "      <td>0.0</td>\n",
       "      <td>0.0</td>\n",
       "      <td>0.0</td>\n",
       "      <td>0.0</td>\n",
       "      <td>0.0</td>\n",
       "      <td>0.0</td>\n",
       "      <td>0.0</td>\n",
       "      <td>0.0</td>\n",
       "    </tr>\n",
       "    <tr>\n",
       "      <th>99996</th>\n",
       "      <td>11532018</td>\n",
       "      <td>11532018</td>\n",
       "      <td>0</td>\n",
       "      <td>1.0</td>\n",
       "      <td>0.0</td>\n",
       "      <td>0.0</td>\n",
       "      <td>0.0</td>\n",
       "      <td>0.0</td>\n",
       "      <td>0.0</td>\n",
       "      <td>0.0</td>\n",
       "      <td>...</td>\n",
       "      <td>0.0</td>\n",
       "      <td>0.0</td>\n",
       "      <td>0.0</td>\n",
       "      <td>0.0</td>\n",
       "      <td>0.0</td>\n",
       "      <td>0.0</td>\n",
       "      <td>0.0</td>\n",
       "      <td>0.0</td>\n",
       "      <td>0.0</td>\n",
       "      <td>0.0</td>\n",
       "    </tr>\n",
       "    <tr>\n",
       "      <th>99997</th>\n",
       "      <td>45267540</td>\n",
       "      <td>45267540</td>\n",
       "      <td>0</td>\n",
       "      <td>1.0</td>\n",
       "      <td>0.0</td>\n",
       "      <td>0.0</td>\n",
       "      <td>0.0</td>\n",
       "      <td>0.0</td>\n",
       "      <td>0.0</td>\n",
       "      <td>0.0</td>\n",
       "      <td>...</td>\n",
       "      <td>0.0</td>\n",
       "      <td>0.0</td>\n",
       "      <td>0.0</td>\n",
       "      <td>0.0</td>\n",
       "      <td>0.0</td>\n",
       "      <td>0.0</td>\n",
       "      <td>0.0</td>\n",
       "      <td>0.0</td>\n",
       "      <td>0.0</td>\n",
       "      <td>0.0</td>\n",
       "    </tr>\n",
       "    <tr>\n",
       "      <th>99998</th>\n",
       "      <td>227278032</td>\n",
       "      <td>227278032</td>\n",
       "      <td>0</td>\n",
       "      <td>1.0</td>\n",
       "      <td>0.0</td>\n",
       "      <td>0.0</td>\n",
       "      <td>0.0</td>\n",
       "      <td>0.0</td>\n",
       "      <td>0.0</td>\n",
       "      <td>0.0</td>\n",
       "      <td>...</td>\n",
       "      <td>0.0</td>\n",
       "      <td>0.0</td>\n",
       "      <td>0.0</td>\n",
       "      <td>0.0</td>\n",
       "      <td>0.0</td>\n",
       "      <td>0.0</td>\n",
       "      <td>0.0</td>\n",
       "      <td>0.0</td>\n",
       "      <td>0.0</td>\n",
       "      <td>0.0</td>\n",
       "    </tr>\n",
       "    <tr>\n",
       "      <th>99999</th>\n",
       "      <td>55462125</td>\n",
       "      <td>55462125</td>\n",
       "      <td>0</td>\n",
       "      <td>1.0</td>\n",
       "      <td>0.0</td>\n",
       "      <td>0.0</td>\n",
       "      <td>0.0</td>\n",
       "      <td>0.0</td>\n",
       "      <td>0.0</td>\n",
       "      <td>0.0</td>\n",
       "      <td>...</td>\n",
       "      <td>0.0</td>\n",
       "      <td>0.0</td>\n",
       "      <td>1.0</td>\n",
       "      <td>0.0</td>\n",
       "      <td>0.0</td>\n",
       "      <td>0.0</td>\n",
       "      <td>0.0</td>\n",
       "      <td>0.0</td>\n",
       "      <td>0.0</td>\n",
       "      <td>0.0</td>\n",
       "    </tr>\n",
       "  </tbody>\n",
       "</table>\n",
       "<p>100000 rows × 1836 columns</p>\n",
       "</div>"
      ],
      "text/plain": [
       "           index         id  binds  protein_name_BRD4  \\\n",
       "0       30461271   30461271      0                1.0   \n",
       "1      259257822  259257822      0                1.0   \n",
       "2      101635230  101635230      0                1.0   \n",
       "3       19527021   19527021      1                1.0   \n",
       "4      187891824  187891824      0                1.0   \n",
       "...          ...        ...    ...                ...   \n",
       "99995    4810647    4810647      0                1.0   \n",
       "99996   11532018   11532018      0                1.0   \n",
       "99997   45267540   45267540      0                1.0   \n",
       "99998  227278032  227278032      0                1.0   \n",
       "99999   55462125   55462125      0                1.0   \n",
       "\n",
       "       buildingblock1_smiles_C#CC[C@@H](CC(=O)O)NC(=O)OCC1c2ccccc2-c2ccccc21  \\\n",
       "0                                                    0.0                       \n",
       "1                                                    0.0                       \n",
       "2                                                    0.0                       \n",
       "3                                                    0.0                       \n",
       "4                                                    0.0                       \n",
       "...                                                  ...                       \n",
       "99995                                                0.0                       \n",
       "99996                                                0.0                       \n",
       "99997                                                0.0                       \n",
       "99998                                                0.0                       \n",
       "99999                                                0.0                       \n",
       "\n",
       "       buildingblock1_smiles_C#CC[C@@H](NC(=O)OCC1c2ccccc2-c2ccccc21)C(=O)O  \\\n",
       "0                                                    0.0                      \n",
       "1                                                    0.0                      \n",
       "2                                                    0.0                      \n",
       "3                                                    0.0                      \n",
       "4                                                    0.0                      \n",
       "...                                                  ...                      \n",
       "99995                                                0.0                      \n",
       "99996                                                0.0                      \n",
       "99997                                                0.0                      \n",
       "99998                                                0.0                      \n",
       "99999                                                0.0                      \n",
       "\n",
       "       buildingblock1_smiles_C#CC[C@@](C)(NC(=O)OCC1c2ccccc2-c2ccccc21)C(=O)O  \\\n",
       "0                                                    0.0                        \n",
       "1                                                    0.0                        \n",
       "2                                                    0.0                        \n",
       "3                                                    0.0                        \n",
       "4                                                    0.0                        \n",
       "...                                                  ...                        \n",
       "99995                                                0.0                        \n",
       "99996                                                0.0                        \n",
       "99997                                                0.0                        \n",
       "99998                                                0.0                        \n",
       "99999                                                0.0                        \n",
       "\n",
       "       buildingblock1_smiles_C#CC[C@H](CC(=O)O)NC(=O)OCC1c2ccccc2-c2ccccc21  \\\n",
       "0                                                    0.0                      \n",
       "1                                                    0.0                      \n",
       "2                                                    0.0                      \n",
       "3                                                    0.0                      \n",
       "4                                                    0.0                      \n",
       "...                                                  ...                      \n",
       "99995                                                0.0                      \n",
       "99996                                                0.0                      \n",
       "99997                                                0.0                      \n",
       "99998                                                0.0                      \n",
       "99999                                                0.0                      \n",
       "\n",
       "       buildingblock1_smiles_C#CC[C@H](NC(=O)OCC1c2ccccc2-c2ccccc21)C(=O)O  \\\n",
       "0                                                    0.0                     \n",
       "1                                                    0.0                     \n",
       "2                                                    0.0                     \n",
       "3                                                    0.0                     \n",
       "4                                                    0.0                     \n",
       "...                                                  ...                     \n",
       "99995                                                1.0                     \n",
       "99996                                                0.0                     \n",
       "99997                                                0.0                     \n",
       "99998                                                0.0                     \n",
       "99999                                                0.0                     \n",
       "\n",
       "       buildingblock1_smiles_C=CCC(CC=C)(NC(=O)OCC1c2ccccc2-c2ccccc21)C(=O)O  \\\n",
       "0                                                    0.0                       \n",
       "1                                                    0.0                       \n",
       "2                                                    0.0                       \n",
       "3                                                    0.0                       \n",
       "4                                                    0.0                       \n",
       "...                                                  ...                       \n",
       "99995                                                0.0                       \n",
       "99996                                                0.0                       \n",
       "99997                                                0.0                       \n",
       "99998                                                0.0                       \n",
       "99999                                                0.0                       \n",
       "\n",
       "       ...  buildingblock3_smiles_Nc1ncnc(=O)[nH]1  \\\n",
       "0      ...                                     0.0   \n",
       "1      ...                                     0.0   \n",
       "2      ...                                     0.0   \n",
       "3      ...                                     0.0   \n",
       "4      ...                                     0.0   \n",
       "...    ...                                     ...   \n",
       "99995  ...                                     0.0   \n",
       "99996  ...                                     0.0   \n",
       "99997  ...                                     0.0   \n",
       "99998  ...                                     0.0   \n",
       "99999  ...                                     0.0   \n",
       "\n",
       "       buildingblock3_smiles_Nc1ncnc(Cl)c1Cl  \\\n",
       "0                                        0.0   \n",
       "1                                        0.0   \n",
       "2                                        0.0   \n",
       "3                                        0.0   \n",
       "4                                        0.0   \n",
       "...                                      ...   \n",
       "99995                                    0.0   \n",
       "99996                                    0.0   \n",
       "99997                                    0.0   \n",
       "99998                                    0.0   \n",
       "99999                                    0.0   \n",
       "\n",
       "       buildingblock3_smiles_Nc1ncnc2[nH]cnc12  \\\n",
       "0                                          0.0   \n",
       "1                                          0.0   \n",
       "2                                          0.0   \n",
       "3                                          0.0   \n",
       "4                                          0.0   \n",
       "...                                        ...   \n",
       "99995                                      0.0   \n",
       "99996                                      0.0   \n",
       "99997                                      0.0   \n",
       "99998                                      0.0   \n",
       "99999                                      1.0   \n",
       "\n",
       "       buildingblock3_smiles_Nc1ncnc2[nH]ncc12  \\\n",
       "0                                          0.0   \n",
       "1                                          0.0   \n",
       "2                                          0.0   \n",
       "3                                          0.0   \n",
       "4                                          0.0   \n",
       "...                                        ...   \n",
       "99995                                      0.0   \n",
       "99996                                      0.0   \n",
       "99997                                      0.0   \n",
       "99998                                      0.0   \n",
       "99999                                      0.0   \n",
       "\n",
       "       buildingblock3_smiles_Nc1ncnc2c1ncn2C1CCCCO1  \\\n",
       "0                                               0.0   \n",
       "1                                               0.0   \n",
       "2                                               0.0   \n",
       "3                                               0.0   \n",
       "4                                               0.0   \n",
       "...                                             ...   \n",
       "99995                                           0.0   \n",
       "99996                                           0.0   \n",
       "99997                                           0.0   \n",
       "99998                                           0.0   \n",
       "99999                                           0.0   \n",
       "\n",
       "       buildingblock3_smiles_Nc1ncncc1Br  buildingblock3_smiles_Nc1nnc(S)s1  \\\n",
       "0                                    0.0                                0.0   \n",
       "1                                    0.0                                0.0   \n",
       "2                                    0.0                                0.0   \n",
       "3                                    0.0                                0.0   \n",
       "4                                    0.0                                0.0   \n",
       "...                                  ...                                ...   \n",
       "99995                                0.0                                0.0   \n",
       "99996                                0.0                                0.0   \n",
       "99997                                0.0                                0.0   \n",
       "99998                                0.0                                0.0   \n",
       "99999                                0.0                                0.0   \n",
       "\n",
       "       buildingblock3_smiles_Nc1nncs1  buildingblock3_smiles_Nc1nnn[nH]1  \\\n",
       "0                                 0.0                                0.0   \n",
       "1                                 0.0                                0.0   \n",
       "2                                 0.0                                0.0   \n",
       "3                                 0.0                                0.0   \n",
       "4                                 0.0                                0.0   \n",
       "...                               ...                                ...   \n",
       "99995                             0.0                                0.0   \n",
       "99996                             0.0                                0.0   \n",
       "99997                             0.0                                0.0   \n",
       "99998                             0.0                                0.0   \n",
       "99999                             0.0                                0.0   \n",
       "\n",
       "       buildingblock3_smiles_Nc1noc2ccc(F)cc12  \n",
       "0                                          0.0  \n",
       "1                                          0.0  \n",
       "2                                          0.0  \n",
       "3                                          0.0  \n",
       "4                                          0.0  \n",
       "...                                        ...  \n",
       "99995                                      0.0  \n",
       "99996                                      0.0  \n",
       "99997                                      0.0  \n",
       "99998                                      0.0  \n",
       "99999                                      0.0  \n",
       "\n",
       "[100000 rows x 1836 columns]"
      ]
     },
     "execution_count": 20,
     "metadata": {},
     "output_type": "execute_result"
    }
   ],
   "source": [
    "datatrainbrd4"
   ]
  },
  {
   "cell_type": "markdown",
   "metadata": {},
   "source": [
    "Nuevamente haremos uso de la función `SelectKBest` con k= 150."
   ]
  },
  {
   "cell_type": "code",
   "execution_count": 21,
   "metadata": {},
   "outputs": [],
   "source": [
    "unionbrd4 = datatrainbrd4['binds']\n",
    "\n",
    "bestbrd4 = SelectKBest(score_func = chi2, k = 150)  \n",
    "X_brd4 = bestbrd4.fit_transform(datatrainbrd4, unionbrd4)\n",
    "\n",
    "caracselec_brd4 = bestbrd4.get_support(indices=True) \n",
    "colineal_brd4 = datatrainbrd4.iloc[:, caracselec_brd4]"
   ]
  },
  {
   "cell_type": "code",
   "execution_count": 22,
   "metadata": {},
   "outputs": [
    {
     "data": {
      "text/html": [
       "<div>\n",
       "<style scoped>\n",
       "    .dataframe tbody tr th:only-of-type {\n",
       "        vertical-align: middle;\n",
       "    }\n",
       "\n",
       "    .dataframe tbody tr th {\n",
       "        vertical-align: top;\n",
       "    }\n",
       "\n",
       "    .dataframe thead th {\n",
       "        text-align: right;\n",
       "    }\n",
       "</style>\n",
       "<table border=\"1\" class=\"dataframe\">\n",
       "  <thead>\n",
       "    <tr style=\"text-align: right;\">\n",
       "      <th></th>\n",
       "      <th>index</th>\n",
       "      <th>id</th>\n",
       "      <th>binds</th>\n",
       "      <th>buildingblock1_smiles_CC(C)(C)OC(=O)CCC(NC(=O)OCC1c2ccccc2-c2ccccc21)C(=O)O</th>\n",
       "      <th>buildingblock1_smiles_CC(C)(C)OCC(NC(=O)OCC1c2ccccc2-c2ccccc21)C(=O)O</th>\n",
       "      <th>buildingblock1_smiles_CC(C)CC(NC(=O)OCC1c2ccccc2-c2ccccc21)C(=O)O</th>\n",
       "      <th>buildingblock1_smiles_CC(OC(C)(C)C)C(NC(=O)OCC1c2ccccc2-c2ccccc21)C(=O)O</th>\n",
       "      <th>buildingblock1_smiles_CCC(C)C(NC(=O)OCC1c2ccccc2-c2ccccc21)C(=O)O</th>\n",
       "      <th>buildingblock1_smiles_CCCCC(NC(=O)OCC1c2ccccc2-c2ccccc21)C(=O)O</th>\n",
       "      <th>buildingblock1_smiles_COc1ccc(C(=O)O)c(NC(=O)OCC2c3ccccc3-c3ccccc32)c1</th>\n",
       "      <th>...</th>\n",
       "      <th>buildingblock3_smiles_Nc1ccc(Cl)nc1</th>\n",
       "      <th>buildingblock3_smiles_Nc1ccc2c(c1)C(O)CCC2</th>\n",
       "      <th>buildingblock3_smiles_Nc1ccc2c(c1)CCC2=O</th>\n",
       "      <th>buildingblock3_smiles_Nc1ccc2c(c1)CCCC2=O</th>\n",
       "      <th>buildingblock3_smiles_Nc1ccc2c(c1)CNC2=O</th>\n",
       "      <th>buildingblock3_smiles_Nc1ccc2c(c1)COC2=O</th>\n",
       "      <th>buildingblock3_smiles_Nc1ccc2c(c1)OCO2</th>\n",
       "      <th>buildingblock3_smiles_Nc1nc2c(s1)CN(C(=O)OCc1ccccc1)CC2</th>\n",
       "      <th>buildingblock3_smiles_Nc1nc[nH]n1</th>\n",
       "      <th>buildingblock3_smiles_Nc1ncnc2[nH]ncc12</th>\n",
       "    </tr>\n",
       "  </thead>\n",
       "  <tbody>\n",
       "    <tr>\n",
       "      <th>0</th>\n",
       "      <td>30461271</td>\n",
       "      <td>30461271</td>\n",
       "      <td>0</td>\n",
       "      <td>0.0</td>\n",
       "      <td>0.0</td>\n",
       "      <td>0.0</td>\n",
       "      <td>0.0</td>\n",
       "      <td>0.0</td>\n",
       "      <td>0.0</td>\n",
       "      <td>0.0</td>\n",
       "      <td>...</td>\n",
       "      <td>0.0</td>\n",
       "      <td>0.0</td>\n",
       "      <td>0.0</td>\n",
       "      <td>0.0</td>\n",
       "      <td>0.0</td>\n",
       "      <td>0.0</td>\n",
       "      <td>0.0</td>\n",
       "      <td>0.0</td>\n",
       "      <td>0.0</td>\n",
       "      <td>0.0</td>\n",
       "    </tr>\n",
       "    <tr>\n",
       "      <th>1</th>\n",
       "      <td>259257822</td>\n",
       "      <td>259257822</td>\n",
       "      <td>0</td>\n",
       "      <td>0.0</td>\n",
       "      <td>0.0</td>\n",
       "      <td>0.0</td>\n",
       "      <td>0.0</td>\n",
       "      <td>0.0</td>\n",
       "      <td>0.0</td>\n",
       "      <td>0.0</td>\n",
       "      <td>...</td>\n",
       "      <td>0.0</td>\n",
       "      <td>0.0</td>\n",
       "      <td>0.0</td>\n",
       "      <td>0.0</td>\n",
       "      <td>0.0</td>\n",
       "      <td>1.0</td>\n",
       "      <td>0.0</td>\n",
       "      <td>0.0</td>\n",
       "      <td>0.0</td>\n",
       "      <td>0.0</td>\n",
       "    </tr>\n",
       "    <tr>\n",
       "      <th>2</th>\n",
       "      <td>101635230</td>\n",
       "      <td>101635230</td>\n",
       "      <td>0</td>\n",
       "      <td>0.0</td>\n",
       "      <td>0.0</td>\n",
       "      <td>0.0</td>\n",
       "      <td>0.0</td>\n",
       "      <td>0.0</td>\n",
       "      <td>0.0</td>\n",
       "      <td>0.0</td>\n",
       "      <td>...</td>\n",
       "      <td>0.0</td>\n",
       "      <td>0.0</td>\n",
       "      <td>0.0</td>\n",
       "      <td>0.0</td>\n",
       "      <td>0.0</td>\n",
       "      <td>0.0</td>\n",
       "      <td>0.0</td>\n",
       "      <td>0.0</td>\n",
       "      <td>0.0</td>\n",
       "      <td>0.0</td>\n",
       "    </tr>\n",
       "    <tr>\n",
       "      <th>3</th>\n",
       "      <td>19527021</td>\n",
       "      <td>19527021</td>\n",
       "      <td>1</td>\n",
       "      <td>0.0</td>\n",
       "      <td>0.0</td>\n",
       "      <td>0.0</td>\n",
       "      <td>1.0</td>\n",
       "      <td>0.0</td>\n",
       "      <td>0.0</td>\n",
       "      <td>0.0</td>\n",
       "      <td>...</td>\n",
       "      <td>0.0</td>\n",
       "      <td>0.0</td>\n",
       "      <td>0.0</td>\n",
       "      <td>0.0</td>\n",
       "      <td>0.0</td>\n",
       "      <td>0.0</td>\n",
       "      <td>0.0</td>\n",
       "      <td>0.0</td>\n",
       "      <td>0.0</td>\n",
       "      <td>0.0</td>\n",
       "    </tr>\n",
       "    <tr>\n",
       "      <th>4</th>\n",
       "      <td>187891824</td>\n",
       "      <td>187891824</td>\n",
       "      <td>0</td>\n",
       "      <td>0.0</td>\n",
       "      <td>0.0</td>\n",
       "      <td>0.0</td>\n",
       "      <td>0.0</td>\n",
       "      <td>0.0</td>\n",
       "      <td>0.0</td>\n",
       "      <td>0.0</td>\n",
       "      <td>...</td>\n",
       "      <td>0.0</td>\n",
       "      <td>0.0</td>\n",
       "      <td>0.0</td>\n",
       "      <td>0.0</td>\n",
       "      <td>0.0</td>\n",
       "      <td>0.0</td>\n",
       "      <td>0.0</td>\n",
       "      <td>0.0</td>\n",
       "      <td>0.0</td>\n",
       "      <td>0.0</td>\n",
       "    </tr>\n",
       "    <tr>\n",
       "      <th>...</th>\n",
       "      <td>...</td>\n",
       "      <td>...</td>\n",
       "      <td>...</td>\n",
       "      <td>...</td>\n",
       "      <td>...</td>\n",
       "      <td>...</td>\n",
       "      <td>...</td>\n",
       "      <td>...</td>\n",
       "      <td>...</td>\n",
       "      <td>...</td>\n",
       "      <td>...</td>\n",
       "      <td>...</td>\n",
       "      <td>...</td>\n",
       "      <td>...</td>\n",
       "      <td>...</td>\n",
       "      <td>...</td>\n",
       "      <td>...</td>\n",
       "      <td>...</td>\n",
       "      <td>...</td>\n",
       "      <td>...</td>\n",
       "      <td>...</td>\n",
       "    </tr>\n",
       "    <tr>\n",
       "      <th>99995</th>\n",
       "      <td>4810647</td>\n",
       "      <td>4810647</td>\n",
       "      <td>0</td>\n",
       "      <td>0.0</td>\n",
       "      <td>0.0</td>\n",
       "      <td>0.0</td>\n",
       "      <td>0.0</td>\n",
       "      <td>0.0</td>\n",
       "      <td>0.0</td>\n",
       "      <td>0.0</td>\n",
       "      <td>...</td>\n",
       "      <td>0.0</td>\n",
       "      <td>0.0</td>\n",
       "      <td>0.0</td>\n",
       "      <td>0.0</td>\n",
       "      <td>0.0</td>\n",
       "      <td>0.0</td>\n",
       "      <td>0.0</td>\n",
       "      <td>0.0</td>\n",
       "      <td>0.0</td>\n",
       "      <td>0.0</td>\n",
       "    </tr>\n",
       "    <tr>\n",
       "      <th>99996</th>\n",
       "      <td>11532018</td>\n",
       "      <td>11532018</td>\n",
       "      <td>0</td>\n",
       "      <td>0.0</td>\n",
       "      <td>0.0</td>\n",
       "      <td>0.0</td>\n",
       "      <td>0.0</td>\n",
       "      <td>0.0</td>\n",
       "      <td>0.0</td>\n",
       "      <td>0.0</td>\n",
       "      <td>...</td>\n",
       "      <td>0.0</td>\n",
       "      <td>0.0</td>\n",
       "      <td>0.0</td>\n",
       "      <td>0.0</td>\n",
       "      <td>0.0</td>\n",
       "      <td>0.0</td>\n",
       "      <td>0.0</td>\n",
       "      <td>0.0</td>\n",
       "      <td>0.0</td>\n",
       "      <td>0.0</td>\n",
       "    </tr>\n",
       "    <tr>\n",
       "      <th>99997</th>\n",
       "      <td>45267540</td>\n",
       "      <td>45267540</td>\n",
       "      <td>0</td>\n",
       "      <td>0.0</td>\n",
       "      <td>0.0</td>\n",
       "      <td>0.0</td>\n",
       "      <td>0.0</td>\n",
       "      <td>0.0</td>\n",
       "      <td>0.0</td>\n",
       "      <td>0.0</td>\n",
       "      <td>...</td>\n",
       "      <td>0.0</td>\n",
       "      <td>0.0</td>\n",
       "      <td>0.0</td>\n",
       "      <td>0.0</td>\n",
       "      <td>0.0</td>\n",
       "      <td>0.0</td>\n",
       "      <td>0.0</td>\n",
       "      <td>0.0</td>\n",
       "      <td>0.0</td>\n",
       "      <td>0.0</td>\n",
       "    </tr>\n",
       "    <tr>\n",
       "      <th>99998</th>\n",
       "      <td>227278032</td>\n",
       "      <td>227278032</td>\n",
       "      <td>0</td>\n",
       "      <td>0.0</td>\n",
       "      <td>0.0</td>\n",
       "      <td>0.0</td>\n",
       "      <td>0.0</td>\n",
       "      <td>0.0</td>\n",
       "      <td>0.0</td>\n",
       "      <td>0.0</td>\n",
       "      <td>...</td>\n",
       "      <td>0.0</td>\n",
       "      <td>0.0</td>\n",
       "      <td>0.0</td>\n",
       "      <td>0.0</td>\n",
       "      <td>0.0</td>\n",
       "      <td>0.0</td>\n",
       "      <td>0.0</td>\n",
       "      <td>0.0</td>\n",
       "      <td>0.0</td>\n",
       "      <td>0.0</td>\n",
       "    </tr>\n",
       "    <tr>\n",
       "      <th>99999</th>\n",
       "      <td>55462125</td>\n",
       "      <td>55462125</td>\n",
       "      <td>0</td>\n",
       "      <td>0.0</td>\n",
       "      <td>0.0</td>\n",
       "      <td>0.0</td>\n",
       "      <td>0.0</td>\n",
       "      <td>0.0</td>\n",
       "      <td>0.0</td>\n",
       "      <td>0.0</td>\n",
       "      <td>...</td>\n",
       "      <td>0.0</td>\n",
       "      <td>0.0</td>\n",
       "      <td>0.0</td>\n",
       "      <td>0.0</td>\n",
       "      <td>0.0</td>\n",
       "      <td>0.0</td>\n",
       "      <td>0.0</td>\n",
       "      <td>0.0</td>\n",
       "      <td>0.0</td>\n",
       "      <td>0.0</td>\n",
       "    </tr>\n",
       "  </tbody>\n",
       "</table>\n",
       "<p>100000 rows × 150 columns</p>\n",
       "</div>"
      ],
      "text/plain": [
       "           index         id  binds  \\\n",
       "0       30461271   30461271      0   \n",
       "1      259257822  259257822      0   \n",
       "2      101635230  101635230      0   \n",
       "3       19527021   19527021      1   \n",
       "4      187891824  187891824      0   \n",
       "...          ...        ...    ...   \n",
       "99995    4810647    4810647      0   \n",
       "99996   11532018   11532018      0   \n",
       "99997   45267540   45267540      0   \n",
       "99998  227278032  227278032      0   \n",
       "99999   55462125   55462125      0   \n",
       "\n",
       "       buildingblock1_smiles_CC(C)(C)OC(=O)CCC(NC(=O)OCC1c2ccccc2-c2ccccc21)C(=O)O  \\\n",
       "0                                                    0.0                             \n",
       "1                                                    0.0                             \n",
       "2                                                    0.0                             \n",
       "3                                                    0.0                             \n",
       "4                                                    0.0                             \n",
       "...                                                  ...                             \n",
       "99995                                                0.0                             \n",
       "99996                                                0.0                             \n",
       "99997                                                0.0                             \n",
       "99998                                                0.0                             \n",
       "99999                                                0.0                             \n",
       "\n",
       "       buildingblock1_smiles_CC(C)(C)OCC(NC(=O)OCC1c2ccccc2-c2ccccc21)C(=O)O  \\\n",
       "0                                                    0.0                       \n",
       "1                                                    0.0                       \n",
       "2                                                    0.0                       \n",
       "3                                                    0.0                       \n",
       "4                                                    0.0                       \n",
       "...                                                  ...                       \n",
       "99995                                                0.0                       \n",
       "99996                                                0.0                       \n",
       "99997                                                0.0                       \n",
       "99998                                                0.0                       \n",
       "99999                                                0.0                       \n",
       "\n",
       "       buildingblock1_smiles_CC(C)CC(NC(=O)OCC1c2ccccc2-c2ccccc21)C(=O)O  \\\n",
       "0                                                    0.0                   \n",
       "1                                                    0.0                   \n",
       "2                                                    0.0                   \n",
       "3                                                    0.0                   \n",
       "4                                                    0.0                   \n",
       "...                                                  ...                   \n",
       "99995                                                0.0                   \n",
       "99996                                                0.0                   \n",
       "99997                                                0.0                   \n",
       "99998                                                0.0                   \n",
       "99999                                                0.0                   \n",
       "\n",
       "       buildingblock1_smiles_CC(OC(C)(C)C)C(NC(=O)OCC1c2ccccc2-c2ccccc21)C(=O)O  \\\n",
       "0                                                    0.0                          \n",
       "1                                                    0.0                          \n",
       "2                                                    0.0                          \n",
       "3                                                    1.0                          \n",
       "4                                                    0.0                          \n",
       "...                                                  ...                          \n",
       "99995                                                0.0                          \n",
       "99996                                                0.0                          \n",
       "99997                                                0.0                          \n",
       "99998                                                0.0                          \n",
       "99999                                                0.0                          \n",
       "\n",
       "       buildingblock1_smiles_CCC(C)C(NC(=O)OCC1c2ccccc2-c2ccccc21)C(=O)O  \\\n",
       "0                                                    0.0                   \n",
       "1                                                    0.0                   \n",
       "2                                                    0.0                   \n",
       "3                                                    0.0                   \n",
       "4                                                    0.0                   \n",
       "...                                                  ...                   \n",
       "99995                                                0.0                   \n",
       "99996                                                0.0                   \n",
       "99997                                                0.0                   \n",
       "99998                                                0.0                   \n",
       "99999                                                0.0                   \n",
       "\n",
       "       buildingblock1_smiles_CCCCC(NC(=O)OCC1c2ccccc2-c2ccccc21)C(=O)O  \\\n",
       "0                                                    0.0                 \n",
       "1                                                    0.0                 \n",
       "2                                                    0.0                 \n",
       "3                                                    0.0                 \n",
       "4                                                    0.0                 \n",
       "...                                                  ...                 \n",
       "99995                                                0.0                 \n",
       "99996                                                0.0                 \n",
       "99997                                                0.0                 \n",
       "99998                                                0.0                 \n",
       "99999                                                0.0                 \n",
       "\n",
       "       buildingblock1_smiles_COc1ccc(C(=O)O)c(NC(=O)OCC2c3ccccc3-c3ccccc32)c1  \\\n",
       "0                                                    0.0                        \n",
       "1                                                    0.0                        \n",
       "2                                                    0.0                        \n",
       "3                                                    0.0                        \n",
       "4                                                    0.0                        \n",
       "...                                                  ...                        \n",
       "99995                                                0.0                        \n",
       "99996                                                0.0                        \n",
       "99997                                                0.0                        \n",
       "99998                                                0.0                        \n",
       "99999                                                0.0                        \n",
       "\n",
       "       ...  buildingblock3_smiles_Nc1ccc(Cl)nc1  \\\n",
       "0      ...                                  0.0   \n",
       "1      ...                                  0.0   \n",
       "2      ...                                  0.0   \n",
       "3      ...                                  0.0   \n",
       "4      ...                                  0.0   \n",
       "...    ...                                  ...   \n",
       "99995  ...                                  0.0   \n",
       "99996  ...                                  0.0   \n",
       "99997  ...                                  0.0   \n",
       "99998  ...                                  0.0   \n",
       "99999  ...                                  0.0   \n",
       "\n",
       "       buildingblock3_smiles_Nc1ccc2c(c1)C(O)CCC2  \\\n",
       "0                                             0.0   \n",
       "1                                             0.0   \n",
       "2                                             0.0   \n",
       "3                                             0.0   \n",
       "4                                             0.0   \n",
       "...                                           ...   \n",
       "99995                                         0.0   \n",
       "99996                                         0.0   \n",
       "99997                                         0.0   \n",
       "99998                                         0.0   \n",
       "99999                                         0.0   \n",
       "\n",
       "       buildingblock3_smiles_Nc1ccc2c(c1)CCC2=O  \\\n",
       "0                                           0.0   \n",
       "1                                           0.0   \n",
       "2                                           0.0   \n",
       "3                                           0.0   \n",
       "4                                           0.0   \n",
       "...                                         ...   \n",
       "99995                                       0.0   \n",
       "99996                                       0.0   \n",
       "99997                                       0.0   \n",
       "99998                                       0.0   \n",
       "99999                                       0.0   \n",
       "\n",
       "       buildingblock3_smiles_Nc1ccc2c(c1)CCCC2=O  \\\n",
       "0                                            0.0   \n",
       "1                                            0.0   \n",
       "2                                            0.0   \n",
       "3                                            0.0   \n",
       "4                                            0.0   \n",
       "...                                          ...   \n",
       "99995                                        0.0   \n",
       "99996                                        0.0   \n",
       "99997                                        0.0   \n",
       "99998                                        0.0   \n",
       "99999                                        0.0   \n",
       "\n",
       "       buildingblock3_smiles_Nc1ccc2c(c1)CNC2=O  \\\n",
       "0                                           0.0   \n",
       "1                                           0.0   \n",
       "2                                           0.0   \n",
       "3                                           0.0   \n",
       "4                                           0.0   \n",
       "...                                         ...   \n",
       "99995                                       0.0   \n",
       "99996                                       0.0   \n",
       "99997                                       0.0   \n",
       "99998                                       0.0   \n",
       "99999                                       0.0   \n",
       "\n",
       "       buildingblock3_smiles_Nc1ccc2c(c1)COC2=O  \\\n",
       "0                                           0.0   \n",
       "1                                           1.0   \n",
       "2                                           0.0   \n",
       "3                                           0.0   \n",
       "4                                           0.0   \n",
       "...                                         ...   \n",
       "99995                                       0.0   \n",
       "99996                                       0.0   \n",
       "99997                                       0.0   \n",
       "99998                                       0.0   \n",
       "99999                                       0.0   \n",
       "\n",
       "       buildingblock3_smiles_Nc1ccc2c(c1)OCO2  \\\n",
       "0                                         0.0   \n",
       "1                                         0.0   \n",
       "2                                         0.0   \n",
       "3                                         0.0   \n",
       "4                                         0.0   \n",
       "...                                       ...   \n",
       "99995                                     0.0   \n",
       "99996                                     0.0   \n",
       "99997                                     0.0   \n",
       "99998                                     0.0   \n",
       "99999                                     0.0   \n",
       "\n",
       "       buildingblock3_smiles_Nc1nc2c(s1)CN(C(=O)OCc1ccccc1)CC2  \\\n",
       "0                                                    0.0         \n",
       "1                                                    0.0         \n",
       "2                                                    0.0         \n",
       "3                                                    0.0         \n",
       "4                                                    0.0         \n",
       "...                                                  ...         \n",
       "99995                                                0.0         \n",
       "99996                                                0.0         \n",
       "99997                                                0.0         \n",
       "99998                                                0.0         \n",
       "99999                                                0.0         \n",
       "\n",
       "       buildingblock3_smiles_Nc1nc[nH]n1  \\\n",
       "0                                    0.0   \n",
       "1                                    0.0   \n",
       "2                                    0.0   \n",
       "3                                    0.0   \n",
       "4                                    0.0   \n",
       "...                                  ...   \n",
       "99995                                0.0   \n",
       "99996                                0.0   \n",
       "99997                                0.0   \n",
       "99998                                0.0   \n",
       "99999                                0.0   \n",
       "\n",
       "       buildingblock3_smiles_Nc1ncnc2[nH]ncc12  \n",
       "0                                          0.0  \n",
       "1                                          0.0  \n",
       "2                                          0.0  \n",
       "3                                          0.0  \n",
       "4                                          0.0  \n",
       "...                                        ...  \n",
       "99995                                      0.0  \n",
       "99996                                      0.0  \n",
       "99997                                      0.0  \n",
       "99998                                      0.0  \n",
       "99999                                      0.0  \n",
       "\n",
       "[100000 rows x 150 columns]"
      ]
     },
     "execution_count": 22,
     "metadata": {},
     "output_type": "execute_result"
    }
   ],
   "source": [
    "colineal_brd4"
   ]
  },
  {
   "cell_type": "markdown",
   "metadata": {},
   "source": [
    "Finalmente nos quedaremos con esta nueva base, `colineal_brd4`."
   ]
  },
  {
   "cell_type": "code",
   "execution_count": 26,
   "metadata": {},
   "outputs": [],
   "source": [
    "colineal_brd4.to_csv('datatrainbrd4.csv', index=False)"
   ]
  },
  {
   "cell_type": "markdown",
   "metadata": {},
   "source": [
    "### Filtración: proteína HSA"
   ]
  },
  {
   "cell_type": "code",
   "execution_count": 6,
   "metadata": {},
   "outputs": [],
   "source": [
    "datatrain_HSA,_= train_test_split(data_HSA, train_size = 100000,  stratify = data_HSA['binds'], random_state=21)"
   ]
  },
  {
   "cell_type": "code",
   "execution_count": 8,
   "metadata": {},
   "outputs": [
    {
     "data": {
      "text/plain": [
       "(100000, 7)"
      ]
     },
     "execution_count": 8,
     "metadata": {},
     "output_type": "execute_result"
    }
   ],
   "source": [
    "datatrain_HSA.shape"
   ]
  },
  {
   "cell_type": "markdown",
   "metadata": {},
   "source": [
    "Ahora, encontremos la cantidad de valores únicos por variable al igual que la distribución de la objetivo."
   ]
  },
  {
   "cell_type": "code",
   "execution_count": 9,
   "metadata": {},
   "outputs": [
    {
     "data": {
      "text/plain": [
       "271"
      ]
     },
     "execution_count": 9,
     "metadata": {},
     "output_type": "execute_result"
    }
   ],
   "source": [
    "bloque1_HSA = data_HSA['buildingblock1_smiles'].nunique()\n",
    "bloque1_HSA"
   ]
  },
  {
   "cell_type": "code",
   "execution_count": 10,
   "metadata": {},
   "outputs": [
    {
     "data": {
      "text/plain": [
       "693"
      ]
     },
     "execution_count": 10,
     "metadata": {},
     "output_type": "execute_result"
    }
   ],
   "source": [
    "bloque2_HSA = data_HSA['buildingblock2_smiles'].nunique()\n",
    "bloque2_HSA"
   ]
  },
  {
   "cell_type": "code",
   "execution_count": 11,
   "metadata": {},
   "outputs": [
    {
     "data": {
      "text/plain": [
       "872"
      ]
     },
     "execution_count": 11,
     "metadata": {},
     "output_type": "execute_result"
    }
   ],
   "source": [
    "bloque3_HSA = data_HSA['buildingblock3_smiles'].nunique()\n",
    "bloque3_HSA"
   ]
  },
  {
   "cell_type": "code",
   "execution_count": 12,
   "metadata": {},
   "outputs": [
    {
     "data": {
      "text/plain": [
       "98415610"
      ]
     },
     "execution_count": 12,
     "metadata": {},
     "output_type": "execute_result"
    }
   ],
   "source": [
    "moleculas_HSA = data_HSA['molecule_smiles'].nunique()\n",
    "moleculas_HSA"
   ]
  },
  {
   "cell_type": "code",
   "execution_count": 13,
   "metadata": {},
   "outputs": [
    {
     "data": {
      "application/vnd.plotly.v1+json": {
       "config": {
        "plotlyServerURL": "https://plot.ly"
       },
       "data": [
        {
         "cells": {
          "values": [
           [
            271
           ],
           [
            693
           ],
           [
            872
           ],
           [
            98415610
           ]
          ]
         },
         "header": {
          "values": [
           "buildingblock1_smiles",
           "buildingblock2_smiles",
           "buildingblock3_smiles",
           "molecule_smiles"
          ]
         },
         "type": "table"
        }
       ],
       "layout": {
        "template": {
         "data": {
          "bar": [
           {
            "error_x": {
             "color": "#2a3f5f"
            },
            "error_y": {
             "color": "#2a3f5f"
            },
            "marker": {
             "line": {
              "color": "#E5ECF6",
              "width": 0.5
             },
             "pattern": {
              "fillmode": "overlay",
              "size": 10,
              "solidity": 0.2
             }
            },
            "type": "bar"
           }
          ],
          "barpolar": [
           {
            "marker": {
             "line": {
              "color": "#E5ECF6",
              "width": 0.5
             },
             "pattern": {
              "fillmode": "overlay",
              "size": 10,
              "solidity": 0.2
             }
            },
            "type": "barpolar"
           }
          ],
          "carpet": [
           {
            "aaxis": {
             "endlinecolor": "#2a3f5f",
             "gridcolor": "white",
             "linecolor": "white",
             "minorgridcolor": "white",
             "startlinecolor": "#2a3f5f"
            },
            "baxis": {
             "endlinecolor": "#2a3f5f",
             "gridcolor": "white",
             "linecolor": "white",
             "minorgridcolor": "white",
             "startlinecolor": "#2a3f5f"
            },
            "type": "carpet"
           }
          ],
          "choropleth": [
           {
            "colorbar": {
             "outlinewidth": 0,
             "ticks": ""
            },
            "type": "choropleth"
           }
          ],
          "contour": [
           {
            "colorbar": {
             "outlinewidth": 0,
             "ticks": ""
            },
            "colorscale": [
             [
              0,
              "#0d0887"
             ],
             [
              0.1111111111111111,
              "#46039f"
             ],
             [
              0.2222222222222222,
              "#7201a8"
             ],
             [
              0.3333333333333333,
              "#9c179e"
             ],
             [
              0.4444444444444444,
              "#bd3786"
             ],
             [
              0.5555555555555556,
              "#d8576b"
             ],
             [
              0.6666666666666666,
              "#ed7953"
             ],
             [
              0.7777777777777778,
              "#fb9f3a"
             ],
             [
              0.8888888888888888,
              "#fdca26"
             ],
             [
              1,
              "#f0f921"
             ]
            ],
            "type": "contour"
           }
          ],
          "contourcarpet": [
           {
            "colorbar": {
             "outlinewidth": 0,
             "ticks": ""
            },
            "type": "contourcarpet"
           }
          ],
          "heatmap": [
           {
            "colorbar": {
             "outlinewidth": 0,
             "ticks": ""
            },
            "colorscale": [
             [
              0,
              "#0d0887"
             ],
             [
              0.1111111111111111,
              "#46039f"
             ],
             [
              0.2222222222222222,
              "#7201a8"
             ],
             [
              0.3333333333333333,
              "#9c179e"
             ],
             [
              0.4444444444444444,
              "#bd3786"
             ],
             [
              0.5555555555555556,
              "#d8576b"
             ],
             [
              0.6666666666666666,
              "#ed7953"
             ],
             [
              0.7777777777777778,
              "#fb9f3a"
             ],
             [
              0.8888888888888888,
              "#fdca26"
             ],
             [
              1,
              "#f0f921"
             ]
            ],
            "type": "heatmap"
           }
          ],
          "heatmapgl": [
           {
            "colorbar": {
             "outlinewidth": 0,
             "ticks": ""
            },
            "colorscale": [
             [
              0,
              "#0d0887"
             ],
             [
              0.1111111111111111,
              "#46039f"
             ],
             [
              0.2222222222222222,
              "#7201a8"
             ],
             [
              0.3333333333333333,
              "#9c179e"
             ],
             [
              0.4444444444444444,
              "#bd3786"
             ],
             [
              0.5555555555555556,
              "#d8576b"
             ],
             [
              0.6666666666666666,
              "#ed7953"
             ],
             [
              0.7777777777777778,
              "#fb9f3a"
             ],
             [
              0.8888888888888888,
              "#fdca26"
             ],
             [
              1,
              "#f0f921"
             ]
            ],
            "type": "heatmapgl"
           }
          ],
          "histogram": [
           {
            "marker": {
             "pattern": {
              "fillmode": "overlay",
              "size": 10,
              "solidity": 0.2
             }
            },
            "type": "histogram"
           }
          ],
          "histogram2d": [
           {
            "colorbar": {
             "outlinewidth": 0,
             "ticks": ""
            },
            "colorscale": [
             [
              0,
              "#0d0887"
             ],
             [
              0.1111111111111111,
              "#46039f"
             ],
             [
              0.2222222222222222,
              "#7201a8"
             ],
             [
              0.3333333333333333,
              "#9c179e"
             ],
             [
              0.4444444444444444,
              "#bd3786"
             ],
             [
              0.5555555555555556,
              "#d8576b"
             ],
             [
              0.6666666666666666,
              "#ed7953"
             ],
             [
              0.7777777777777778,
              "#fb9f3a"
             ],
             [
              0.8888888888888888,
              "#fdca26"
             ],
             [
              1,
              "#f0f921"
             ]
            ],
            "type": "histogram2d"
           }
          ],
          "histogram2dcontour": [
           {
            "colorbar": {
             "outlinewidth": 0,
             "ticks": ""
            },
            "colorscale": [
             [
              0,
              "#0d0887"
             ],
             [
              0.1111111111111111,
              "#46039f"
             ],
             [
              0.2222222222222222,
              "#7201a8"
             ],
             [
              0.3333333333333333,
              "#9c179e"
             ],
             [
              0.4444444444444444,
              "#bd3786"
             ],
             [
              0.5555555555555556,
              "#d8576b"
             ],
             [
              0.6666666666666666,
              "#ed7953"
             ],
             [
              0.7777777777777778,
              "#fb9f3a"
             ],
             [
              0.8888888888888888,
              "#fdca26"
             ],
             [
              1,
              "#f0f921"
             ]
            ],
            "type": "histogram2dcontour"
           }
          ],
          "mesh3d": [
           {
            "colorbar": {
             "outlinewidth": 0,
             "ticks": ""
            },
            "type": "mesh3d"
           }
          ],
          "parcoords": [
           {
            "line": {
             "colorbar": {
              "outlinewidth": 0,
              "ticks": ""
             }
            },
            "type": "parcoords"
           }
          ],
          "pie": [
           {
            "automargin": true,
            "type": "pie"
           }
          ],
          "scatter": [
           {
            "fillpattern": {
             "fillmode": "overlay",
             "size": 10,
             "solidity": 0.2
            },
            "type": "scatter"
           }
          ],
          "scatter3d": [
           {
            "line": {
             "colorbar": {
              "outlinewidth": 0,
              "ticks": ""
             }
            },
            "marker": {
             "colorbar": {
              "outlinewidth": 0,
              "ticks": ""
             }
            },
            "type": "scatter3d"
           }
          ],
          "scattercarpet": [
           {
            "marker": {
             "colorbar": {
              "outlinewidth": 0,
              "ticks": ""
             }
            },
            "type": "scattercarpet"
           }
          ],
          "scattergeo": [
           {
            "marker": {
             "colorbar": {
              "outlinewidth": 0,
              "ticks": ""
             }
            },
            "type": "scattergeo"
           }
          ],
          "scattergl": [
           {
            "marker": {
             "colorbar": {
              "outlinewidth": 0,
              "ticks": ""
             }
            },
            "type": "scattergl"
           }
          ],
          "scattermapbox": [
           {
            "marker": {
             "colorbar": {
              "outlinewidth": 0,
              "ticks": ""
             }
            },
            "type": "scattermapbox"
           }
          ],
          "scatterpolar": [
           {
            "marker": {
             "colorbar": {
              "outlinewidth": 0,
              "ticks": ""
             }
            },
            "type": "scatterpolar"
           }
          ],
          "scatterpolargl": [
           {
            "marker": {
             "colorbar": {
              "outlinewidth": 0,
              "ticks": ""
             }
            },
            "type": "scatterpolargl"
           }
          ],
          "scatterternary": [
           {
            "marker": {
             "colorbar": {
              "outlinewidth": 0,
              "ticks": ""
             }
            },
            "type": "scatterternary"
           }
          ],
          "surface": [
           {
            "colorbar": {
             "outlinewidth": 0,
             "ticks": ""
            },
            "colorscale": [
             [
              0,
              "#0d0887"
             ],
             [
              0.1111111111111111,
              "#46039f"
             ],
             [
              0.2222222222222222,
              "#7201a8"
             ],
             [
              0.3333333333333333,
              "#9c179e"
             ],
             [
              0.4444444444444444,
              "#bd3786"
             ],
             [
              0.5555555555555556,
              "#d8576b"
             ],
             [
              0.6666666666666666,
              "#ed7953"
             ],
             [
              0.7777777777777778,
              "#fb9f3a"
             ],
             [
              0.8888888888888888,
              "#fdca26"
             ],
             [
              1,
              "#f0f921"
             ]
            ],
            "type": "surface"
           }
          ],
          "table": [
           {
            "cells": {
             "fill": {
              "color": "#EBF0F8"
             },
             "line": {
              "color": "white"
             }
            },
            "header": {
             "fill": {
              "color": "#C8D4E3"
             },
             "line": {
              "color": "white"
             }
            },
            "type": "table"
           }
          ]
         },
         "layout": {
          "annotationdefaults": {
           "arrowcolor": "#2a3f5f",
           "arrowhead": 0,
           "arrowwidth": 1
          },
          "autotypenumbers": "strict",
          "coloraxis": {
           "colorbar": {
            "outlinewidth": 0,
            "ticks": ""
           }
          },
          "colorscale": {
           "diverging": [
            [
             0,
             "#8e0152"
            ],
            [
             0.1,
             "#c51b7d"
            ],
            [
             0.2,
             "#de77ae"
            ],
            [
             0.3,
             "#f1b6da"
            ],
            [
             0.4,
             "#fde0ef"
            ],
            [
             0.5,
             "#f7f7f7"
            ],
            [
             0.6,
             "#e6f5d0"
            ],
            [
             0.7,
             "#b8e186"
            ],
            [
             0.8,
             "#7fbc41"
            ],
            [
             0.9,
             "#4d9221"
            ],
            [
             1,
             "#276419"
            ]
           ],
           "sequential": [
            [
             0,
             "#0d0887"
            ],
            [
             0.1111111111111111,
             "#46039f"
            ],
            [
             0.2222222222222222,
             "#7201a8"
            ],
            [
             0.3333333333333333,
             "#9c179e"
            ],
            [
             0.4444444444444444,
             "#bd3786"
            ],
            [
             0.5555555555555556,
             "#d8576b"
            ],
            [
             0.6666666666666666,
             "#ed7953"
            ],
            [
             0.7777777777777778,
             "#fb9f3a"
            ],
            [
             0.8888888888888888,
             "#fdca26"
            ],
            [
             1,
             "#f0f921"
            ]
           ],
           "sequentialminus": [
            [
             0,
             "#0d0887"
            ],
            [
             0.1111111111111111,
             "#46039f"
            ],
            [
             0.2222222222222222,
             "#7201a8"
            ],
            [
             0.3333333333333333,
             "#9c179e"
            ],
            [
             0.4444444444444444,
             "#bd3786"
            ],
            [
             0.5555555555555556,
             "#d8576b"
            ],
            [
             0.6666666666666666,
             "#ed7953"
            ],
            [
             0.7777777777777778,
             "#fb9f3a"
            ],
            [
             0.8888888888888888,
             "#fdca26"
            ],
            [
             1,
             "#f0f921"
            ]
           ]
          },
          "colorway": [
           "#636efa",
           "#EF553B",
           "#00cc96",
           "#ab63fa",
           "#FFA15A",
           "#19d3f3",
           "#FF6692",
           "#B6E880",
           "#FF97FF",
           "#FECB52"
          ],
          "font": {
           "color": "#2a3f5f"
          },
          "geo": {
           "bgcolor": "white",
           "lakecolor": "white",
           "landcolor": "#E5ECF6",
           "showlakes": true,
           "showland": true,
           "subunitcolor": "white"
          },
          "hoverlabel": {
           "align": "left"
          },
          "hovermode": "closest",
          "mapbox": {
           "style": "light"
          },
          "paper_bgcolor": "white",
          "plot_bgcolor": "#E5ECF6",
          "polar": {
           "angularaxis": {
            "gridcolor": "white",
            "linecolor": "white",
            "ticks": ""
           },
           "bgcolor": "#E5ECF6",
           "radialaxis": {
            "gridcolor": "white",
            "linecolor": "white",
            "ticks": ""
           }
          },
          "scene": {
           "xaxis": {
            "backgroundcolor": "#E5ECF6",
            "gridcolor": "white",
            "gridwidth": 2,
            "linecolor": "white",
            "showbackground": true,
            "ticks": "",
            "zerolinecolor": "white"
           },
           "yaxis": {
            "backgroundcolor": "#E5ECF6",
            "gridcolor": "white",
            "gridwidth": 2,
            "linecolor": "white",
            "showbackground": true,
            "ticks": "",
            "zerolinecolor": "white"
           },
           "zaxis": {
            "backgroundcolor": "#E5ECF6",
            "gridcolor": "white",
            "gridwidth": 2,
            "linecolor": "white",
            "showbackground": true,
            "ticks": "",
            "zerolinecolor": "white"
           }
          },
          "shapedefaults": {
           "line": {
            "color": "#2a3f5f"
           }
          },
          "ternary": {
           "aaxis": {
            "gridcolor": "white",
            "linecolor": "white",
            "ticks": ""
           },
           "baxis": {
            "gridcolor": "white",
            "linecolor": "white",
            "ticks": ""
           },
           "bgcolor": "#E5ECF6",
           "caxis": {
            "gridcolor": "white",
            "linecolor": "white",
            "ticks": ""
           }
          },
          "title": {
           "x": 0.05
          },
          "xaxis": {
           "automargin": true,
           "gridcolor": "white",
           "linecolor": "white",
           "ticks": "",
           "title": {
            "standoff": 15
           },
           "zerolinecolor": "white",
           "zerolinewidth": 2
          },
          "yaxis": {
           "automargin": true,
           "gridcolor": "white",
           "linecolor": "white",
           "ticks": "",
           "title": {
            "standoff": 15
           },
           "zerolinecolor": "white",
           "zerolinewidth": 2
          }
         }
        }
       }
      }
     },
     "metadata": {},
     "output_type": "display_data"
    }
   ],
   "source": [
    "import plotly\n",
    "import plotly.graph_objects as go\n",
    "\n",
    "# Datos de las variables\n",
    "header = ['buildingblock1_smiles', 'buildingblock2_smiles', 'buildingblock3_smiles', 'molecule_smiles']\n",
    "values = [[bloque1_HSA], [bloque2_HSA], [bloque3_HSA], [moleculas_HSA]]\n",
    "\n",
    "# Crear tabla con plotly\n",
    "fig = go.Figure(data=[go.Table(header=dict(values=header),\n",
    "                               cells=dict(values=values))])\n",
    "\n",
    "# Mostrar la tabla\n",
    "fig.show()"
   ]
  },
  {
   "cell_type": "code",
   "execution_count": 14,
   "metadata": {},
   "outputs": [
    {
     "data": {
      "text/html": [
       "<div>\n",
       "<style scoped>\n",
       "    .dataframe tbody tr th:only-of-type {\n",
       "        vertical-align: middle;\n",
       "    }\n",
       "\n",
       "    .dataframe tbody tr th {\n",
       "        vertical-align: top;\n",
       "    }\n",
       "\n",
       "    .dataframe thead th {\n",
       "        text-align: right;\n",
       "    }\n",
       "</style>\n",
       "<table border=\"1\" class=\"dataframe\">\n",
       "  <thead>\n",
       "    <tr style=\"text-align: right;\">\n",
       "      <th>binds</th>\n",
       "      <th>0</th>\n",
       "      <th>1</th>\n",
       "    </tr>\n",
       "  </thead>\n",
       "  <tbody>\n",
       "    <tr>\n",
       "      <th>0</th>\n",
       "      <td>0.99585</td>\n",
       "      <td>0.00415</td>\n",
       "    </tr>\n",
       "  </tbody>\n",
       "</table>\n",
       "</div>"
      ],
      "text/plain": [
       "binds        0        1\n",
       "0      0.99585  0.00415"
      ]
     },
     "execution_count": 14,
     "metadata": {},
     "output_type": "execute_result"
    }
   ],
   "source": [
    "proteina_HSA = datatrain_HSA.groupby('protein_name')['binds'].value_counts(normalize=True).unstack().reset_index(drop=True)\n",
    "proteina_HSA"
   ]
  },
  {
   "cell_type": "code",
   "execution_count": 16,
   "metadata": {},
   "outputs": [
    {
     "data": {
      "image/png": "[encoded data removed]",
      "text/plain": [
       "<Figure size 640x480 with 1 Axes>"
      ]
     },
     "metadata": {},
     "output_type": "display_data"
    }
   ],
   "source": [
    "ax = sns.countplot(x = 'binds', data = datatrain_HSA, palette=[\"#3f3e6fd1\", \"#85c6a9\"])\n",
    "plt.xticks(np.arange(2), ['no aglutinante', 'aglutinante'])\n",
    "plt.title('Unión molécula-proteína',fontsize= 14)\n",
    "plt.xlabel('Relación entre molécula y variable')\n",
    "plt.ylabel('')\n",
    "\n",
    "for i, v in enumerate(proteina_HSA):\n",
    "    ax.text(i, v-40, str(v), horizontalalignment = 'center', size = 14, color = 'b', fontweight = 'bold')"
   ]
  },
  {
   "cell_type": "markdown",
   "metadata": {},
   "source": [
    "***datatrain_HSA*** es el dataframe creado a partir de la filtración con la proteína `HSA`. Nuevamente se tomaron 100000 observaciones aleatorias que representan al conjunto de entrenamiento.\n",
    "Esto lo podemos observar pues la cantidad de valores únicos coincide con la de la base de datos original, al igual que la distribución de la variable binaria `binds`."
   ]
  },
  {
   "cell_type": "markdown",
   "metadata": {},
   "source": [
    "Comprobemos que no hayan valores NA tal como en la base de entrenamiento."
   ]
  },
  {
   "cell_type": "code",
   "execution_count": 17,
   "metadata": {},
   "outputs": [
    {
     "name": "stdout",
     "output_type": "stream",
     "text": [
      "id: 0 NA's\n",
      "buildingblock1_smiles: 0 NA's\n",
      "buildingblock2_smiles: 0 NA's\n",
      "buildingblock3_smiles: 0 NA's\n",
      "molecule_smiles: 0 NA's\n",
      "protein_name: 0 NA's\n",
      "binds: 0 NA's\n"
     ]
    }
   ],
   "source": [
    "cantidad_na = datatrain_HSA.isna().sum()\n",
    "\n",
    "for columna in cantidad_na.index:\n",
    "    print(f\"{columna}: {cantidad_na[columna]} NA's\")"
   ]
  },
  {
   "cell_type": "markdown",
   "metadata": {},
   "source": [
    "Ahora, con ayuda de `OneHotEncoder` se codificará la base de datos que contiene las observaciones de la proteína **HSA**."
   ]
  },
  {
   "cell_type": "markdown",
   "metadata": {},
   "source": [
    "#### Codificación: OneHotEncoder"
   ]
  },
  {
   "cell_type": "code",
   "execution_count": 19,
   "metadata": {},
   "outputs": [],
   "source": [
    "datatrain_hsa = datatrain_HSA.reset_index()"
   ]
  },
  {
   "cell_type": "code",
   "execution_count": 20,
   "metadata": {},
   "outputs": [],
   "source": [
    "catcol_hsa = ['protein_name', 'buildingblock1_smiles', 'buildingblock2_smiles', 'buildingblock3_smiles']\n",
    "encoder_hsa =   OneHotEncoder(sparse_output=False)\n",
    "encoded_hsa = encoder_hsa.fit_transform(datatrain_hsa[catcol_hsa])\n",
    "data_encodedhsa = pd.DataFrame(encoded_hsa, columns=encoder_hsa.get_feature_names_out(catcol_hsa))\n",
    "datatrainhsa = pd.concat([datatrain_hsa,data_encodedhsa], axis = 1)\n",
    "datatrainhsa = datatrainhsa.drop(catcol_hsa,axis=1) "
   ]
  },
  {
   "cell_type": "code",
   "execution_count": 21,
   "metadata": {},
   "outputs": [
    {
     "data": {
      "text/html": [
       "<div>\n",
       "<style scoped>\n",
       "    .dataframe tbody tr th:only-of-type {\n",
       "        vertical-align: middle;\n",
       "    }\n",
       "\n",
       "    .dataframe tbody tr th {\n",
       "        vertical-align: top;\n",
       "    }\n",
       "\n",
       "    .dataframe thead th {\n",
       "        text-align: right;\n",
       "    }\n",
       "</style>\n",
       "<table border=\"1\" class=\"dataframe\">\n",
       "  <thead>\n",
       "    <tr style=\"text-align: right;\">\n",
       "      <th></th>\n",
       "      <th>index</th>\n",
       "      <th>id</th>\n",
       "      <th>molecule_smiles</th>\n",
       "      <th>binds</th>\n",
       "      <th>protein_name_HSA</th>\n",
       "      <th>buildingblock1_smiles_C#CC[C@@H](CC(=O)O)NC(=O)OCC1c2ccccc2-c2ccccc21</th>\n",
       "      <th>buildingblock1_smiles_C#CC[C@@H](NC(=O)OCC1c2ccccc2-c2ccccc21)C(=O)O</th>\n",
       "      <th>buildingblock1_smiles_C#CC[C@@](C)(NC(=O)OCC1c2ccccc2-c2ccccc21)C(=O)O</th>\n",
       "      <th>buildingblock1_smiles_C#CC[C@H](CC(=O)O)NC(=O)OCC1c2ccccc2-c2ccccc21</th>\n",
       "      <th>buildingblock1_smiles_C#CC[C@H](NC(=O)OCC1c2ccccc2-c2ccccc21)C(=O)O</th>\n",
       "      <th>...</th>\n",
       "      <th>buildingblock3_smiles_Nc1ncnc(=O)[nH]1</th>\n",
       "      <th>buildingblock3_smiles_Nc1ncnc(Cl)c1Cl</th>\n",
       "      <th>buildingblock3_smiles_Nc1ncnc2[nH]cnc12</th>\n",
       "      <th>buildingblock3_smiles_Nc1ncnc2[nH]ncc12</th>\n",
       "      <th>buildingblock3_smiles_Nc1ncnc2c1ncn2C1CCCCO1</th>\n",
       "      <th>buildingblock3_smiles_Nc1ncncc1Br</th>\n",
       "      <th>buildingblock3_smiles_Nc1nnc(S)s1</th>\n",
       "      <th>buildingblock3_smiles_Nc1nncs1</th>\n",
       "      <th>buildingblock3_smiles_Nc1nnn[nH]1</th>\n",
       "      <th>buildingblock3_smiles_Nc1noc2ccc(F)cc12</th>\n",
       "    </tr>\n",
       "  </thead>\n",
       "  <tbody>\n",
       "    <tr>\n",
       "      <th>0</th>\n",
       "      <td>139082035</td>\n",
       "      <td>139082035</td>\n",
       "      <td>Cc1cc(Nc2nc(NC3=NC(=O)CS3)nc(Nc3c(C(=O)N[Dy])c...</td>\n",
       "      <td>0</td>\n",
       "      <td>1.0</td>\n",
       "      <td>0.0</td>\n",
       "      <td>0.0</td>\n",
       "      <td>0.0</td>\n",
       "      <td>0.0</td>\n",
       "      <td>0.0</td>\n",
       "      <td>...</td>\n",
       "      <td>0.0</td>\n",
       "      <td>0.0</td>\n",
       "      <td>0.0</td>\n",
       "      <td>0.0</td>\n",
       "      <td>0.0</td>\n",
       "      <td>0.0</td>\n",
       "      <td>0.0</td>\n",
       "      <td>0.0</td>\n",
       "      <td>0.0</td>\n",
       "      <td>0.0</td>\n",
       "    </tr>\n",
       "    <tr>\n",
       "      <th>1</th>\n",
       "      <td>141222220</td>\n",
       "      <td>141222220</td>\n",
       "      <td>Cn1cc(-c2ccccc2CNc2nc(NCC3(c4ccc5c(c4)OCO5)CCC...</td>\n",
       "      <td>0</td>\n",
       "      <td>1.0</td>\n",
       "      <td>0.0</td>\n",
       "      <td>0.0</td>\n",
       "      <td>0.0</td>\n",
       "      <td>0.0</td>\n",
       "      <td>0.0</td>\n",
       "      <td>...</td>\n",
       "      <td>0.0</td>\n",
       "      <td>0.0</td>\n",
       "      <td>0.0</td>\n",
       "      <td>0.0</td>\n",
       "      <td>0.0</td>\n",
       "      <td>0.0</td>\n",
       "      <td>0.0</td>\n",
       "      <td>0.0</td>\n",
       "      <td>0.0</td>\n",
       "      <td>0.0</td>\n",
       "    </tr>\n",
       "    <tr>\n",
       "      <th>2</th>\n",
       "      <td>16664275</td>\n",
       "      <td>16664275</td>\n",
       "      <td>CSSCCNc1nc(NCc2cnc(N3CCOCC3)c(F)c2)nc(NC(COC(C...</td>\n",
       "      <td>0</td>\n",
       "      <td>1.0</td>\n",
       "      <td>0.0</td>\n",
       "      <td>0.0</td>\n",
       "      <td>0.0</td>\n",
       "      <td>0.0</td>\n",
       "      <td>0.0</td>\n",
       "      <td>...</td>\n",
       "      <td>0.0</td>\n",
       "      <td>0.0</td>\n",
       "      <td>0.0</td>\n",
       "      <td>0.0</td>\n",
       "      <td>0.0</td>\n",
       "      <td>0.0</td>\n",
       "      <td>0.0</td>\n",
       "      <td>0.0</td>\n",
       "      <td>0.0</td>\n",
       "      <td>0.0</td>\n",
       "    </tr>\n",
       "    <tr>\n",
       "      <th>3</th>\n",
       "      <td>88223383</td>\n",
       "      <td>88223383</td>\n",
       "      <td>O=C(N[Dy])[C@H](C/C=C/c1ccccc1)Nc1nc(NCc2cc(=O...</td>\n",
       "      <td>0</td>\n",
       "      <td>1.0</td>\n",
       "      <td>0.0</td>\n",
       "      <td>0.0</td>\n",
       "      <td>0.0</td>\n",
       "      <td>0.0</td>\n",
       "      <td>0.0</td>\n",
       "      <td>...</td>\n",
       "      <td>0.0</td>\n",
       "      <td>0.0</td>\n",
       "      <td>0.0</td>\n",
       "      <td>0.0</td>\n",
       "      <td>0.0</td>\n",
       "      <td>0.0</td>\n",
       "      <td>0.0</td>\n",
       "      <td>0.0</td>\n",
       "      <td>0.0</td>\n",
       "      <td>0.0</td>\n",
       "    </tr>\n",
       "    <tr>\n",
       "      <th>4</th>\n",
       "      <td>183198910</td>\n",
       "      <td>183198910</td>\n",
       "      <td>CNC(=O)c1cc(Oc2ccc(Nc3nc(Nc4ccc(C(=O)N[Dy])c(C...</td>\n",
       "      <td>0</td>\n",
       "      <td>1.0</td>\n",
       "      <td>0.0</td>\n",
       "      <td>0.0</td>\n",
       "      <td>0.0</td>\n",
       "      <td>0.0</td>\n",
       "      <td>0.0</td>\n",
       "      <td>...</td>\n",
       "      <td>0.0</td>\n",
       "      <td>0.0</td>\n",
       "      <td>0.0</td>\n",
       "      <td>0.0</td>\n",
       "      <td>0.0</td>\n",
       "      <td>0.0</td>\n",
       "      <td>0.0</td>\n",
       "      <td>0.0</td>\n",
       "      <td>0.0</td>\n",
       "      <td>0.0</td>\n",
       "    </tr>\n",
       "  </tbody>\n",
       "</table>\n",
       "<p>5 rows × 1837 columns</p>\n",
       "</div>"
      ],
      "text/plain": [
       "       index         id                                    molecule_smiles  \\\n",
       "0  139082035  139082035  Cc1cc(Nc2nc(NC3=NC(=O)CS3)nc(Nc3c(C(=O)N[Dy])c...   \n",
       "1  141222220  141222220  Cn1cc(-c2ccccc2CNc2nc(NCC3(c4ccc5c(c4)OCO5)CCC...   \n",
       "2   16664275   16664275  CSSCCNc1nc(NCc2cnc(N3CCOCC3)c(F)c2)nc(NC(COC(C...   \n",
       "3   88223383   88223383  O=C(N[Dy])[C@H](C/C=C/c1ccccc1)Nc1nc(NCc2cc(=O...   \n",
       "4  183198910  183198910  CNC(=O)c1cc(Oc2ccc(Nc3nc(Nc4ccc(C(=O)N[Dy])c(C...   \n",
       "\n",
       "   binds  protein_name_HSA  \\\n",
       "0      0               1.0   \n",
       "1      0               1.0   \n",
       "2      0               1.0   \n",
       "3      0               1.0   \n",
       "4      0               1.0   \n",
       "\n",
       "   buildingblock1_smiles_C#CC[C@@H](CC(=O)O)NC(=O)OCC1c2ccccc2-c2ccccc21  \\\n",
       "0                                                0.0                       \n",
       "1                                                0.0                       \n",
       "2                                                0.0                       \n",
       "3                                                0.0                       \n",
       "4                                                0.0                       \n",
       "\n",
       "   buildingblock1_smiles_C#CC[C@@H](NC(=O)OCC1c2ccccc2-c2ccccc21)C(=O)O  \\\n",
       "0                                                0.0                      \n",
       "1                                                0.0                      \n",
       "2                                                0.0                      \n",
       "3                                                0.0                      \n",
       "4                                                0.0                      \n",
       "\n",
       "   buildingblock1_smiles_C#CC[C@@](C)(NC(=O)OCC1c2ccccc2-c2ccccc21)C(=O)O  \\\n",
       "0                                                0.0                        \n",
       "1                                                0.0                        \n",
       "2                                                0.0                        \n",
       "3                                                0.0                        \n",
       "4                                                0.0                        \n",
       "\n",
       "   buildingblock1_smiles_C#CC[C@H](CC(=O)O)NC(=O)OCC1c2ccccc2-c2ccccc21  \\\n",
       "0                                                0.0                      \n",
       "1                                                0.0                      \n",
       "2                                                0.0                      \n",
       "3                                                0.0                      \n",
       "4                                                0.0                      \n",
       "\n",
       "   buildingblock1_smiles_C#CC[C@H](NC(=O)OCC1c2ccccc2-c2ccccc21)C(=O)O  ...  \\\n",
       "0                                                0.0                    ...   \n",
       "1                                                0.0                    ...   \n",
       "2                                                0.0                    ...   \n",
       "3                                                0.0                    ...   \n",
       "4                                                0.0                    ...   \n",
       "\n",
       "   buildingblock3_smiles_Nc1ncnc(=O)[nH]1  \\\n",
       "0                                     0.0   \n",
       "1                                     0.0   \n",
       "2                                     0.0   \n",
       "3                                     0.0   \n",
       "4                                     0.0   \n",
       "\n",
       "   buildingblock3_smiles_Nc1ncnc(Cl)c1Cl  \\\n",
       "0                                    0.0   \n",
       "1                                    0.0   \n",
       "2                                    0.0   \n",
       "3                                    0.0   \n",
       "4                                    0.0   \n",
       "\n",
       "   buildingblock3_smiles_Nc1ncnc2[nH]cnc12  \\\n",
       "0                                      0.0   \n",
       "1                                      0.0   \n",
       "2                                      0.0   \n",
       "3                                      0.0   \n",
       "4                                      0.0   \n",
       "\n",
       "   buildingblock3_smiles_Nc1ncnc2[nH]ncc12  \\\n",
       "0                                      0.0   \n",
       "1                                      0.0   \n",
       "2                                      0.0   \n",
       "3                                      0.0   \n",
       "4                                      0.0   \n",
       "\n",
       "   buildingblock3_smiles_Nc1ncnc2c1ncn2C1CCCCO1  \\\n",
       "0                                           0.0   \n",
       "1                                           0.0   \n",
       "2                                           0.0   \n",
       "3                                           0.0   \n",
       "4                                           0.0   \n",
       "\n",
       "   buildingblock3_smiles_Nc1ncncc1Br  buildingblock3_smiles_Nc1nnc(S)s1  \\\n",
       "0                                0.0                                0.0   \n",
       "1                                0.0                                0.0   \n",
       "2                                0.0                                0.0   \n",
       "3                                0.0                                0.0   \n",
       "4                                0.0                                0.0   \n",
       "\n",
       "   buildingblock3_smiles_Nc1nncs1  buildingblock3_smiles_Nc1nnn[nH]1  \\\n",
       "0                             0.0                                0.0   \n",
       "1                             0.0                                0.0   \n",
       "2                             0.0                                0.0   \n",
       "3                             0.0                                0.0   \n",
       "4                             0.0                                0.0   \n",
       "\n",
       "   buildingblock3_smiles_Nc1noc2ccc(F)cc12  \n",
       "0                                      0.0  \n",
       "1                                      0.0  \n",
       "2                                      0.0  \n",
       "3                                      0.0  \n",
       "4                                      0.0  \n",
       "\n",
       "[5 rows x 1837 columns]"
      ]
     },
     "execution_count": 21,
     "metadata": {},
     "output_type": "execute_result"
    }
   ],
   "source": [
    "datatrainhsa.head()"
   ]
  },
  {
   "cell_type": "markdown",
   "metadata": {},
   "source": [
    "Ahora, a realizar la evaluación de la multicolinealidad."
   ]
  },
  {
   "cell_type": "markdown",
   "metadata": {},
   "source": [
    "#### Multicolinealidad: Chi-cuadrado"
   ]
  },
  {
   "cell_type": "markdown",
   "metadata": {},
   "source": [
    "Eliminaremos primeramente la variable `molecule_smiles`."
   ]
  },
  {
   "cell_type": "code",
   "execution_count": 22,
   "metadata": {},
   "outputs": [],
   "source": [
    "datatrainhsa = datatrainhsa.drop(columns=['molecule_smiles'])"
   ]
  },
  {
   "cell_type": "code",
   "execution_count": 23,
   "metadata": {},
   "outputs": [
    {
     "data": {
      "text/html": [
       "<div>\n",
       "<style scoped>\n",
       "    .dataframe tbody tr th:only-of-type {\n",
       "        vertical-align: middle;\n",
       "    }\n",
       "\n",
       "    .dataframe tbody tr th {\n",
       "        vertical-align: top;\n",
       "    }\n",
       "\n",
       "    .dataframe thead th {\n",
       "        text-align: right;\n",
       "    }\n",
       "</style>\n",
       "<table border=\"1\" class=\"dataframe\">\n",
       "  <thead>\n",
       "    <tr style=\"text-align: right;\">\n",
       "      <th></th>\n",
       "      <th>index</th>\n",
       "      <th>id</th>\n",
       "      <th>binds</th>\n",
       "      <th>protein_name_HSA</th>\n",
       "      <th>buildingblock1_smiles_C#CC[C@@H](CC(=O)O)NC(=O)OCC1c2ccccc2-c2ccccc21</th>\n",
       "      <th>buildingblock1_smiles_C#CC[C@@H](NC(=O)OCC1c2ccccc2-c2ccccc21)C(=O)O</th>\n",
       "      <th>buildingblock1_smiles_C#CC[C@@](C)(NC(=O)OCC1c2ccccc2-c2ccccc21)C(=O)O</th>\n",
       "      <th>buildingblock1_smiles_C#CC[C@H](CC(=O)O)NC(=O)OCC1c2ccccc2-c2ccccc21</th>\n",
       "      <th>buildingblock1_smiles_C#CC[C@H](NC(=O)OCC1c2ccccc2-c2ccccc21)C(=O)O</th>\n",
       "      <th>buildingblock1_smiles_C=CCC(CC=C)(NC(=O)OCC1c2ccccc2-c2ccccc21)C(=O)O</th>\n",
       "      <th>...</th>\n",
       "      <th>buildingblock3_smiles_Nc1ncnc(=O)[nH]1</th>\n",
       "      <th>buildingblock3_smiles_Nc1ncnc(Cl)c1Cl</th>\n",
       "      <th>buildingblock3_smiles_Nc1ncnc2[nH]cnc12</th>\n",
       "      <th>buildingblock3_smiles_Nc1ncnc2[nH]ncc12</th>\n",
       "      <th>buildingblock3_smiles_Nc1ncnc2c1ncn2C1CCCCO1</th>\n",
       "      <th>buildingblock3_smiles_Nc1ncncc1Br</th>\n",
       "      <th>buildingblock3_smiles_Nc1nnc(S)s1</th>\n",
       "      <th>buildingblock3_smiles_Nc1nncs1</th>\n",
       "      <th>buildingblock3_smiles_Nc1nnn[nH]1</th>\n",
       "      <th>buildingblock3_smiles_Nc1noc2ccc(F)cc12</th>\n",
       "    </tr>\n",
       "  </thead>\n",
       "  <tbody>\n",
       "    <tr>\n",
       "      <th>0</th>\n",
       "      <td>139082035</td>\n",
       "      <td>139082035</td>\n",
       "      <td>0</td>\n",
       "      <td>1.0</td>\n",
       "      <td>0.0</td>\n",
       "      <td>0.0</td>\n",
       "      <td>0.0</td>\n",
       "      <td>0.0</td>\n",
       "      <td>0.0</td>\n",
       "      <td>0.0</td>\n",
       "      <td>...</td>\n",
       "      <td>0.0</td>\n",
       "      <td>0.0</td>\n",
       "      <td>0.0</td>\n",
       "      <td>0.0</td>\n",
       "      <td>0.0</td>\n",
       "      <td>0.0</td>\n",
       "      <td>0.0</td>\n",
       "      <td>0.0</td>\n",
       "      <td>0.0</td>\n",
       "      <td>0.0</td>\n",
       "    </tr>\n",
       "    <tr>\n",
       "      <th>1</th>\n",
       "      <td>141222220</td>\n",
       "      <td>141222220</td>\n",
       "      <td>0</td>\n",
       "      <td>1.0</td>\n",
       "      <td>0.0</td>\n",
       "      <td>0.0</td>\n",
       "      <td>0.0</td>\n",
       "      <td>0.0</td>\n",
       "      <td>0.0</td>\n",
       "      <td>0.0</td>\n",
       "      <td>...</td>\n",
       "      <td>0.0</td>\n",
       "      <td>0.0</td>\n",
       "      <td>0.0</td>\n",
       "      <td>0.0</td>\n",
       "      <td>0.0</td>\n",
       "      <td>0.0</td>\n",
       "      <td>0.0</td>\n",
       "      <td>0.0</td>\n",
       "      <td>0.0</td>\n",
       "      <td>0.0</td>\n",
       "    </tr>\n",
       "    <tr>\n",
       "      <th>2</th>\n",
       "      <td>16664275</td>\n",
       "      <td>16664275</td>\n",
       "      <td>0</td>\n",
       "      <td>1.0</td>\n",
       "      <td>0.0</td>\n",
       "      <td>0.0</td>\n",
       "      <td>0.0</td>\n",
       "      <td>0.0</td>\n",
       "      <td>0.0</td>\n",
       "      <td>0.0</td>\n",
       "      <td>...</td>\n",
       "      <td>0.0</td>\n",
       "      <td>0.0</td>\n",
       "      <td>0.0</td>\n",
       "      <td>0.0</td>\n",
       "      <td>0.0</td>\n",
       "      <td>0.0</td>\n",
       "      <td>0.0</td>\n",
       "      <td>0.0</td>\n",
       "      <td>0.0</td>\n",
       "      <td>0.0</td>\n",
       "    </tr>\n",
       "    <tr>\n",
       "      <th>3</th>\n",
       "      <td>88223383</td>\n",
       "      <td>88223383</td>\n",
       "      <td>0</td>\n",
       "      <td>1.0</td>\n",
       "      <td>0.0</td>\n",
       "      <td>0.0</td>\n",
       "      <td>0.0</td>\n",
       "      <td>0.0</td>\n",
       "      <td>0.0</td>\n",
       "      <td>0.0</td>\n",
       "      <td>...</td>\n",
       "      <td>0.0</td>\n",
       "      <td>0.0</td>\n",
       "      <td>0.0</td>\n",
       "      <td>0.0</td>\n",
       "      <td>0.0</td>\n",
       "      <td>0.0</td>\n",
       "      <td>0.0</td>\n",
       "      <td>0.0</td>\n",
       "      <td>0.0</td>\n",
       "      <td>0.0</td>\n",
       "    </tr>\n",
       "    <tr>\n",
       "      <th>4</th>\n",
       "      <td>183198910</td>\n",
       "      <td>183198910</td>\n",
       "      <td>0</td>\n",
       "      <td>1.0</td>\n",
       "      <td>0.0</td>\n",
       "      <td>0.0</td>\n",
       "      <td>0.0</td>\n",
       "      <td>0.0</td>\n",
       "      <td>0.0</td>\n",
       "      <td>0.0</td>\n",
       "      <td>...</td>\n",
       "      <td>0.0</td>\n",
       "      <td>0.0</td>\n",
       "      <td>0.0</td>\n",
       "      <td>0.0</td>\n",
       "      <td>0.0</td>\n",
       "      <td>0.0</td>\n",
       "      <td>0.0</td>\n",
       "      <td>0.0</td>\n",
       "      <td>0.0</td>\n",
       "      <td>0.0</td>\n",
       "    </tr>\n",
       "  </tbody>\n",
       "</table>\n",
       "<p>5 rows × 1836 columns</p>\n",
       "</div>"
      ],
      "text/plain": [
       "       index         id  binds  protein_name_HSA  \\\n",
       "0  139082035  139082035      0               1.0   \n",
       "1  141222220  141222220      0               1.0   \n",
       "2   16664275   16664275      0               1.0   \n",
       "3   88223383   88223383      0               1.0   \n",
       "4  183198910  183198910      0               1.0   \n",
       "\n",
       "   buildingblock1_smiles_C#CC[C@@H](CC(=O)O)NC(=O)OCC1c2ccccc2-c2ccccc21  \\\n",
       "0                                                0.0                       \n",
       "1                                                0.0                       \n",
       "2                                                0.0                       \n",
       "3                                                0.0                       \n",
       "4                                                0.0                       \n",
       "\n",
       "   buildingblock1_smiles_C#CC[C@@H](NC(=O)OCC1c2ccccc2-c2ccccc21)C(=O)O  \\\n",
       "0                                                0.0                      \n",
       "1                                                0.0                      \n",
       "2                                                0.0                      \n",
       "3                                                0.0                      \n",
       "4                                                0.0                      \n",
       "\n",
       "   buildingblock1_smiles_C#CC[C@@](C)(NC(=O)OCC1c2ccccc2-c2ccccc21)C(=O)O  \\\n",
       "0                                                0.0                        \n",
       "1                                                0.0                        \n",
       "2                                                0.0                        \n",
       "3                                                0.0                        \n",
       "4                                                0.0                        \n",
       "\n",
       "   buildingblock1_smiles_C#CC[C@H](CC(=O)O)NC(=O)OCC1c2ccccc2-c2ccccc21  \\\n",
       "0                                                0.0                      \n",
       "1                                                0.0                      \n",
       "2                                                0.0                      \n",
       "3                                                0.0                      \n",
       "4                                                0.0                      \n",
       "\n",
       "   buildingblock1_smiles_C#CC[C@H](NC(=O)OCC1c2ccccc2-c2ccccc21)C(=O)O  \\\n",
       "0                                                0.0                     \n",
       "1                                                0.0                     \n",
       "2                                                0.0                     \n",
       "3                                                0.0                     \n",
       "4                                                0.0                     \n",
       "\n",
       "   buildingblock1_smiles_C=CCC(CC=C)(NC(=O)OCC1c2ccccc2-c2ccccc21)C(=O)O  ...  \\\n",
       "0                                                0.0                      ...   \n",
       "1                                                0.0                      ...   \n",
       "2                                                0.0                      ...   \n",
       "3                                                0.0                      ...   \n",
       "4                                                0.0                      ...   \n",
       "\n",
       "   buildingblock3_smiles_Nc1ncnc(=O)[nH]1  \\\n",
       "0                                     0.0   \n",
       "1                                     0.0   \n",
       "2                                     0.0   \n",
       "3                                     0.0   \n",
       "4                                     0.0   \n",
       "\n",
       "   buildingblock3_smiles_Nc1ncnc(Cl)c1Cl  \\\n",
       "0                                    0.0   \n",
       "1                                    0.0   \n",
       "2                                    0.0   \n",
       "3                                    0.0   \n",
       "4                                    0.0   \n",
       "\n",
       "   buildingblock3_smiles_Nc1ncnc2[nH]cnc12  \\\n",
       "0                                      0.0   \n",
       "1                                      0.0   \n",
       "2                                      0.0   \n",
       "3                                      0.0   \n",
       "4                                      0.0   \n",
       "\n",
       "   buildingblock3_smiles_Nc1ncnc2[nH]ncc12  \\\n",
       "0                                      0.0   \n",
       "1                                      0.0   \n",
       "2                                      0.0   \n",
       "3                                      0.0   \n",
       "4                                      0.0   \n",
       "\n",
       "   buildingblock3_smiles_Nc1ncnc2c1ncn2C1CCCCO1  \\\n",
       "0                                           0.0   \n",
       "1                                           0.0   \n",
       "2                                           0.0   \n",
       "3                                           0.0   \n",
       "4                                           0.0   \n",
       "\n",
       "   buildingblock3_smiles_Nc1ncncc1Br  buildingblock3_smiles_Nc1nnc(S)s1  \\\n",
       "0                                0.0                                0.0   \n",
       "1                                0.0                                0.0   \n",
       "2                                0.0                                0.0   \n",
       "3                                0.0                                0.0   \n",
       "4                                0.0                                0.0   \n",
       "\n",
       "   buildingblock3_smiles_Nc1nncs1  buildingblock3_smiles_Nc1nnn[nH]1  \\\n",
       "0                             0.0                                0.0   \n",
       "1                             0.0                                0.0   \n",
       "2                             0.0                                0.0   \n",
       "3                             0.0                                0.0   \n",
       "4                             0.0                                0.0   \n",
       "\n",
       "   buildingblock3_smiles_Nc1noc2ccc(F)cc12  \n",
       "0                                      0.0  \n",
       "1                                      0.0  \n",
       "2                                      0.0  \n",
       "3                                      0.0  \n",
       "4                                      0.0  \n",
       "\n",
       "[5 rows x 1836 columns]"
      ]
     },
     "execution_count": 23,
     "metadata": {},
     "output_type": "execute_result"
    }
   ],
   "source": [
    "datatrainhsa.head()"
   ]
  },
  {
   "cell_type": "markdown",
   "metadata": {},
   "source": [
    "Otra vez haremos uso de la función `SelectKBest` con k= 150 para reducir la dimensionalidad de la base."
   ]
  },
  {
   "cell_type": "code",
   "execution_count": 24,
   "metadata": {},
   "outputs": [],
   "source": [
    "unionhsa = datatrainhsa['binds']\n",
    "\n",
    "besthsa = SelectKBest(score_func = chi2, k = 150)  \n",
    "X_hsa = besthsa.fit_transform(datatrainhsa, unionhsa)\n",
    "\n",
    "caracselec_hsa = besthsa.get_support(indices=True) \n",
    "colineal_hsa = datatrainhsa.iloc[:, caracselec_hsa]"
   ]
  },
  {
   "cell_type": "code",
   "execution_count": 25,
   "metadata": {},
   "outputs": [
    {
     "data": {
      "text/html": [
       "<div>\n",
       "<style scoped>\n",
       "    .dataframe tbody tr th:only-of-type {\n",
       "        vertical-align: middle;\n",
       "    }\n",
       "\n",
       "    .dataframe tbody tr th {\n",
       "        vertical-align: top;\n",
       "    }\n",
       "\n",
       "    .dataframe thead th {\n",
       "        text-align: right;\n",
       "    }\n",
       "</style>\n",
       "<table border=\"1\" class=\"dataframe\">\n",
       "  <thead>\n",
       "    <tr style=\"text-align: right;\">\n",
       "      <th></th>\n",
       "      <th>index</th>\n",
       "      <th>id</th>\n",
       "      <th>binds</th>\n",
       "      <th>buildingblock1_smiles_CC(C)(C)OCC(NC(=O)OCC1c2ccccc2-c2ccccc21)C(=O)O</th>\n",
       "      <th>buildingblock1_smiles_CC(C)CC(NC(=O)OCC1c2ccccc2-c2ccccc21)C(=O)O</th>\n",
       "      <th>buildingblock1_smiles_CC(OC(C)(C)C)C(NC(=O)OCC1c2ccccc2-c2ccccc21)C(=O)O</th>\n",
       "      <th>buildingblock1_smiles_Cc1c(Br)ccc(C(=O)O)c1NC(=O)OCC1c2ccccc2-c2ccccc21</th>\n",
       "      <th>buildingblock1_smiles_Cc1cc(C(=O)O)ccc1NC(=O)OCC1c2ccccc2-c2ccccc21</th>\n",
       "      <th>buildingblock1_smiles_Cc1cc(C)c(NC(=O)OCC2c3ccccc3-c3ccccc32)c(C(=O)O)c1</th>\n",
       "      <th>buildingblock1_smiles_Cc1cc(Cl)cc(C(=O)O)c1NC(=O)OCC1c2ccccc2-c2ccccc21</th>\n",
       "      <th>...</th>\n",
       "      <th>buildingblock3_smiles_Nc1cncc(F)c1</th>\n",
       "      <th>buildingblock3_smiles_Nc1cncnc1</th>\n",
       "      <th>buildingblock3_smiles_Nc1n[nH]c2cc(F)ccc12</th>\n",
       "      <th>buildingblock3_smiles_Nc1n[nH]c2ccc([N+](=O)[O-])cc12</th>\n",
       "      <th>buildingblock3_smiles_Nc1nc2c(Br)cccc2s1</th>\n",
       "      <th>buildingblock3_smiles_Nc1nc2ccc(Cl)cc2s1</th>\n",
       "      <th>buildingblock3_smiles_Nc1nc[nH]n1</th>\n",
       "      <th>buildingblock3_smiles_Nc1ncnc2[nH]cnc12</th>\n",
       "      <th>buildingblock3_smiles_Nc1ncnc2[nH]ncc12</th>\n",
       "      <th>buildingblock3_smiles_Nc1nnn[nH]1</th>\n",
       "    </tr>\n",
       "  </thead>\n",
       "  <tbody>\n",
       "    <tr>\n",
       "      <th>0</th>\n",
       "      <td>139082035</td>\n",
       "      <td>139082035</td>\n",
       "      <td>0</td>\n",
       "      <td>0.0</td>\n",
       "      <td>0.0</td>\n",
       "      <td>0.0</td>\n",
       "      <td>0.0</td>\n",
       "      <td>0.0</td>\n",
       "      <td>0.0</td>\n",
       "      <td>0.0</td>\n",
       "      <td>...</td>\n",
       "      <td>0.0</td>\n",
       "      <td>0.0</td>\n",
       "      <td>0.0</td>\n",
       "      <td>0.0</td>\n",
       "      <td>0.0</td>\n",
       "      <td>0.0</td>\n",
       "      <td>0.0</td>\n",
       "      <td>0.0</td>\n",
       "      <td>0.0</td>\n",
       "      <td>0.0</td>\n",
       "    </tr>\n",
       "    <tr>\n",
       "      <th>1</th>\n",
       "      <td>141222220</td>\n",
       "      <td>141222220</td>\n",
       "      <td>0</td>\n",
       "      <td>0.0</td>\n",
       "      <td>0.0</td>\n",
       "      <td>0.0</td>\n",
       "      <td>0.0</td>\n",
       "      <td>0.0</td>\n",
       "      <td>0.0</td>\n",
       "      <td>0.0</td>\n",
       "      <td>...</td>\n",
       "      <td>0.0</td>\n",
       "      <td>0.0</td>\n",
       "      <td>0.0</td>\n",
       "      <td>0.0</td>\n",
       "      <td>0.0</td>\n",
       "      <td>0.0</td>\n",
       "      <td>0.0</td>\n",
       "      <td>0.0</td>\n",
       "      <td>0.0</td>\n",
       "      <td>0.0</td>\n",
       "    </tr>\n",
       "    <tr>\n",
       "      <th>2</th>\n",
       "      <td>16664275</td>\n",
       "      <td>16664275</td>\n",
       "      <td>0</td>\n",
       "      <td>1.0</td>\n",
       "      <td>0.0</td>\n",
       "      <td>0.0</td>\n",
       "      <td>0.0</td>\n",
       "      <td>0.0</td>\n",
       "      <td>0.0</td>\n",
       "      <td>0.0</td>\n",
       "      <td>...</td>\n",
       "      <td>0.0</td>\n",
       "      <td>0.0</td>\n",
       "      <td>0.0</td>\n",
       "      <td>0.0</td>\n",
       "      <td>0.0</td>\n",
       "      <td>0.0</td>\n",
       "      <td>0.0</td>\n",
       "      <td>0.0</td>\n",
       "      <td>0.0</td>\n",
       "      <td>0.0</td>\n",
       "    </tr>\n",
       "    <tr>\n",
       "      <th>3</th>\n",
       "      <td>88223383</td>\n",
       "      <td>88223383</td>\n",
       "      <td>0</td>\n",
       "      <td>0.0</td>\n",
       "      <td>0.0</td>\n",
       "      <td>0.0</td>\n",
       "      <td>0.0</td>\n",
       "      <td>0.0</td>\n",
       "      <td>0.0</td>\n",
       "      <td>0.0</td>\n",
       "      <td>...</td>\n",
       "      <td>0.0</td>\n",
       "      <td>0.0</td>\n",
       "      <td>0.0</td>\n",
       "      <td>0.0</td>\n",
       "      <td>0.0</td>\n",
       "      <td>0.0</td>\n",
       "      <td>0.0</td>\n",
       "      <td>0.0</td>\n",
       "      <td>0.0</td>\n",
       "      <td>0.0</td>\n",
       "    </tr>\n",
       "    <tr>\n",
       "      <th>4</th>\n",
       "      <td>183198910</td>\n",
       "      <td>183198910</td>\n",
       "      <td>0</td>\n",
       "      <td>0.0</td>\n",
       "      <td>0.0</td>\n",
       "      <td>0.0</td>\n",
       "      <td>0.0</td>\n",
       "      <td>0.0</td>\n",
       "      <td>0.0</td>\n",
       "      <td>0.0</td>\n",
       "      <td>...</td>\n",
       "      <td>0.0</td>\n",
       "      <td>0.0</td>\n",
       "      <td>0.0</td>\n",
       "      <td>0.0</td>\n",
       "      <td>0.0</td>\n",
       "      <td>0.0</td>\n",
       "      <td>0.0</td>\n",
       "      <td>0.0</td>\n",
       "      <td>0.0</td>\n",
       "      <td>0.0</td>\n",
       "    </tr>\n",
       "    <tr>\n",
       "      <th>...</th>\n",
       "      <td>...</td>\n",
       "      <td>...</td>\n",
       "      <td>...</td>\n",
       "      <td>...</td>\n",
       "      <td>...</td>\n",
       "      <td>...</td>\n",
       "      <td>...</td>\n",
       "      <td>...</td>\n",
       "      <td>...</td>\n",
       "      <td>...</td>\n",
       "      <td>...</td>\n",
       "      <td>...</td>\n",
       "      <td>...</td>\n",
       "      <td>...</td>\n",
       "      <td>...</td>\n",
       "      <td>...</td>\n",
       "      <td>...</td>\n",
       "      <td>...</td>\n",
       "      <td>...</td>\n",
       "      <td>...</td>\n",
       "      <td>...</td>\n",
       "    </tr>\n",
       "    <tr>\n",
       "      <th>99995</th>\n",
       "      <td>136745806</td>\n",
       "      <td>136745806</td>\n",
       "      <td>0</td>\n",
       "      <td>0.0</td>\n",
       "      <td>0.0</td>\n",
       "      <td>0.0</td>\n",
       "      <td>0.0</td>\n",
       "      <td>0.0</td>\n",
       "      <td>0.0</td>\n",
       "      <td>0.0</td>\n",
       "      <td>...</td>\n",
       "      <td>0.0</td>\n",
       "      <td>0.0</td>\n",
       "      <td>0.0</td>\n",
       "      <td>0.0</td>\n",
       "      <td>0.0</td>\n",
       "      <td>0.0</td>\n",
       "      <td>0.0</td>\n",
       "      <td>0.0</td>\n",
       "      <td>0.0</td>\n",
       "      <td>0.0</td>\n",
       "    </tr>\n",
       "    <tr>\n",
       "      <th>99996</th>\n",
       "      <td>263887213</td>\n",
       "      <td>263887213</td>\n",
       "      <td>0</td>\n",
       "      <td>0.0</td>\n",
       "      <td>0.0</td>\n",
       "      <td>0.0</td>\n",
       "      <td>0.0</td>\n",
       "      <td>0.0</td>\n",
       "      <td>0.0</td>\n",
       "      <td>0.0</td>\n",
       "      <td>...</td>\n",
       "      <td>0.0</td>\n",
       "      <td>0.0</td>\n",
       "      <td>0.0</td>\n",
       "      <td>0.0</td>\n",
       "      <td>0.0</td>\n",
       "      <td>0.0</td>\n",
       "      <td>0.0</td>\n",
       "      <td>0.0</td>\n",
       "      <td>0.0</td>\n",
       "      <td>0.0</td>\n",
       "    </tr>\n",
       "    <tr>\n",
       "      <th>99997</th>\n",
       "      <td>36252772</td>\n",
       "      <td>36252772</td>\n",
       "      <td>0</td>\n",
       "      <td>0.0</td>\n",
       "      <td>0.0</td>\n",
       "      <td>0.0</td>\n",
       "      <td>0.0</td>\n",
       "      <td>0.0</td>\n",
       "      <td>0.0</td>\n",
       "      <td>0.0</td>\n",
       "      <td>...</td>\n",
       "      <td>0.0</td>\n",
       "      <td>0.0</td>\n",
       "      <td>0.0</td>\n",
       "      <td>0.0</td>\n",
       "      <td>0.0</td>\n",
       "      <td>0.0</td>\n",
       "      <td>0.0</td>\n",
       "      <td>0.0</td>\n",
       "      <td>0.0</td>\n",
       "      <td>0.0</td>\n",
       "    </tr>\n",
       "    <tr>\n",
       "      <th>99998</th>\n",
       "      <td>16054936</td>\n",
       "      <td>16054936</td>\n",
       "      <td>0</td>\n",
       "      <td>0.0</td>\n",
       "      <td>0.0</td>\n",
       "      <td>0.0</td>\n",
       "      <td>0.0</td>\n",
       "      <td>0.0</td>\n",
       "      <td>0.0</td>\n",
       "      <td>0.0</td>\n",
       "      <td>...</td>\n",
       "      <td>0.0</td>\n",
       "      <td>0.0</td>\n",
       "      <td>0.0</td>\n",
       "      <td>0.0</td>\n",
       "      <td>0.0</td>\n",
       "      <td>0.0</td>\n",
       "      <td>0.0</td>\n",
       "      <td>0.0</td>\n",
       "      <td>0.0</td>\n",
       "      <td>0.0</td>\n",
       "    </tr>\n",
       "    <tr>\n",
       "      <th>99999</th>\n",
       "      <td>71269633</td>\n",
       "      <td>71269633</td>\n",
       "      <td>0</td>\n",
       "      <td>0.0</td>\n",
       "      <td>0.0</td>\n",
       "      <td>0.0</td>\n",
       "      <td>0.0</td>\n",
       "      <td>0.0</td>\n",
       "      <td>0.0</td>\n",
       "      <td>0.0</td>\n",
       "      <td>...</td>\n",
       "      <td>0.0</td>\n",
       "      <td>0.0</td>\n",
       "      <td>0.0</td>\n",
       "      <td>0.0</td>\n",
       "      <td>0.0</td>\n",
       "      <td>0.0</td>\n",
       "      <td>0.0</td>\n",
       "      <td>0.0</td>\n",
       "      <td>0.0</td>\n",
       "      <td>0.0</td>\n",
       "    </tr>\n",
       "  </tbody>\n",
       "</table>\n",
       "<p>100000 rows × 150 columns</p>\n",
       "</div>"
      ],
      "text/plain": [
       "           index         id  binds  \\\n",
       "0      139082035  139082035      0   \n",
       "1      141222220  141222220      0   \n",
       "2       16664275   16664275      0   \n",
       "3       88223383   88223383      0   \n",
       "4      183198910  183198910      0   \n",
       "...          ...        ...    ...   \n",
       "99995  136745806  136745806      0   \n",
       "99996  263887213  263887213      0   \n",
       "99997   36252772   36252772      0   \n",
       "99998   16054936   16054936      0   \n",
       "99999   71269633   71269633      0   \n",
       "\n",
       "       buildingblock1_smiles_CC(C)(C)OCC(NC(=O)OCC1c2ccccc2-c2ccccc21)C(=O)O  \\\n",
       "0                                                    0.0                       \n",
       "1                                                    0.0                       \n",
       "2                                                    1.0                       \n",
       "3                                                    0.0                       \n",
       "4                                                    0.0                       \n",
       "...                                                  ...                       \n",
       "99995                                                0.0                       \n",
       "99996                                                0.0                       \n",
       "99997                                                0.0                       \n",
       "99998                                                0.0                       \n",
       "99999                                                0.0                       \n",
       "\n",
       "       buildingblock1_smiles_CC(C)CC(NC(=O)OCC1c2ccccc2-c2ccccc21)C(=O)O  \\\n",
       "0                                                    0.0                   \n",
       "1                                                    0.0                   \n",
       "2                                                    0.0                   \n",
       "3                                                    0.0                   \n",
       "4                                                    0.0                   \n",
       "...                                                  ...                   \n",
       "99995                                                0.0                   \n",
       "99996                                                0.0                   \n",
       "99997                                                0.0                   \n",
       "99998                                                0.0                   \n",
       "99999                                                0.0                   \n",
       "\n",
       "       buildingblock1_smiles_CC(OC(C)(C)C)C(NC(=O)OCC1c2ccccc2-c2ccccc21)C(=O)O  \\\n",
       "0                                                    0.0                          \n",
       "1                                                    0.0                          \n",
       "2                                                    0.0                          \n",
       "3                                                    0.0                          \n",
       "4                                                    0.0                          \n",
       "...                                                  ...                          \n",
       "99995                                                0.0                          \n",
       "99996                                                0.0                          \n",
       "99997                                                0.0                          \n",
       "99998                                                0.0                          \n",
       "99999                                                0.0                          \n",
       "\n",
       "       buildingblock1_smiles_Cc1c(Br)ccc(C(=O)O)c1NC(=O)OCC1c2ccccc2-c2ccccc21  \\\n",
       "0                                                    0.0                         \n",
       "1                                                    0.0                         \n",
       "2                                                    0.0                         \n",
       "3                                                    0.0                         \n",
       "4                                                    0.0                         \n",
       "...                                                  ...                         \n",
       "99995                                                0.0                         \n",
       "99996                                                0.0                         \n",
       "99997                                                0.0                         \n",
       "99998                                                0.0                         \n",
       "99999                                                0.0                         \n",
       "\n",
       "       buildingblock1_smiles_Cc1cc(C(=O)O)ccc1NC(=O)OCC1c2ccccc2-c2ccccc21  \\\n",
       "0                                                    0.0                     \n",
       "1                                                    0.0                     \n",
       "2                                                    0.0                     \n",
       "3                                                    0.0                     \n",
       "4                                                    0.0                     \n",
       "...                                                  ...                     \n",
       "99995                                                0.0                     \n",
       "99996                                                0.0                     \n",
       "99997                                                0.0                     \n",
       "99998                                                0.0                     \n",
       "99999                                                0.0                     \n",
       "\n",
       "       buildingblock1_smiles_Cc1cc(C)c(NC(=O)OCC2c3ccccc3-c3ccccc32)c(C(=O)O)c1  \\\n",
       "0                                                    0.0                          \n",
       "1                                                    0.0                          \n",
       "2                                                    0.0                          \n",
       "3                                                    0.0                          \n",
       "4                                                    0.0                          \n",
       "...                                                  ...                          \n",
       "99995                                                0.0                          \n",
       "99996                                                0.0                          \n",
       "99997                                                0.0                          \n",
       "99998                                                0.0                          \n",
       "99999                                                0.0                          \n",
       "\n",
       "       buildingblock1_smiles_Cc1cc(Cl)cc(C(=O)O)c1NC(=O)OCC1c2ccccc2-c2ccccc21  \\\n",
       "0                                                    0.0                         \n",
       "1                                                    0.0                         \n",
       "2                                                    0.0                         \n",
       "3                                                    0.0                         \n",
       "4                                                    0.0                         \n",
       "...                                                  ...                         \n",
       "99995                                                0.0                         \n",
       "99996                                                0.0                         \n",
       "99997                                                0.0                         \n",
       "99998                                                0.0                         \n",
       "99999                                                0.0                         \n",
       "\n",
       "       ...  buildingblock3_smiles_Nc1cncc(F)c1  \\\n",
       "0      ...                                 0.0   \n",
       "1      ...                                 0.0   \n",
       "2      ...                                 0.0   \n",
       "3      ...                                 0.0   \n",
       "4      ...                                 0.0   \n",
       "...    ...                                 ...   \n",
       "99995  ...                                 0.0   \n",
       "99996  ...                                 0.0   \n",
       "99997  ...                                 0.0   \n",
       "99998  ...                                 0.0   \n",
       "99999  ...                                 0.0   \n",
       "\n",
       "       buildingblock3_smiles_Nc1cncnc1  \\\n",
       "0                                  0.0   \n",
       "1                                  0.0   \n",
       "2                                  0.0   \n",
       "3                                  0.0   \n",
       "4                                  0.0   \n",
       "...                                ...   \n",
       "99995                              0.0   \n",
       "99996                              0.0   \n",
       "99997                              0.0   \n",
       "99998                              0.0   \n",
       "99999                              0.0   \n",
       "\n",
       "       buildingblock3_smiles_Nc1n[nH]c2cc(F)ccc12  \\\n",
       "0                                             0.0   \n",
       "1                                             0.0   \n",
       "2                                             0.0   \n",
       "3                                             0.0   \n",
       "4                                             0.0   \n",
       "...                                           ...   \n",
       "99995                                         0.0   \n",
       "99996                                         0.0   \n",
       "99997                                         0.0   \n",
       "99998                                         0.0   \n",
       "99999                                         0.0   \n",
       "\n",
       "       buildingblock3_smiles_Nc1n[nH]c2ccc([N+](=O)[O-])cc12  \\\n",
       "0                                                    0.0       \n",
       "1                                                    0.0       \n",
       "2                                                    0.0       \n",
       "3                                                    0.0       \n",
       "4                                                    0.0       \n",
       "...                                                  ...       \n",
       "99995                                                0.0       \n",
       "99996                                                0.0       \n",
       "99997                                                0.0       \n",
       "99998                                                0.0       \n",
       "99999                                                0.0       \n",
       "\n",
       "       buildingblock3_smiles_Nc1nc2c(Br)cccc2s1  \\\n",
       "0                                           0.0   \n",
       "1                                           0.0   \n",
       "2                                           0.0   \n",
       "3                                           0.0   \n",
       "4                                           0.0   \n",
       "...                                         ...   \n",
       "99995                                       0.0   \n",
       "99996                                       0.0   \n",
       "99997                                       0.0   \n",
       "99998                                       0.0   \n",
       "99999                                       0.0   \n",
       "\n",
       "       buildingblock3_smiles_Nc1nc2ccc(Cl)cc2s1  \\\n",
       "0                                           0.0   \n",
       "1                                           0.0   \n",
       "2                                           0.0   \n",
       "3                                           0.0   \n",
       "4                                           0.0   \n",
       "...                                         ...   \n",
       "99995                                       0.0   \n",
       "99996                                       0.0   \n",
       "99997                                       0.0   \n",
       "99998                                       0.0   \n",
       "99999                                       0.0   \n",
       "\n",
       "       buildingblock3_smiles_Nc1nc[nH]n1  \\\n",
       "0                                    0.0   \n",
       "1                                    0.0   \n",
       "2                                    0.0   \n",
       "3                                    0.0   \n",
       "4                                    0.0   \n",
       "...                                  ...   \n",
       "99995                                0.0   \n",
       "99996                                0.0   \n",
       "99997                                0.0   \n",
       "99998                                0.0   \n",
       "99999                                0.0   \n",
       "\n",
       "       buildingblock3_smiles_Nc1ncnc2[nH]cnc12  \\\n",
       "0                                          0.0   \n",
       "1                                          0.0   \n",
       "2                                          0.0   \n",
       "3                                          0.0   \n",
       "4                                          0.0   \n",
       "...                                        ...   \n",
       "99995                                      0.0   \n",
       "99996                                      0.0   \n",
       "99997                                      0.0   \n",
       "99998                                      0.0   \n",
       "99999                                      0.0   \n",
       "\n",
       "       buildingblock3_smiles_Nc1ncnc2[nH]ncc12  \\\n",
       "0                                          0.0   \n",
       "1                                          0.0   \n",
       "2                                          0.0   \n",
       "3                                          0.0   \n",
       "4                                          0.0   \n",
       "...                                        ...   \n",
       "99995                                      0.0   \n",
       "99996                                      0.0   \n",
       "99997                                      0.0   \n",
       "99998                                      0.0   \n",
       "99999                                      0.0   \n",
       "\n",
       "       buildingblock3_smiles_Nc1nnn[nH]1  \n",
       "0                                    0.0  \n",
       "1                                    0.0  \n",
       "2                                    0.0  \n",
       "3                                    0.0  \n",
       "4                                    0.0  \n",
       "...                                  ...  \n",
       "99995                                0.0  \n",
       "99996                                0.0  \n",
       "99997                                0.0  \n",
       "99998                                0.0  \n",
       "99999                                0.0  \n",
       "\n",
       "[100000 rows x 150 columns]"
      ]
     },
     "execution_count": 25,
     "metadata": {},
     "output_type": "execute_result"
    }
   ],
   "source": [
    "colineal_hsa"
   ]
  },
  {
   "cell_type": "markdown",
   "metadata": {},
   "source": [
    "Finalmente nos quedaremos con esta nueva base, `colineal_hsa`."
   ]
  },
  {
   "cell_type": "code",
   "execution_count": 26,
   "metadata": {},
   "outputs": [],
   "source": [
    "colineal_hsa.to_csv('datatrainhsa.csv', index=False)"
   ]
  },
  {
   "cell_type": "markdown",
   "metadata": {},
   "source": [
    "## Base de datos de prueba"
   ]
  },
  {
   "cell_type": "markdown",
   "metadata": {},
   "source": [
    "Primero, importamos el conjunto de datos de nuestro interés."
   ]
  },
  {
   "cell_type": "code",
   "execution_count": 28,
   "metadata": {},
   "outputs": [],
   "source": [
    "data_test = pd.read_csv(\"C:/Users/valcd/Downloads/leash-BELKA/test.csv\")"
   ]
  },
  {
   "cell_type": "code",
   "execution_count": 29,
   "metadata": {},
   "outputs": [
    {
     "data": {
      "text/html": [
       "<div>\n",
       "<style scoped>\n",
       "    .dataframe tbody tr th:only-of-type {\n",
       "        vertical-align: middle;\n",
       "    }\n",
       "\n",
       "    .dataframe tbody tr th {\n",
       "        vertical-align: top;\n",
       "    }\n",
       "\n",
       "    .dataframe thead th {\n",
       "        text-align: right;\n",
       "    }\n",
       "</style>\n",
       "<table border=\"1\" class=\"dataframe\">\n",
       "  <thead>\n",
       "    <tr style=\"text-align: right;\">\n",
       "      <th></th>\n",
       "      <th>id</th>\n",
       "      <th>buildingblock1_smiles</th>\n",
       "      <th>buildingblock2_smiles</th>\n",
       "      <th>buildingblock3_smiles</th>\n",
       "      <th>molecule_smiles</th>\n",
       "      <th>protein_name</th>\n",
       "    </tr>\n",
       "  </thead>\n",
       "  <tbody>\n",
       "    <tr>\n",
       "      <th>0</th>\n",
       "      <td>295246830</td>\n",
       "      <td>C#CCCC[C@H](NC(=O)OCC1c2ccccc2-c2ccccc21)C(=O)O</td>\n",
       "      <td>C=Cc1ccc(N)cc1</td>\n",
       "      <td>C=Cc1ccc(N)cc1</td>\n",
       "      <td>C#CCCC[C@H](Nc1nc(Nc2ccc(C=C)cc2)nc(Nc2ccc(C=C...</td>\n",
       "      <td>BRD4</td>\n",
       "    </tr>\n",
       "    <tr>\n",
       "      <th>1</th>\n",
       "      <td>295246831</td>\n",
       "      <td>C#CCCC[C@H](NC(=O)OCC1c2ccccc2-c2ccccc21)C(=O)O</td>\n",
       "      <td>C=Cc1ccc(N)cc1</td>\n",
       "      <td>C=Cc1ccc(N)cc1</td>\n",
       "      <td>C#CCCC[C@H](Nc1nc(Nc2ccc(C=C)cc2)nc(Nc2ccc(C=C...</td>\n",
       "      <td>HSA</td>\n",
       "    </tr>\n",
       "    <tr>\n",
       "      <th>2</th>\n",
       "      <td>295246832</td>\n",
       "      <td>C#CCCC[C@H](NC(=O)OCC1c2ccccc2-c2ccccc21)C(=O)O</td>\n",
       "      <td>C=Cc1ccc(N)cc1</td>\n",
       "      <td>C=Cc1ccc(N)cc1</td>\n",
       "      <td>C#CCCC[C@H](Nc1nc(Nc2ccc(C=C)cc2)nc(Nc2ccc(C=C...</td>\n",
       "      <td>sEH</td>\n",
       "    </tr>\n",
       "    <tr>\n",
       "      <th>3</th>\n",
       "      <td>295246833</td>\n",
       "      <td>C#CCCC[C@H](NC(=O)OCC1c2ccccc2-c2ccccc21)C(=O)O</td>\n",
       "      <td>C=Cc1ccc(N)cc1</td>\n",
       "      <td>CC(O)Cn1cnc2c(N)ncnc21</td>\n",
       "      <td>C#CCCC[C@H](Nc1nc(Nc2ccc(C=C)cc2)nc(Nc2ncnc3c2...</td>\n",
       "      <td>BRD4</td>\n",
       "    </tr>\n",
       "    <tr>\n",
       "      <th>4</th>\n",
       "      <td>295246834</td>\n",
       "      <td>C#CCCC[C@H](NC(=O)OCC1c2ccccc2-c2ccccc21)C(=O)O</td>\n",
       "      <td>C=Cc1ccc(N)cc1</td>\n",
       "      <td>CC(O)Cn1cnc2c(N)ncnc21</td>\n",
       "      <td>C#CCCC[C@H](Nc1nc(Nc2ccc(C=C)cc2)nc(Nc2ncnc3c2...</td>\n",
       "      <td>HSA</td>\n",
       "    </tr>\n",
       "    <tr>\n",
       "      <th>...</th>\n",
       "      <td>...</td>\n",
       "      <td>...</td>\n",
       "      <td>...</td>\n",
       "      <td>...</td>\n",
       "      <td>...</td>\n",
       "      <td>...</td>\n",
       "    </tr>\n",
       "    <tr>\n",
       "      <th>1674891</th>\n",
       "      <td>296921721</td>\n",
       "      <td>[N-]=[N+]=NCCC[C@H](NC(=O)OCC1c2ccccc2-c2ccccc...</td>\n",
       "      <td>Nc1noc2ccc(F)cc12</td>\n",
       "      <td>COC1CCC(CCN)CC1</td>\n",
       "      <td>COC1CCC(CCNc2nc(Nc3noc4ccc(F)cc34)nc(N[C@@H](C...</td>\n",
       "      <td>HSA</td>\n",
       "    </tr>\n",
       "    <tr>\n",
       "      <th>1674892</th>\n",
       "      <td>296921722</td>\n",
       "      <td>[N-]=[N+]=NCCC[C@H](NC(=O)OCC1c2ccccc2-c2ccccc...</td>\n",
       "      <td>Nc1noc2ccc(F)cc12</td>\n",
       "      <td>COC1CCC(CCN)CC1</td>\n",
       "      <td>COC1CCC(CCNc2nc(Nc3noc4ccc(F)cc34)nc(N[C@@H](C...</td>\n",
       "      <td>sEH</td>\n",
       "    </tr>\n",
       "    <tr>\n",
       "      <th>1674893</th>\n",
       "      <td>296921723</td>\n",
       "      <td>[N-]=[N+]=NCCC[C@H](NC(=O)OCC1c2ccccc2-c2ccccc...</td>\n",
       "      <td>Nc1noc2ccc(F)cc12</td>\n",
       "      <td>NCc1cccs1</td>\n",
       "      <td>[N-]=[N+]=NCCC[C@H](Nc1nc(NCc2cccs2)nc(Nc2noc3...</td>\n",
       "      <td>BRD4</td>\n",
       "    </tr>\n",
       "    <tr>\n",
       "      <th>1674894</th>\n",
       "      <td>296921724</td>\n",
       "      <td>[N-]=[N+]=NCCC[C@H](NC(=O)OCC1c2ccccc2-c2ccccc...</td>\n",
       "      <td>Nc1noc2ccc(F)cc12</td>\n",
       "      <td>NCc1cccs1</td>\n",
       "      <td>[N-]=[N+]=NCCC[C@H](Nc1nc(NCc2cccs2)nc(Nc2noc3...</td>\n",
       "      <td>HSA</td>\n",
       "    </tr>\n",
       "    <tr>\n",
       "      <th>1674895</th>\n",
       "      <td>296921725</td>\n",
       "      <td>[N-]=[N+]=NCCC[C@H](NC(=O)OCC1c2ccccc2-c2ccccc...</td>\n",
       "      <td>Nc1noc2ccc(F)cc12</td>\n",
       "      <td>NCc1cccs1</td>\n",
       "      <td>[N-]=[N+]=NCCC[C@H](Nc1nc(NCc2cccs2)nc(Nc2noc3...</td>\n",
       "      <td>sEH</td>\n",
       "    </tr>\n",
       "  </tbody>\n",
       "</table>\n",
       "<p>1674896 rows × 6 columns</p>\n",
       "</div>"
      ],
      "text/plain": [
       "                id                              buildingblock1_smiles  \\\n",
       "0        295246830    C#CCCC[C@H](NC(=O)OCC1c2ccccc2-c2ccccc21)C(=O)O   \n",
       "1        295246831    C#CCCC[C@H](NC(=O)OCC1c2ccccc2-c2ccccc21)C(=O)O   \n",
       "2        295246832    C#CCCC[C@H](NC(=O)OCC1c2ccccc2-c2ccccc21)C(=O)O   \n",
       "3        295246833    C#CCCC[C@H](NC(=O)OCC1c2ccccc2-c2ccccc21)C(=O)O   \n",
       "4        295246834    C#CCCC[C@H](NC(=O)OCC1c2ccccc2-c2ccccc21)C(=O)O   \n",
       "...            ...                                                ...   \n",
       "1674891  296921721  [N-]=[N+]=NCCC[C@H](NC(=O)OCC1c2ccccc2-c2ccccc...   \n",
       "1674892  296921722  [N-]=[N+]=NCCC[C@H](NC(=O)OCC1c2ccccc2-c2ccccc...   \n",
       "1674893  296921723  [N-]=[N+]=NCCC[C@H](NC(=O)OCC1c2ccccc2-c2ccccc...   \n",
       "1674894  296921724  [N-]=[N+]=NCCC[C@H](NC(=O)OCC1c2ccccc2-c2ccccc...   \n",
       "1674895  296921725  [N-]=[N+]=NCCC[C@H](NC(=O)OCC1c2ccccc2-c2ccccc...   \n",
       "\n",
       "        buildingblock2_smiles   buildingblock3_smiles  \\\n",
       "0              C=Cc1ccc(N)cc1          C=Cc1ccc(N)cc1   \n",
       "1              C=Cc1ccc(N)cc1          C=Cc1ccc(N)cc1   \n",
       "2              C=Cc1ccc(N)cc1          C=Cc1ccc(N)cc1   \n",
       "3              C=Cc1ccc(N)cc1  CC(O)Cn1cnc2c(N)ncnc21   \n",
       "4              C=Cc1ccc(N)cc1  CC(O)Cn1cnc2c(N)ncnc21   \n",
       "...                       ...                     ...   \n",
       "1674891     Nc1noc2ccc(F)cc12         COC1CCC(CCN)CC1   \n",
       "1674892     Nc1noc2ccc(F)cc12         COC1CCC(CCN)CC1   \n",
       "1674893     Nc1noc2ccc(F)cc12               NCc1cccs1   \n",
       "1674894     Nc1noc2ccc(F)cc12               NCc1cccs1   \n",
       "1674895     Nc1noc2ccc(F)cc12               NCc1cccs1   \n",
       "\n",
       "                                           molecule_smiles protein_name  \n",
       "0        C#CCCC[C@H](Nc1nc(Nc2ccc(C=C)cc2)nc(Nc2ccc(C=C...         BRD4  \n",
       "1        C#CCCC[C@H](Nc1nc(Nc2ccc(C=C)cc2)nc(Nc2ccc(C=C...          HSA  \n",
       "2        C#CCCC[C@H](Nc1nc(Nc2ccc(C=C)cc2)nc(Nc2ccc(C=C...          sEH  \n",
       "3        C#CCCC[C@H](Nc1nc(Nc2ccc(C=C)cc2)nc(Nc2ncnc3c2...         BRD4  \n",
       "4        C#CCCC[C@H](Nc1nc(Nc2ccc(C=C)cc2)nc(Nc2ncnc3c2...          HSA  \n",
       "...                                                    ...          ...  \n",
       "1674891  COC1CCC(CCNc2nc(Nc3noc4ccc(F)cc34)nc(N[C@@H](C...          HSA  \n",
       "1674892  COC1CCC(CCNc2nc(Nc3noc4ccc(F)cc34)nc(N[C@@H](C...          sEH  \n",
       "1674893  [N-]=[N+]=NCCC[C@H](Nc1nc(NCc2cccs2)nc(Nc2noc3...         BRD4  \n",
       "1674894  [N-]=[N+]=NCCC[C@H](Nc1nc(NCc2cccs2)nc(Nc2noc3...          HSA  \n",
       "1674895  [N-]=[N+]=NCCC[C@H](Nc1nc(NCc2cccs2)nc(Nc2noc3...          sEH  \n",
       "\n",
       "[1674896 rows x 6 columns]"
      ]
     },
     "execution_count": 29,
     "metadata": {},
     "output_type": "execute_result"
    }
   ],
   "source": [
    "data_test"
   ]
  },
  {
   "cell_type": "markdown",
   "metadata": {},
   "source": [
    "Podemos observar que este conjunto de datos contiene menos observaciones que `train`, específicamente 1674896 observaciones y 6 columnas. \n",
    "\n",
    "Comparada con la base de entrenamiento, la de prueba no cuenta con nuestra variable objetivo `binds` por lo que no resultará útil en el modelo."
   ]
  }
 ],
 "metadata": {
  "kernelspec": {
   "display_name": "ml_venv",
   "language": "python",
   "name": "python3"
  },
  "language_info": {
   "codemirror_mode": {
    "name": "ipython",
    "version": 3
   },
   "file_extension": ".py",
   "mimetype": "text/x-python",
   "name": "python",
   "nbconvert_exporter": "python",
   "pygments_lexer": "ipython3",
   "version": "3.9.19"
  }
 },
 "nbformat": 4,
 "nbformat_minor": 2
}