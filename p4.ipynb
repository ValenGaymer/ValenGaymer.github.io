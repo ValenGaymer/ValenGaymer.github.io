{
 "cells": [
  {
   "cell_type": "markdown",
   "metadata": {},
   "source": [
    "Modelos de Regresión (1.0 puntos). Considere el conjunto de datos Open Problems – Single-Cell\n",
    "Perturbations. Implemente la versión de regresión de cada uno de los modelos estudiados en clases,\n",
    "esto es KNN y Regresión Lineal en el conjunto de datos suministrado. Construir una tabla de error\n",
    "con las métricas usuales de regresión, MAPE, MAE, RMSE, MSE, R2 (ver Table 2). Utilice la métrica\n",
    "Mean Rowwise Root Mean Squared Error (MRRMSE) en la evaluación y validación, para seleccionar el\n",
    "mejor modelo de regresión."
   ]
  }
 ],
 "metadata": {
  "language_info": {
   "name": "python"
  }
 },
 "nbformat": 4,
 "nbformat_minor": 2
}
