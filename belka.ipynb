{
 "cells": [
  {
   "cell_type": "markdown",
   "metadata": {},
   "source": [
    "EDA + ETL (2.0 puntos). Dado los siguientes conjuntos de datos NeurIPS 2024 - Predict New\n",
    "Medicines with BELKA y Open Problems – Single-Cell Perturbations, realizar un análisis exploratorio\n",
    "de datos el cual incluya lo siguiente:\n",
    "Análisis del problema de aplicación. Realice un resumen describiendo la importancia del problema, en que consiste y la fuente de los datos. Realice descripción del tipos de variables, calcular\n",
    "número de observaciones, media, desviación estándar, mínimo, máximo, cuartiles, realizar conteo\n",
    "de datos faltantes y su porcentaje, histograma o diagrama de barras para la variable respuesta\n",
    "e independientes según corresponda. Análisis de simetría, datos atípicos y dispersión, etc,... por\n",
    "medio de boxplot(). Análisis bivariado. Trazado de scatterplot() y regplot(). En cada figura agregar un análisis y descripción. Complemente el EDA con visualizaciones que muestren patrones\n",
    "importantes presentes en los datos.\n",
    "Según corresponda, realizar imputación de datos faltantes usando imputación múltiple iteraticva (ver IterativeImputer()).Realizar reducción de dimensionalidad por medio de eliminiación de\n",
    "columnas altamente correlacionadas usando Variance Inflation Factor (VIF). Para esto se recomienda usar la siguiente librería variance_inflation_factor(). Un V IF ≥ 10 indica alta multicolinealidad entre una variable independiente y mas de dos variables explicativas. Recomendación:\n",
    "Eliminar una columna a la vez. Aquella con el máximo V IF ≥ 10. Luego, para el nuevo pandas,\n",
    "calcular nuevamente VIF e identificar nuevas columnas con V IF ≥ 10 máximo, y así sucesivamente hasta obtener solo valores de V IF < 10. Según corresponda, variables categóricas deben\n",
    "previamente codificarse usando por ejemplo OneHotEncoder() ver por ejemplo Aplicación: Titanic\n",
    "Dataset. Pueden mantener las variables categóricas antes de la codificación previa al entrenamiento del modelo y reducir multicolinealidad usando la prueba chi2_contingency(). Si el número de\n",
    "variables explicativas es pequeño y además, cada una de las variables son de gran importancia\n",
    "para explicar las predicciones, una alternativa correcta es mantenerlas todas. Como Científico de\n",
    "Datos, tome la decisión más adecuada y justifíquela."
   ]
  }
 ],
 "metadata": {
  "language_info": {
   "name": "python"
  }
 },
 "nbformat": 4,
 "nbformat_minor": 2
}
